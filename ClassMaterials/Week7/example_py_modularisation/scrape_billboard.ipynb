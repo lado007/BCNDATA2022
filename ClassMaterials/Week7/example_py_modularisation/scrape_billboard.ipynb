{
 "cells": [
  {
   "cell_type": "code",
   "execution_count": 8,
   "metadata": {},
   "outputs": [],
   "source": [
    "# scrape_billboard() scrapes the Billboard's Hot 100 and retrieves the songs name &\n",
    "# artist, as well as the last week ranks, the peak rank and the weeks on chart\n",
    "\n",
    "def scrape_billboard():\n",
    "    # 1. import libraries\n",
    "    from bs4 import BeautifulSoup\n",
    "    import requests\n",
    "    import pandas as pd\n",
    "    \n",
    "    # 2. find url and store it in a variable\n",
    "    url = \"https://www.billboard.com/charts/hot-100\"\n",
    "    \n",
    "    # 3. download html with a get request\n",
    "    response = requests.get(url)\n",
    "    if response.status_code != 200:\n",
    "        print(\"Scraping failed. Status code \" + str(response.status_code))\n",
    "    \n",
    "    # 4. parse html (create the 'soup')\n",
    "    soup = BeautifulSoup(response.content, \"html.parser\")\n",
    "    soup.select(\"#main > div > span > div > div > div.lister > table > tbody > tr:nth-child(1) > td.titleColumn > a\")\n",
    "\n",
    "    # 5. retrieve/extract the desired info\n",
    "    # song titles\n",
    "    songs = soup.find_all(\"span\", class_=\"chart-element__information__song text--truncate color--primary\")\n",
    "    # artists\n",
    "    artists = soup.find_all(\"span\", class_=\"chart-element__information__artist text--truncate color--secondary\")\n",
    "    # last week\n",
    "    last_week_ranks = soup.find_all(\"span\", class_= \"chart-element__meta text--center color--secondary text--last\")\n",
    "    # peak rank\n",
    "    peak_ranks = soup.find_all(\"span\", class_= \"chart-element__meta text--center color--secondary text--peak\")\n",
    "    # weeks on chart\n",
    "    weeks_on_chart = soup.find_all(\"span\", class_= \"chart-element__meta text--center color--secondary text--week\")\n",
    "\n",
    "    for i in [songs, artists, last_week_ranks, peak_ranks, weeks_on_chart]:\n",
    "        for j in range(len(i)):\n",
    "            i[j] = i[j].getText()\n",
    "        \n",
    "    billboard = pd.DataFrame(\n",
    "        {\"song\": songs,\n",
    "         \"artist\": artists,\n",
    "         \"last_week_rank\": last_week_ranks,\n",
    "         \"peak_rank\": peak_ranks,\n",
    "         \"weeks_on_chart\": weeks_on_chart})\n",
    "    return billboard"
   ]
  }
 ],
 "metadata": {
  "kernelspec": {
   "display_name": "Python 3 (ipykernel)",
   "language": "python",
   "name": "python3"
  },
  "language_info": {
   "codemirror_mode": {
    "name": "ipython",
    "version": 3
   },
   "file_extension": ".py",
   "mimetype": "text/x-python",
   "name": "python",
   "nbconvert_exporter": "python",
   "pygments_lexer": "ipython3",
   "version": "3.9.7"
  },
  "toc": {
   "base_numbering": 1,
   "nav_menu": {},
   "number_sections": true,
   "sideBar": true,
   "skip_h1_title": false,
   "title_cell": "Table of Contents",
   "title_sidebar": "Contents",
   "toc_cell": false,
   "toc_position": {},
   "toc_section_display": true,
   "toc_window_display": false
  },
  "varInspector": {
   "cols": {
    "lenName": 16,
    "lenType": 16,
    "lenVar": 40
   },
   "kernels_config": {
    "python": {
     "delete_cmd_postfix": "",
     "delete_cmd_prefix": "del ",
     "library": "var_list.py",
     "varRefreshCmd": "print(var_dic_list())"
    },
    "r": {
     "delete_cmd_postfix": ") ",
     "delete_cmd_prefix": "rm(",
     "library": "var_list.r",
     "varRefreshCmd": "cat(var_dic_list()) "
    }
   },
   "types_to_exclude": [
    "module",
    "function",
    "builtin_function_or_method",
    "instance",
    "_Feature"
   ],
   "window_display": false
  }
 },
 "nbformat": 4,
 "nbformat_minor": 4
}
