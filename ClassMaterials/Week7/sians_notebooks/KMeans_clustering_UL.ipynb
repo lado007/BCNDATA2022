{
 "cells": [
  {
   "cell_type": "code",
   "execution_count": 1,
   "id": "a43d8378",
   "metadata": {},
   "outputs": [],
   "source": [
    "import pandas as pd \n",
    "import matplotlib.pyplot as plt\n",
    "import seaborn as sns \n",
    "from sklearn.cluster import KMeans"
   ]
  },
  {
   "cell_type": "markdown",
   "id": "6b0603ce",
   "metadata": {},
   "source": [
    "# get data "
   ]
  },
  {
   "cell_type": "code",
   "execution_count": 2,
   "id": "2f5f8ec2",
   "metadata": {},
   "outputs": [
    {
     "name": "stdout",
     "output_type": "stream",
     "text": [
      "/Users/siandavies/Documents/GitHub/BCNDATA2022/ClassMaterials/Week7\n"
     ]
    }
   ],
   "source": [
    "cd .."
   ]
  },
  {
   "cell_type": "code",
   "execution_count": 3,
   "id": "22b33a20",
   "metadata": {},
   "outputs": [
    {
     "name": "stdout",
     "output_type": "stream",
     "text": [
      "\u001b[34mDatasources\u001b[m\u001b[m/               gnod_2nd_prototype.jpg\r\n",
      "MVP_flowchart_eg.pdf       readme.md\r\n",
      "\u001b[34mexample_py_modularisation\u001b[m\u001b[m/ \u001b[34msians_notebooks\u001b[m\u001b[m/\r\n",
      "gnod_1st_iteration.jpg\r\n"
     ]
    }
   ],
   "source": [
    "ls"
   ]
  },
  {
   "cell_type": "code",
   "execution_count": 4,
   "id": "1ebc2935",
   "metadata": {},
   "outputs": [
    {
     "name": "stdout",
     "output_type": "stream",
     "text": [
      "/Users/siandavies/Documents/GitHub/BCNDATA2022/ClassMaterials/Week7/Datasources\n"
     ]
    }
   ],
   "source": [
    "cd Datasources/"
   ]
  },
  {
   "cell_type": "code",
   "execution_count": 5,
   "id": "6122dae9",
   "metadata": {},
   "outputs": [
    {
     "name": "stdout",
     "output_type": "stream",
     "text": [
      "Spotify-2000.csv  code.html         geography.txt\r\n",
      "USArrests.csv     dormouse.html\r\n"
     ]
    }
   ],
   "source": [
    "ls"
   ]
  },
  {
   "cell_type": "code",
   "execution_count": 22,
   "id": "03cce543",
   "metadata": {},
   "outputs": [],
   "source": [
    "arrests=pd.read_csv('USArrests.csv')"
   ]
  },
  {
   "cell_type": "code",
   "execution_count": 23,
   "id": "c1853a5b",
   "metadata": {},
   "outputs": [
    {
     "data": {
      "text/html": [
       "<div>\n",
       "<style scoped>\n",
       "    .dataframe tbody tr th:only-of-type {\n",
       "        vertical-align: middle;\n",
       "    }\n",
       "\n",
       "    .dataframe tbody tr th {\n",
       "        vertical-align: top;\n",
       "    }\n",
       "\n",
       "    .dataframe thead th {\n",
       "        text-align: right;\n",
       "    }\n",
       "</style>\n",
       "<table border=\"1\" class=\"dataframe\">\n",
       "  <thead>\n",
       "    <tr style=\"text-align: right;\">\n",
       "      <th></th>\n",
       "      <th>Unnamed: 0</th>\n",
       "      <th>Murder</th>\n",
       "      <th>Assault</th>\n",
       "      <th>UrbanPop</th>\n",
       "      <th>Rape</th>\n",
       "    </tr>\n",
       "  </thead>\n",
       "  <tbody>\n",
       "    <tr>\n",
       "      <th>0</th>\n",
       "      <td>Alabama</td>\n",
       "      <td>13.2</td>\n",
       "      <td>236</td>\n",
       "      <td>58</td>\n",
       "      <td>21.2</td>\n",
       "    </tr>\n",
       "    <tr>\n",
       "      <th>1</th>\n",
       "      <td>Alaska</td>\n",
       "      <td>10.0</td>\n",
       "      <td>263</td>\n",
       "      <td>48</td>\n",
       "      <td>44.5</td>\n",
       "    </tr>\n",
       "    <tr>\n",
       "      <th>2</th>\n",
       "      <td>Arizona</td>\n",
       "      <td>8.1</td>\n",
       "      <td>294</td>\n",
       "      <td>80</td>\n",
       "      <td>31.0</td>\n",
       "    </tr>\n",
       "    <tr>\n",
       "      <th>3</th>\n",
       "      <td>Arkansas</td>\n",
       "      <td>8.8</td>\n",
       "      <td>190</td>\n",
       "      <td>50</td>\n",
       "      <td>19.5</td>\n",
       "    </tr>\n",
       "    <tr>\n",
       "      <th>4</th>\n",
       "      <td>California</td>\n",
       "      <td>9.0</td>\n",
       "      <td>276</td>\n",
       "      <td>91</td>\n",
       "      <td>40.6</td>\n",
       "    </tr>\n",
       "  </tbody>\n",
       "</table>\n",
       "</div>"
      ],
      "text/plain": [
       "   Unnamed: 0  Murder  Assault  UrbanPop  Rape\n",
       "0     Alabama    13.2      236        58  21.2\n",
       "1      Alaska    10.0      263        48  44.5\n",
       "2     Arizona     8.1      294        80  31.0\n",
       "3    Arkansas     8.8      190        50  19.5\n",
       "4  California     9.0      276        91  40.6"
      ]
     },
     "execution_count": 23,
     "metadata": {},
     "output_type": "execute_result"
    }
   ],
   "source": [
    "arrests.head()"
   ]
  },
  {
   "cell_type": "markdown",
   "id": "e5ceb044",
   "metadata": {},
   "source": [
    "# Explore EDA of arrests "
   ]
  },
  {
   "cell_type": "code",
   "execution_count": 11,
   "id": "12f2e413",
   "metadata": {},
   "outputs": [
    {
     "name": "stdout",
     "output_type": "stream",
     "text": [
      "<class 'pandas.core.frame.DataFrame'>\n",
      "RangeIndex: 50 entries, 0 to 49\n",
      "Data columns (total 5 columns):\n",
      " #   Column      Non-Null Count  Dtype  \n",
      "---  ------      --------------  -----  \n",
      " 0   Unnamed: 0  50 non-null     object \n",
      " 1   Murder      50 non-null     float64\n",
      " 2   Assault     50 non-null     int64  \n",
      " 3   UrbanPop    50 non-null     int64  \n",
      " 4   Rape        50 non-null     float64\n",
      "dtypes: float64(2), int64(2), object(1)\n",
      "memory usage: 2.1+ KB\n"
     ]
    }
   ],
   "source": [
    "arrests.info()"
   ]
  },
  {
   "cell_type": "code",
   "execution_count": 12,
   "id": "c3e8f8bc",
   "metadata": {},
   "outputs": [
    {
     "data": {
      "text/html": [
       "<div>\n",
       "<style scoped>\n",
       "    .dataframe tbody tr th:only-of-type {\n",
       "        vertical-align: middle;\n",
       "    }\n",
       "\n",
       "    .dataframe tbody tr th {\n",
       "        vertical-align: top;\n",
       "    }\n",
       "\n",
       "    .dataframe thead th {\n",
       "        text-align: right;\n",
       "    }\n",
       "</style>\n",
       "<table border=\"1\" class=\"dataframe\">\n",
       "  <thead>\n",
       "    <tr style=\"text-align: right;\">\n",
       "      <th></th>\n",
       "      <th>Murder</th>\n",
       "      <th>Assault</th>\n",
       "      <th>UrbanPop</th>\n",
       "      <th>Rape</th>\n",
       "    </tr>\n",
       "  </thead>\n",
       "  <tbody>\n",
       "    <tr>\n",
       "      <th>count</th>\n",
       "      <td>50.00000</td>\n",
       "      <td>50.000000</td>\n",
       "      <td>50.000000</td>\n",
       "      <td>50.000000</td>\n",
       "    </tr>\n",
       "    <tr>\n",
       "      <th>mean</th>\n",
       "      <td>7.78800</td>\n",
       "      <td>170.760000</td>\n",
       "      <td>65.540000</td>\n",
       "      <td>21.232000</td>\n",
       "    </tr>\n",
       "    <tr>\n",
       "      <th>std</th>\n",
       "      <td>4.35551</td>\n",
       "      <td>83.337661</td>\n",
       "      <td>14.474763</td>\n",
       "      <td>9.366385</td>\n",
       "    </tr>\n",
       "    <tr>\n",
       "      <th>min</th>\n",
       "      <td>0.80000</td>\n",
       "      <td>45.000000</td>\n",
       "      <td>32.000000</td>\n",
       "      <td>7.300000</td>\n",
       "    </tr>\n",
       "    <tr>\n",
       "      <th>25%</th>\n",
       "      <td>4.07500</td>\n",
       "      <td>109.000000</td>\n",
       "      <td>54.500000</td>\n",
       "      <td>15.075000</td>\n",
       "    </tr>\n",
       "    <tr>\n",
       "      <th>50%</th>\n",
       "      <td>7.25000</td>\n",
       "      <td>159.000000</td>\n",
       "      <td>66.000000</td>\n",
       "      <td>20.100000</td>\n",
       "    </tr>\n",
       "    <tr>\n",
       "      <th>75%</th>\n",
       "      <td>11.25000</td>\n",
       "      <td>249.000000</td>\n",
       "      <td>77.750000</td>\n",
       "      <td>26.175000</td>\n",
       "    </tr>\n",
       "    <tr>\n",
       "      <th>max</th>\n",
       "      <td>17.40000</td>\n",
       "      <td>337.000000</td>\n",
       "      <td>91.000000</td>\n",
       "      <td>46.000000</td>\n",
       "    </tr>\n",
       "  </tbody>\n",
       "</table>\n",
       "</div>"
      ],
      "text/plain": [
       "         Murder     Assault   UrbanPop       Rape\n",
       "count  50.00000   50.000000  50.000000  50.000000\n",
       "mean    7.78800  170.760000  65.540000  21.232000\n",
       "std     4.35551   83.337661  14.474763   9.366385\n",
       "min     0.80000   45.000000  32.000000   7.300000\n",
       "25%     4.07500  109.000000  54.500000  15.075000\n",
       "50%     7.25000  159.000000  66.000000  20.100000\n",
       "75%    11.25000  249.000000  77.750000  26.175000\n",
       "max    17.40000  337.000000  91.000000  46.000000"
      ]
     },
     "execution_count": 12,
     "metadata": {},
     "output_type": "execute_result"
    }
   ],
   "source": [
    "arrests.describe()"
   ]
  },
  {
   "cell_type": "code",
   "execution_count": 14,
   "id": "53575278",
   "metadata": {},
   "outputs": [
    {
     "data": {
      "image/png": "[encoded data removed]",
      "text/plain": [
       "<Figure size 720x720 with 4 Axes>"
      ]
     },
     "metadata": {
      "needs_background": "light"
     },
     "output_type": "display_data"
    }
   ],
   "source": [
    "arrests.hist(bins=45, figsize=(10,10));"
   ]
  },
  {
   "cell_type": "markdown",
   "id": "43d56c9b",
   "metadata": {},
   "source": [
    "# prepare for K Means \n",
    "\n",
    "- everything must be numerical \n",
    "- ideally similar scales for all features "
   ]
  },
  {
   "cell_type": "code",
   "execution_count": 24,
   "id": "9e06f58d",
   "metadata": {},
   "outputs": [],
   "source": [
    "# move first column to index \n",
    "\n",
    "arrests.index=arrests.iloc[:,0] # move 1st column to index"
   ]
  },
  {
   "cell_type": "code",
   "execution_count": 25,
   "id": "908b5cee",
   "metadata": {},
   "outputs": [],
   "source": [
    "arrests=arrests.iloc[:,1:5] # keep only value columns"
   ]
  },
  {
   "cell_type": "markdown",
   "id": "be5df53a",
   "metadata": {},
   "source": [
    "iloc= index location \n",
    "select by index position \n",
    "0 ... \n",
    "\n",
    "iloc [ rows, columns ] "
   ]
  },
  {
   "cell_type": "code",
   "execution_count": 27,
   "id": "31cfda76",
   "metadata": {},
   "outputs": [],
   "source": [
    "arrests.rename_axis(None,inplace=True) #delete extra header index "
   ]
  },
  {
   "cell_type": "code",
   "execution_count": 28,
   "id": "dae5afda",
   "metadata": {},
   "outputs": [
    {
     "data": {
      "text/html": [
       "<div>\n",
       "<style scoped>\n",
       "    .dataframe tbody tr th:only-of-type {\n",
       "        vertical-align: middle;\n",
       "    }\n",
       "\n",
       "    .dataframe tbody tr th {\n",
       "        vertical-align: top;\n",
       "    }\n",
       "\n",
       "    .dataframe thead th {\n",
       "        text-align: right;\n",
       "    }\n",
       "</style>\n",
       "<table border=\"1\" class=\"dataframe\">\n",
       "  <thead>\n",
       "    <tr style=\"text-align: right;\">\n",
       "      <th></th>\n",
       "      <th>Murder</th>\n",
       "      <th>Assault</th>\n",
       "      <th>UrbanPop</th>\n",
       "      <th>Rape</th>\n",
       "    </tr>\n",
       "  </thead>\n",
       "  <tbody>\n",
       "    <tr>\n",
       "      <th>Alabama</th>\n",
       "      <td>13.2</td>\n",
       "      <td>236</td>\n",
       "      <td>58</td>\n",
       "      <td>21.2</td>\n",
       "    </tr>\n",
       "    <tr>\n",
       "      <th>Alaska</th>\n",
       "      <td>10.0</td>\n",
       "      <td>263</td>\n",
       "      <td>48</td>\n",
       "      <td>44.5</td>\n",
       "    </tr>\n",
       "    <tr>\n",
       "      <th>Arizona</th>\n",
       "      <td>8.1</td>\n",
       "      <td>294</td>\n",
       "      <td>80</td>\n",
       "      <td>31.0</td>\n",
       "    </tr>\n",
       "    <tr>\n",
       "      <th>Arkansas</th>\n",
       "      <td>8.8</td>\n",
       "      <td>190</td>\n",
       "      <td>50</td>\n",
       "      <td>19.5</td>\n",
       "    </tr>\n",
       "    <tr>\n",
       "      <th>California</th>\n",
       "      <td>9.0</td>\n",
       "      <td>276</td>\n",
       "      <td>91</td>\n",
       "      <td>40.6</td>\n",
       "    </tr>\n",
       "  </tbody>\n",
       "</table>\n",
       "</div>"
      ],
      "text/plain": [
       "            Murder  Assault  UrbanPop  Rape\n",
       "Alabama       13.2      236        58  21.2\n",
       "Alaska        10.0      263        48  44.5\n",
       "Arizona        8.1      294        80  31.0\n",
       "Arkansas       8.8      190        50  19.5\n",
       "California     9.0      276        91  40.6"
      ]
     },
     "execution_count": 28,
     "metadata": {},
     "output_type": "execute_result"
    }
   ],
   "source": [
    "arrests.head()"
   ]
  },
  {
   "cell_type": "code",
   "execution_count": 29,
   "id": "656fd426",
   "metadata": {},
   "outputs": [
    {
     "data": {
      "image/png": "[encoded data removed]",
      "text/plain": [
       "<Figure size 432x288 with 1 Axes>"
      ]
     },
     "metadata": {
      "needs_background": "light"
     },
     "output_type": "display_data"
    }
   ],
   "source": [
    "plt.scatter(arrests.iloc[:,0],arrests.iloc[:,3],arrests.iloc[:,2],arrests.iloc[:,1]); # x, y, size, colour"
   ]
  },
  {
   "cell_type": "markdown",
   "id": "c7e48fd6",
   "metadata": {},
   "source": [
    "# lets try the cluster "
   ]
  },
  {
   "cell_type": "code",
   "execution_count": 104,
   "id": "748e526e",
   "metadata": {},
   "outputs": [],
   "source": [
    "kmeans=KMeans(n_clusters=7, random_state=5)"
   ]
  },
  {
   "cell_type": "code",
   "execution_count": 105,
   "id": "5f1a3b42",
   "metadata": {},
   "outputs": [],
   "source": [
    "cluster=kmeans.fit(arrests)"
   ]
  },
  {
   "cell_type": "code",
   "execution_count": 106,
   "id": "54ed27e8",
   "metadata": {},
   "outputs": [
    {
     "data": {
      "text/plain": [
       "array([[  5.75      , 156.75      ,  74.        ,  19.4       ],\n",
       "       [ 12.975     , 271.5       ,  52.5       ,  29.05      ],\n",
       "       [  2.95      ,  62.7       ,  53.9       ,  11.51      ],\n",
       "       [  5.59      , 112.4       ,  65.6       ,  17.27      ],\n",
       "       [ 11.1625    , 251.125     ,  76.375     ,  28.875     ],\n",
       "       [ 11.95      , 316.5       ,  68.        ,  26.7       ],\n",
       "       [ 11.5       , 195.33333333,  66.16666667,  27.43333333]])"
      ]
     },
     "execution_count": 106,
     "metadata": {},
     "output_type": "execute_result"
    }
   ],
   "source": [
    "cluster.cluster_centers_"
   ]
  },
  {
   "cell_type": "code",
   "execution_count": 107,
   "id": "6c9ee730",
   "metadata": {},
   "outputs": [
    {
     "data": {
      "text/plain": [
       "array([4, 1, 5, 6, 4, 6, 3, 4, 5, 6, 2, 3, 4, 3, 2, 3, 3, 4, 2, 5, 0, 4,\n",
       "       2, 1, 6, 3, 3, 4, 2, 0, 1, 4, 5, 2, 3, 0, 0, 3, 0, 1, 2, 6, 6, 3,\n",
       "       2, 0, 0, 2, 2, 0], dtype=int32)"
      ]
     },
     "execution_count": 107,
     "metadata": {},
     "output_type": "execute_result"
    }
   ],
   "source": [
    "cluster.labels_"
   ]
  },
  {
   "cell_type": "code",
   "execution_count": 35,
   "id": "a02c74e2",
   "metadata": {},
   "outputs": [],
   "source": [
    "arrests['cluster']=cluster.labels_"
   ]
  },
  {
   "cell_type": "code",
   "execution_count": 36,
   "id": "a0eaae88",
   "metadata": {},
   "outputs": [
    {
     "data": {
      "text/html": [
       "<div>\n",
       "<style scoped>\n",
       "    .dataframe tbody tr th:only-of-type {\n",
       "        vertical-align: middle;\n",
       "    }\n",
       "\n",
       "    .dataframe tbody tr th {\n",
       "        vertical-align: top;\n",
       "    }\n",
       "\n",
       "    .dataframe thead th {\n",
       "        text-align: right;\n",
       "    }\n",
       "</style>\n",
       "<table border=\"1\" class=\"dataframe\">\n",
       "  <thead>\n",
       "    <tr style=\"text-align: right;\">\n",
       "      <th></th>\n",
       "      <th>Murder</th>\n",
       "      <th>Assault</th>\n",
       "      <th>UrbanPop</th>\n",
       "      <th>Rape</th>\n",
       "      <th>cluster</th>\n",
       "    </tr>\n",
       "  </thead>\n",
       "  <tbody>\n",
       "    <tr>\n",
       "      <th>Alabama</th>\n",
       "      <td>13.2</td>\n",
       "      <td>236</td>\n",
       "      <td>58</td>\n",
       "      <td>21.2</td>\n",
       "      <td>4</td>\n",
       "    </tr>\n",
       "    <tr>\n",
       "      <th>Alaska</th>\n",
       "      <td>10.0</td>\n",
       "      <td>263</td>\n",
       "      <td>48</td>\n",
       "      <td>44.5</td>\n",
       "      <td>1</td>\n",
       "    </tr>\n",
       "    <tr>\n",
       "      <th>Arizona</th>\n",
       "      <td>8.1</td>\n",
       "      <td>294</td>\n",
       "      <td>80</td>\n",
       "      <td>31.0</td>\n",
       "      <td>5</td>\n",
       "    </tr>\n",
       "    <tr>\n",
       "      <th>Arkansas</th>\n",
       "      <td>8.8</td>\n",
       "      <td>190</td>\n",
       "      <td>50</td>\n",
       "      <td>19.5</td>\n",
       "      <td>6</td>\n",
       "    </tr>\n",
       "    <tr>\n",
       "      <th>California</th>\n",
       "      <td>9.0</td>\n",
       "      <td>276</td>\n",
       "      <td>91</td>\n",
       "      <td>40.6</td>\n",
       "      <td>4</td>\n",
       "    </tr>\n",
       "  </tbody>\n",
       "</table>\n",
       "</div>"
      ],
      "text/plain": [
       "            Murder  Assault  UrbanPop  Rape  cluster\n",
       "Alabama       13.2      236        58  21.2        4\n",
       "Alaska        10.0      263        48  44.5        1\n",
       "Arizona        8.1      294        80  31.0        5\n",
       "Arkansas       8.8      190        50  19.5        6\n",
       "California     9.0      276        91  40.6        4"
      ]
     },
     "execution_count": 36,
     "metadata": {},
     "output_type": "execute_result"
    }
   ],
   "source": [
    "arrests.head()"
   ]
  },
  {
   "cell_type": "code",
   "execution_count": 37,
   "id": "789b4d6c",
   "metadata": {},
   "outputs": [
    {
     "data": {
      "text/plain": [
       "3    10\n",
       "2    10\n",
       "4     8\n",
       "0     8\n",
       "6     6\n",
       "1     4\n",
       "5     4\n",
       "Name: cluster, dtype: int64"
      ]
     },
     "execution_count": 37,
     "metadata": {},
     "output_type": "execute_result"
    }
   ],
   "source": [
    "arrests['cluster'].value_counts()"
   ]
  },
  {
   "cell_type": "markdown",
   "id": "04bb8145",
   "metadata": {},
   "source": [
    "# visualisation "
   ]
  },
  {
   "cell_type": "code",
   "execution_count": 15,
   "id": "64323810",
   "metadata": {},
   "outputs": [],
   "source": [
    "import plotly.graph_objs as go"
   ]
  },
  {
   "cell_type": "code",
   "execution_count": 39,
   "id": "c79b49f9",
   "metadata": {},
   "outputs": [
    {
     "data": {
      "text/plain": [
       "Index(['Murder', 'Assault', 'UrbanPop', 'Rape', 'cluster'], dtype='object')"
      ]
     },
     "execution_count": 39,
     "metadata": {},
     "output_type": "execute_result"
    }
   ],
   "source": [
    "arrests.columns"
   ]
  },
  {
   "cell_type": "code",
   "execution_count": 40,
   "id": "faad29db",
   "metadata": {},
   "outputs": [],
   "source": [
    "markersize= arrests['UrbanPop']\n",
    "markercolour= arrests['cluster']\n",
    "\n",
    "fig1=go.Scatter3d(x=arrests['Murder'],\n",
    "                  y=arrests['Rape'],\n",
    "                  z=arrests['Assault'],\n",
    "                 marker=dict (size=markersize,\n",
    "                              color=markercolour,\n",
    "                              opacity=0.9,\n",
    "                              colorscale='Blues'),\n",
    "                 line=dict (width=0.2),\n",
    "                 mode='markers')\n",
    "#make layout \n",
    "mylayout=go.Layout(scene=dict(xaxis=dict(title=\"Murder\"),\n",
    "                              yaxis=dict(title='Rape'),\n",
    "                              zaxis=dict(title='Assault')))"
   ]
  },
  {
   "cell_type": "code",
   "execution_count": 44,
   "id": "46d45033",
   "metadata": {},
   "outputs": [],
   "source": [
    "import plotly"
   ]
  },
  {
   "cell_type": "code",
   "execution_count": 45,
   "id": "f69e6044",
   "metadata": {},
   "outputs": [
    {
     "data": {
      "text/plain": [
       "'5Dplot.html'"
      ]
     },
     "execution_count": 45,
     "metadata": {},
     "output_type": "execute_result"
    }
   ],
   "source": [
    "plotly.offline.plot({\"data\":[fig1],\n",
    "                    \"layout\":mylayout},\n",
    "                   auto_open=True,\n",
    "                   filename=(\"5Dplot.html\"))"
   ]
  },
  {
   "cell_type": "markdown",
   "id": "30b9ad3f",
   "metadata": {},
   "source": [
    "# scale before clustering "
   ]
  },
  {
   "cell_type": "code",
   "execution_count": 46,
   "id": "f94679f0",
   "metadata": {},
   "outputs": [],
   "source": [
    "# drop cluster \n",
    "arrests.drop(['cluster'], axis = 1, inplace = True) "
   ]
  },
  {
   "cell_type": "code",
   "execution_count": 48,
   "id": "245e84b6",
   "metadata": {
    "collapsed": true
   },
   "outputs": [
    {
     "data": {
      "text/html": [
       "<div>\n",
       "<style scoped>\n",
       "    .dataframe tbody tr th:only-of-type {\n",
       "        vertical-align: middle;\n",
       "    }\n",
       "\n",
       "    .dataframe tbody tr th {\n",
       "        vertical-align: top;\n",
       "    }\n",
       "\n",
       "    .dataframe thead th {\n",
       "        text-align: right;\n",
       "    }\n",
       "</style>\n",
       "<table border=\"1\" class=\"dataframe\">\n",
       "  <thead>\n",
       "    <tr style=\"text-align: right;\">\n",
       "      <th></th>\n",
       "      <th>Murder</th>\n",
       "      <th>Assault</th>\n",
       "      <th>UrbanPop</th>\n",
       "      <th>Rape</th>\n",
       "    </tr>\n",
       "  </thead>\n",
       "  <tbody>\n",
       "    <tr>\n",
       "      <th>Alabama</th>\n",
       "      <td>13.2</td>\n",
       "      <td>236</td>\n",
       "      <td>58</td>\n",
       "      <td>21.2</td>\n",
       "    </tr>\n",
       "    <tr>\n",
       "      <th>Alaska</th>\n",
       "      <td>10.0</td>\n",
       "      <td>263</td>\n",
       "      <td>48</td>\n",
       "      <td>44.5</td>\n",
       "    </tr>\n",
       "    <tr>\n",
       "      <th>Arizona</th>\n",
       "      <td>8.1</td>\n",
       "      <td>294</td>\n",
       "      <td>80</td>\n",
       "      <td>31.0</td>\n",
       "    </tr>\n",
       "    <tr>\n",
       "      <th>Arkansas</th>\n",
       "      <td>8.8</td>\n",
       "      <td>190</td>\n",
       "      <td>50</td>\n",
       "      <td>19.5</td>\n",
       "    </tr>\n",
       "    <tr>\n",
       "      <th>California</th>\n",
       "      <td>9.0</td>\n",
       "      <td>276</td>\n",
       "      <td>91</td>\n",
       "      <td>40.6</td>\n",
       "    </tr>\n",
       "  </tbody>\n",
       "</table>\n",
       "</div>"
      ],
      "text/plain": [
       "            Murder  Assault  UrbanPop  Rape\n",
       "Alabama       13.2      236        58  21.2\n",
       "Alaska        10.0      263        48  44.5\n",
       "Arizona        8.1      294        80  31.0\n",
       "Arkansas       8.8      190        50  19.5\n",
       "California     9.0      276        91  40.6"
      ]
     },
     "execution_count": 48,
     "metadata": {},
     "output_type": "execute_result"
    }
   ],
   "source": [
    "arrests.head()"
   ]
  },
  {
   "cell_type": "code",
   "execution_count": 62,
   "id": "fe995297",
   "metadata": {},
   "outputs": [
    {
     "data": {
      "text/plain": [
       "MinMaxScaler()"
      ]
     },
     "execution_count": 62,
     "metadata": {},
     "output_type": "execute_result"
    }
   ],
   "source": [
    "from sklearn.preprocessing import MinMaxScaler\n",
    "scaler=MinMaxScaler()\n",
    "scaler.fit(arrests)"
   ]
  },
  {
   "cell_type": "code",
   "execution_count": 63,
   "id": "53eb29a6",
   "metadata": {},
   "outputs": [],
   "source": [
    "scaled_arrests=scaler.transform(arrests)"
   ]
  },
  {
   "cell_type": "code",
   "execution_count": 64,
   "id": "0f0d7dbd",
   "metadata": {},
   "outputs": [
    {
     "data": {
      "text/plain": [
       "Index(['Murder', 'Assault', 'UrbanPop', 'Rape'], dtype='object')"
      ]
     },
     "execution_count": 64,
     "metadata": {},
     "output_type": "execute_result"
    }
   ],
   "source": [
    "arrests.columns"
   ]
  },
  {
   "cell_type": "markdown",
   "id": "26b016e5",
   "metadata": {},
   "source": [
    "## turn this scaled array back into DF "
   ]
  },
  {
   "cell_type": "code",
   "execution_count": 65,
   "id": "cf0968af",
   "metadata": {},
   "outputs": [],
   "source": [
    "scaled_arrests_df=pd.DataFrame(scaled_arrests,columns=['Murder', 'Assault', 'UrbanPop', 'Rape'])"
   ]
  },
  {
   "cell_type": "code",
   "execution_count": 66,
   "id": "96300115",
   "metadata": {},
   "outputs": [
    {
     "data": {
      "image/png": "[encoded data removed]",
      "text/plain": [
       "<Figure size 1080x1080 with 4 Axes>"
      ]
     },
     "metadata": {
      "needs_background": "light"
     },
     "output_type": "display_data"
    }
   ],
   "source": [
    "scaled_arrests_df.hist(bins=15,figsize=(15,15));"
   ]
  },
  {
   "cell_type": "markdown",
   "id": "6e940c1c",
   "metadata": {},
   "source": [
    "# re apply clustering "
   ]
  },
  {
   "cell_type": "code",
   "execution_count": 89,
   "id": "ee03cac4",
   "metadata": {},
   "outputs": [],
   "source": [
    "kmeans=KMeans(n_clusters=7, random_state=5)"
   ]
  },
  {
   "cell_type": "code",
   "execution_count": 67,
   "id": "442126bf",
   "metadata": {},
   "outputs": [],
   "source": [
    "cluster_scaled=kmeans.fit(scaled_arrests_df)"
   ]
  },
  {
   "cell_type": "code",
   "execution_count": 103,
   "id": "98861dd1",
   "metadata": {},
   "outputs": [
    {
     "data": {
      "text/html": [
       "<div>\n",
       "<style scoped>\n",
       "    .dataframe tbody tr th:only-of-type {\n",
       "        vertical-align: middle;\n",
       "    }\n",
       "\n",
       "    .dataframe tbody tr th {\n",
       "        vertical-align: top;\n",
       "    }\n",
       "\n",
       "    .dataframe thead th {\n",
       "        text-align: right;\n",
       "    }\n",
       "</style>\n",
       "<table border=\"1\" class=\"dataframe\">\n",
       "  <thead>\n",
       "    <tr style=\"text-align: right;\">\n",
       "      <th></th>\n",
       "      <th>Murder</th>\n",
       "      <th>Assault</th>\n",
       "      <th>UrbanPop</th>\n",
       "      <th>Rape</th>\n",
       "      <th>cluster_scaled</th>\n",
       "    </tr>\n",
       "  </thead>\n",
       "  <tbody>\n",
       "    <tr>\n",
       "      <th>0</th>\n",
       "      <td>0.746988</td>\n",
       "      <td>0.654110</td>\n",
       "      <td>0.440678</td>\n",
       "      <td>0.359173</td>\n",
       "      <td>6</td>\n",
       "    </tr>\n",
       "    <tr>\n",
       "      <th>1</th>\n",
       "      <td>0.554217</td>\n",
       "      <td>0.746575</td>\n",
       "      <td>0.271186</td>\n",
       "      <td>0.961240</td>\n",
       "      <td>2</td>\n",
       "    </tr>\n",
       "    <tr>\n",
       "      <th>2</th>\n",
       "      <td>0.439759</td>\n",
       "      <td>0.852740</td>\n",
       "      <td>0.813559</td>\n",
       "      <td>0.612403</td>\n",
       "      <td>4</td>\n",
       "    </tr>\n",
       "    <tr>\n",
       "      <th>3</th>\n",
       "      <td>0.481928</td>\n",
       "      <td>0.496575</td>\n",
       "      <td>0.305085</td>\n",
       "      <td>0.315245</td>\n",
       "      <td>1</td>\n",
       "    </tr>\n",
       "    <tr>\n",
       "      <th>4</th>\n",
       "      <td>0.493976</td>\n",
       "      <td>0.791096</td>\n",
       "      <td>1.000000</td>\n",
       "      <td>0.860465</td>\n",
       "      <td>2</td>\n",
       "    </tr>\n",
       "    <tr>\n",
       "      <th>5</th>\n",
       "      <td>0.427711</td>\n",
       "      <td>0.544521</td>\n",
       "      <td>0.779661</td>\n",
       "      <td>0.811370</td>\n",
       "      <td>2</td>\n",
       "    </tr>\n",
       "    <tr>\n",
       "      <th>6</th>\n",
       "      <td>0.150602</td>\n",
       "      <td>0.222603</td>\n",
       "      <td>0.762712</td>\n",
       "      <td>0.098191</td>\n",
       "      <td>5</td>\n",
       "    </tr>\n",
       "    <tr>\n",
       "      <th>7</th>\n",
       "      <td>0.307229</td>\n",
       "      <td>0.660959</td>\n",
       "      <td>0.677966</td>\n",
       "      <td>0.219638</td>\n",
       "      <td>1</td>\n",
       "    </tr>\n",
       "    <tr>\n",
       "      <th>8</th>\n",
       "      <td>0.879518</td>\n",
       "      <td>0.993151</td>\n",
       "      <td>0.813559</td>\n",
       "      <td>0.635659</td>\n",
       "      <td>4</td>\n",
       "    </tr>\n",
       "    <tr>\n",
       "      <th>9</th>\n",
       "      <td>1.000000</td>\n",
       "      <td>0.568493</td>\n",
       "      <td>0.474576</td>\n",
       "      <td>0.478036</td>\n",
       "      <td>6</td>\n",
       "    </tr>\n",
       "    <tr>\n",
       "      <th>10</th>\n",
       "      <td>0.271084</td>\n",
       "      <td>0.003425</td>\n",
       "      <td>0.864407</td>\n",
       "      <td>0.333333</td>\n",
       "      <td>3</td>\n",
       "    </tr>\n",
       "    <tr>\n",
       "      <th>11</th>\n",
       "      <td>0.108434</td>\n",
       "      <td>0.256849</td>\n",
       "      <td>0.372881</td>\n",
       "      <td>0.178295</td>\n",
       "      <td>0</td>\n",
       "    </tr>\n",
       "    <tr>\n",
       "      <th>12</th>\n",
       "      <td>0.578313</td>\n",
       "      <td>0.698630</td>\n",
       "      <td>0.864407</td>\n",
       "      <td>0.431525</td>\n",
       "      <td>4</td>\n",
       "    </tr>\n",
       "    <tr>\n",
       "      <th>13</th>\n",
       "      <td>0.385542</td>\n",
       "      <td>0.232877</td>\n",
       "      <td>0.559322</td>\n",
       "      <td>0.354005</td>\n",
       "      <td>1</td>\n",
       "    </tr>\n",
       "    <tr>\n",
       "      <th>14</th>\n",
       "      <td>0.084337</td>\n",
       "      <td>0.037671</td>\n",
       "      <td>0.423729</td>\n",
       "      <td>0.103359</td>\n",
       "      <td>0</td>\n",
       "    </tr>\n",
       "    <tr>\n",
       "      <th>15</th>\n",
       "      <td>0.313253</td>\n",
       "      <td>0.239726</td>\n",
       "      <td>0.576271</td>\n",
       "      <td>0.276486</td>\n",
       "      <td>5</td>\n",
       "    </tr>\n",
       "    <tr>\n",
       "      <th>16</th>\n",
       "      <td>0.536145</td>\n",
       "      <td>0.219178</td>\n",
       "      <td>0.338983</td>\n",
       "      <td>0.232558</td>\n",
       "      <td>1</td>\n",
       "    </tr>\n",
       "    <tr>\n",
       "      <th>17</th>\n",
       "      <td>0.879518</td>\n",
       "      <td>0.698630</td>\n",
       "      <td>0.576271</td>\n",
       "      <td>0.385013</td>\n",
       "      <td>6</td>\n",
       "    </tr>\n",
       "    <tr>\n",
       "      <th>18</th>\n",
       "      <td>0.078313</td>\n",
       "      <td>0.130137</td>\n",
       "      <td>0.322034</td>\n",
       "      <td>0.012920</td>\n",
       "      <td>0</td>\n",
       "    </tr>\n",
       "    <tr>\n",
       "      <th>19</th>\n",
       "      <td>0.632530</td>\n",
       "      <td>0.873288</td>\n",
       "      <td>0.593220</td>\n",
       "      <td>0.529716</td>\n",
       "      <td>4</td>\n",
       "    </tr>\n",
       "    <tr>\n",
       "      <th>20</th>\n",
       "      <td>0.216867</td>\n",
       "      <td>0.356164</td>\n",
       "      <td>0.898305</td>\n",
       "      <td>0.232558</td>\n",
       "      <td>3</td>\n",
       "    </tr>\n",
       "    <tr>\n",
       "      <th>21</th>\n",
       "      <td>0.680723</td>\n",
       "      <td>0.719178</td>\n",
       "      <td>0.711864</td>\n",
       "      <td>0.718346</td>\n",
       "      <td>2</td>\n",
       "    </tr>\n",
       "    <tr>\n",
       "      <th>22</th>\n",
       "      <td>0.114458</td>\n",
       "      <td>0.092466</td>\n",
       "      <td>0.576271</td>\n",
       "      <td>0.196382</td>\n",
       "      <td>5</td>\n",
       "    </tr>\n",
       "    <tr>\n",
       "      <th>23</th>\n",
       "      <td>0.921687</td>\n",
       "      <td>0.732877</td>\n",
       "      <td>0.203390</td>\n",
       "      <td>0.253230</td>\n",
       "      <td>6</td>\n",
       "    </tr>\n",
       "    <tr>\n",
       "      <th>24</th>\n",
       "      <td>0.493976</td>\n",
       "      <td>0.455479</td>\n",
       "      <td>0.644068</td>\n",
       "      <td>0.540052</td>\n",
       "      <td>1</td>\n",
       "    </tr>\n",
       "    <tr>\n",
       "      <th>25</th>\n",
       "      <td>0.313253</td>\n",
       "      <td>0.219178</td>\n",
       "      <td>0.355932</td>\n",
       "      <td>0.235142</td>\n",
       "      <td>1</td>\n",
       "    </tr>\n",
       "    <tr>\n",
       "      <th>26</th>\n",
       "      <td>0.210843</td>\n",
       "      <td>0.195205</td>\n",
       "      <td>0.508475</td>\n",
       "      <td>0.237726</td>\n",
       "      <td>5</td>\n",
       "    </tr>\n",
       "    <tr>\n",
       "      <th>27</th>\n",
       "      <td>0.686747</td>\n",
       "      <td>0.708904</td>\n",
       "      <td>0.830508</td>\n",
       "      <td>1.000000</td>\n",
       "      <td>2</td>\n",
       "    </tr>\n",
       "    <tr>\n",
       "      <th>28</th>\n",
       "      <td>0.078313</td>\n",
       "      <td>0.041096</td>\n",
       "      <td>0.406780</td>\n",
       "      <td>0.056848</td>\n",
       "      <td>0</td>\n",
       "    </tr>\n",
       "    <tr>\n",
       "      <th>29</th>\n",
       "      <td>0.397590</td>\n",
       "      <td>0.390411</td>\n",
       "      <td>0.966102</td>\n",
       "      <td>0.297158</td>\n",
       "      <td>3</td>\n",
       "    </tr>\n",
       "    <tr>\n",
       "      <th>30</th>\n",
       "      <td>0.638554</td>\n",
       "      <td>0.821918</td>\n",
       "      <td>0.644068</td>\n",
       "      <td>0.640827</td>\n",
       "      <td>4</td>\n",
       "    </tr>\n",
       "    <tr>\n",
       "      <th>31</th>\n",
       "      <td>0.620482</td>\n",
       "      <td>0.715753</td>\n",
       "      <td>0.915254</td>\n",
       "      <td>0.485788</td>\n",
       "      <td>4</td>\n",
       "    </tr>\n",
       "    <tr>\n",
       "      <th>32</th>\n",
       "      <td>0.734940</td>\n",
       "      <td>1.000000</td>\n",
       "      <td>0.220339</td>\n",
       "      <td>0.227390</td>\n",
       "      <td>6</td>\n",
       "    </tr>\n",
       "    <tr>\n",
       "      <th>33</th>\n",
       "      <td>0.000000</td>\n",
       "      <td>0.000000</td>\n",
       "      <td>0.203390</td>\n",
       "      <td>0.000000</td>\n",
       "      <td>0</td>\n",
       "    </tr>\n",
       "    <tr>\n",
       "      <th>34</th>\n",
       "      <td>0.391566</td>\n",
       "      <td>0.256849</td>\n",
       "      <td>0.728814</td>\n",
       "      <td>0.364341</td>\n",
       "      <td>3</td>\n",
       "    </tr>\n",
       "    <tr>\n",
       "      <th>35</th>\n",
       "      <td>0.349398</td>\n",
       "      <td>0.363014</td>\n",
       "      <td>0.610169</td>\n",
       "      <td>0.328165</td>\n",
       "      <td>1</td>\n",
       "    </tr>\n",
       "    <tr>\n",
       "      <th>36</th>\n",
       "      <td>0.246988</td>\n",
       "      <td>0.390411</td>\n",
       "      <td>0.593220</td>\n",
       "      <td>0.568475</td>\n",
       "      <td>1</td>\n",
       "    </tr>\n",
       "    <tr>\n",
       "      <th>37</th>\n",
       "      <td>0.331325</td>\n",
       "      <td>0.208904</td>\n",
       "      <td>0.677966</td>\n",
       "      <td>0.196382</td>\n",
       "      <td>5</td>\n",
       "    </tr>\n",
       "    <tr>\n",
       "      <th>38</th>\n",
       "      <td>0.156627</td>\n",
       "      <td>0.441781</td>\n",
       "      <td>0.932203</td>\n",
       "      <td>0.025840</td>\n",
       "      <td>3</td>\n",
       "    </tr>\n",
       "    <tr>\n",
       "      <th>39</th>\n",
       "      <td>0.819277</td>\n",
       "      <td>0.801370</td>\n",
       "      <td>0.271186</td>\n",
       "      <td>0.392765</td>\n",
       "      <td>6</td>\n",
       "    </tr>\n",
       "    <tr>\n",
       "      <th>40</th>\n",
       "      <td>0.180723</td>\n",
       "      <td>0.140411</td>\n",
       "      <td>0.220339</td>\n",
       "      <td>0.142119</td>\n",
       "      <td>0</td>\n",
       "    </tr>\n",
       "    <tr>\n",
       "      <th>41</th>\n",
       "      <td>0.746988</td>\n",
       "      <td>0.489726</td>\n",
       "      <td>0.457627</td>\n",
       "      <td>0.506460</td>\n",
       "      <td>6</td>\n",
       "    </tr>\n",
       "    <tr>\n",
       "      <th>42</th>\n",
       "      <td>0.716867</td>\n",
       "      <td>0.534247</td>\n",
       "      <td>0.813559</td>\n",
       "      <td>0.470284</td>\n",
       "      <td>4</td>\n",
       "    </tr>\n",
       "    <tr>\n",
       "      <th>43</th>\n",
       "      <td>0.144578</td>\n",
       "      <td>0.256849</td>\n",
       "      <td>0.813559</td>\n",
       "      <td>0.403101</td>\n",
       "      <td>3</td>\n",
       "    </tr>\n",
       "    <tr>\n",
       "      <th>44</th>\n",
       "      <td>0.084337</td>\n",
       "      <td>0.010274</td>\n",
       "      <td>0.000000</td>\n",
       "      <td>0.100775</td>\n",
       "      <td>0</td>\n",
       "    </tr>\n",
       "    <tr>\n",
       "      <th>45</th>\n",
       "      <td>0.463855</td>\n",
       "      <td>0.380137</td>\n",
       "      <td>0.525424</td>\n",
       "      <td>0.346253</td>\n",
       "      <td>1</td>\n",
       "    </tr>\n",
       "    <tr>\n",
       "      <th>46</th>\n",
       "      <td>0.192771</td>\n",
       "      <td>0.342466</td>\n",
       "      <td>0.694915</td>\n",
       "      <td>0.488372</td>\n",
       "      <td>3</td>\n",
       "    </tr>\n",
       "    <tr>\n",
       "      <th>47</th>\n",
       "      <td>0.295181</td>\n",
       "      <td>0.123288</td>\n",
       "      <td>0.118644</td>\n",
       "      <td>0.051680</td>\n",
       "      <td>0</td>\n",
       "    </tr>\n",
       "    <tr>\n",
       "      <th>48</th>\n",
       "      <td>0.108434</td>\n",
       "      <td>0.027397</td>\n",
       "      <td>0.576271</td>\n",
       "      <td>0.090439</td>\n",
       "      <td>5</td>\n",
       "    </tr>\n",
       "    <tr>\n",
       "      <th>49</th>\n",
       "      <td>0.361446</td>\n",
       "      <td>0.397260</td>\n",
       "      <td>0.474576</td>\n",
       "      <td>0.214470</td>\n",
       "      <td>1</td>\n",
       "    </tr>\n",
       "  </tbody>\n",
       "</table>\n",
       "</div>"
      ],
      "text/plain": [
       "      Murder   Assault  UrbanPop      Rape  cluster_scaled\n",
       "0   0.746988  0.654110  0.440678  0.359173               6\n",
       "1   0.554217  0.746575  0.271186  0.961240               2\n",
       "2   0.439759  0.852740  0.813559  0.612403               4\n",
       "3   0.481928  0.496575  0.305085  0.315245               1\n",
       "4   0.493976  0.791096  1.000000  0.860465               2\n",
       "5   0.427711  0.544521  0.779661  0.811370               2\n",
       "6   0.150602  0.222603  0.762712  0.098191               5\n",
       "7   0.307229  0.660959  0.677966  0.219638               1\n",
       "8   0.879518  0.993151  0.813559  0.635659               4\n",
       "9   1.000000  0.568493  0.474576  0.478036               6\n",
       "10  0.271084  0.003425  0.864407  0.333333               3\n",
       "11  0.108434  0.256849  0.372881  0.178295               0\n",
       "12  0.578313  0.698630  0.864407  0.431525               4\n",
       "13  0.385542  0.232877  0.559322  0.354005               1\n",
       "14  0.084337  0.037671  0.423729  0.103359               0\n",
       "15  0.313253  0.239726  0.576271  0.276486               5\n",
       "16  0.536145  0.219178  0.338983  0.232558               1\n",
       "17  0.879518  0.698630  0.576271  0.385013               6\n",
       "18  0.078313  0.130137  0.322034  0.012920               0\n",
       "19  0.632530  0.873288  0.593220  0.529716               4\n",
       "20  0.216867  0.356164  0.898305  0.232558               3\n",
       "21  0.680723  0.719178  0.711864  0.718346               2\n",
       "22  0.114458  0.092466  0.576271  0.196382               5\n",
       "23  0.921687  0.732877  0.203390  0.253230               6\n",
       "24  0.493976  0.455479  0.644068  0.540052               1\n",
       "25  0.313253  0.219178  0.355932  0.235142               1\n",
       "26  0.210843  0.195205  0.508475  0.237726               5\n",
       "27  0.686747  0.708904  0.830508  1.000000               2\n",
       "28  0.078313  0.041096  0.406780  0.056848               0\n",
       "29  0.397590  0.390411  0.966102  0.297158               3\n",
       "30  0.638554  0.821918  0.644068  0.640827               4\n",
       "31  0.620482  0.715753  0.915254  0.485788               4\n",
       "32  0.734940  1.000000  0.220339  0.227390               6\n",
       "33  0.000000  0.000000  0.203390  0.000000               0\n",
       "34  0.391566  0.256849  0.728814  0.364341               3\n",
       "35  0.349398  0.363014  0.610169  0.328165               1\n",
       "36  0.246988  0.390411  0.593220  0.568475               1\n",
       "37  0.331325  0.208904  0.677966  0.196382               5\n",
       "38  0.156627  0.441781  0.932203  0.025840               3\n",
       "39  0.819277  0.801370  0.271186  0.392765               6\n",
       "40  0.180723  0.140411  0.220339  0.142119               0\n",
       "41  0.746988  0.489726  0.457627  0.506460               6\n",
       "42  0.716867  0.534247  0.813559  0.470284               4\n",
       "43  0.144578  0.256849  0.813559  0.403101               3\n",
       "44  0.084337  0.010274  0.000000  0.100775               0\n",
       "45  0.463855  0.380137  0.525424  0.346253               1\n",
       "46  0.192771  0.342466  0.694915  0.488372               3\n",
       "47  0.295181  0.123288  0.118644  0.051680               0\n",
       "48  0.108434  0.027397  0.576271  0.090439               5\n",
       "49  0.361446  0.397260  0.474576  0.214470               1"
      ]
     },
     "execution_count": 103,
     "metadata": {},
     "output_type": "execute_result"
    }
   ],
   "source": [
    "scaled_arrests_df"
   ]
  },
  {
   "cell_type": "code",
   "execution_count": 68,
   "id": "50ad96d7",
   "metadata": {},
   "outputs": [
    {
     "data": {
      "text/plain": [
       "array([[0.11370482, 0.09246575, 0.25847458, 0.08074935],\n",
       "       [0.3939759 , 0.38150685, 0.50847458, 0.33540052],\n",
       "       [0.5686747 , 0.70205479, 0.71864407, 0.87028424],\n",
       "       [0.25301205, 0.2925636 , 0.84261501, 0.30638612],\n",
       "       [0.64371773, 0.78424658, 0.77966102, 0.54374308],\n",
       "       [0.20481928, 0.16438356, 0.61299435, 0.18260121],\n",
       "       [0.83562823, 0.70645793, 0.37772397, 0.37172388]])"
      ]
     },
     "execution_count": 68,
     "metadata": {},
     "output_type": "execute_result"
    }
   ],
   "source": [
    "cluster_scaled.cluster_centers_"
   ]
  },
  {
   "cell_type": "code",
   "execution_count": 69,
   "id": "2d64bfd7",
   "metadata": {},
   "outputs": [
    {
     "data": {
      "text/plain": [
       "array([6, 2, 4, 1, 2, 2, 5, 1, 4, 6, 3, 0, 4, 1, 0, 5, 1, 6, 0, 4, 3, 2,\n",
       "       5, 6, 1, 1, 5, 2, 0, 3, 4, 4, 6, 0, 3, 1, 1, 5, 3, 6, 0, 6, 4, 3,\n",
       "       0, 1, 3, 0, 5, 1], dtype=int32)"
      ]
     },
     "execution_count": 69,
     "metadata": {},
     "output_type": "execute_result"
    }
   ],
   "source": [
    "cluster_scaled.labels_"
   ]
  },
  {
   "cell_type": "code",
   "execution_count": 70,
   "id": "e09c18b5",
   "metadata": {},
   "outputs": [],
   "source": [
    "scaled_arrests_df['cluster_scaled']=cluster_scaled.labels_"
   ]
  },
  {
   "cell_type": "code",
   "execution_count": 71,
   "id": "8f750866",
   "metadata": {},
   "outputs": [
    {
     "data": {
      "text/plain": [
       "1    10\n",
       "0     8\n",
       "6     7\n",
       "4     7\n",
       "3     7\n",
       "5     6\n",
       "2     5\n",
       "Name: cluster_scaled, dtype: int64"
      ]
     },
     "execution_count": 71,
     "metadata": {},
     "output_type": "execute_result"
    }
   ],
   "source": [
    "scaled_arrests_df['cluster_scaled'].value_counts()"
   ]
  },
  {
   "cell_type": "code",
   "execution_count": 77,
   "id": "9cee53f4",
   "metadata": {},
   "outputs": [],
   "source": [
    "markercolour= scaled_arrests_df['cluster_scaled']\n",
    "\n",
    "fig1=go.Scatter3d(x=scaled_arrests_df['Murder'],\n",
    "                  y=scaled_arrests_df['Rape'],\n",
    "                  z=scaled_arrests_df['Assault'],\n",
    "                 marker=dict (color=markercolour,\n",
    "                              opacity=0.9,\n",
    "                              colorscale='Blues'),\n",
    "                 line=dict (width=0.000002),\n",
    "                 mode='markers')\n",
    "#make layout \n",
    "mylayout=go.Layout(scene=dict(xaxis=dict(title=\"Murder\"),\n",
    "                              yaxis=dict(title='Rape'),\n",
    "                              zaxis=dict(title='Assault')))"
   ]
  },
  {
   "cell_type": "code",
   "execution_count": 78,
   "id": "d7fbcd48",
   "metadata": {},
   "outputs": [
    {
     "data": {
      "text/plain": [
       "'5Dplot.html'"
      ]
     },
     "execution_count": 78,
     "metadata": {},
     "output_type": "execute_result"
    }
   ],
   "source": [
    "plotly.offline.plot({\"data\":[fig1],\n",
    "                    \"layout\":mylayout},\n",
    "                   auto_open=True,\n",
    "                   filename=(\"5Dplot.html\"))"
   ]
  },
  {
   "cell_type": "markdown",
   "id": "2ab92fa2",
   "metadata": {},
   "source": [
    "# your challenge - using the music collection, work through the steps to \n",
    "\n",
    "- select numerical features \n",
    "- scale \n",
    "- run kmeans clustering (pick a suitable number of clusters)\n",
    "- add the cluster back into the data set \n",
    "- review how many songs are in each cluster "
   ]
  },
  {
   "cell_type": "code",
   "execution_count": 79,
   "id": "26bf4211",
   "metadata": {},
   "outputs": [],
   "source": [
    "music=pd.read_csv('dandbplaylistaudio.csv')"
   ]
  },
  {
   "cell_type": "code",
   "execution_count": 80,
   "id": "8f12029e",
   "metadata": {},
   "outputs": [
    {
     "data": {
      "text/html": [
       "<div>\n",
       "<style scoped>\n",
       "    .dataframe tbody tr th:only-of-type {\n",
       "        vertical-align: middle;\n",
       "    }\n",
       "\n",
       "    .dataframe tbody tr th {\n",
       "        vertical-align: top;\n",
       "    }\n",
       "\n",
       "    .dataframe thead th {\n",
       "        text-align: right;\n",
       "    }\n",
       "</style>\n",
       "<table border=\"1\" class=\"dataframe\">\n",
       "  <thead>\n",
       "    <tr style=\"text-align: right;\">\n",
       "      <th></th>\n",
       "      <th>Unnamed: 0</th>\n",
       "      <th>danceability</th>\n",
       "      <th>energy</th>\n",
       "      <th>key</th>\n",
       "      <th>loudness</th>\n",
       "      <th>mode</th>\n",
       "      <th>speechiness</th>\n",
       "      <th>acousticness</th>\n",
       "      <th>instrumentalness</th>\n",
       "      <th>liveness</th>\n",
       "      <th>valence</th>\n",
       "      <th>tempo</th>\n",
       "      <th>type</th>\n",
       "      <th>id</th>\n",
       "      <th>uri</th>\n",
       "      <th>track_href</th>\n",
       "      <th>analysis_url</th>\n",
       "      <th>duration_ms</th>\n",
       "      <th>time_signature</th>\n",
       "    </tr>\n",
       "  </thead>\n",
       "  <tbody>\n",
       "    <tr>\n",
       "      <th>0</th>\n",
       "      <td>0</td>\n",
       "      <td>0.530</td>\n",
       "      <td>0.944</td>\n",
       "      <td>11</td>\n",
       "      <td>-3.863</td>\n",
       "      <td>1</td>\n",
       "      <td>0.0844</td>\n",
       "      <td>0.000057</td>\n",
       "      <td>0.8560</td>\n",
       "      <td>0.3940</td>\n",
       "      <td>0.487</td>\n",
       "      <td>169.778</td>\n",
       "      <td>audio_features</td>\n",
       "      <td>29rrJBtcsOk3IjLfe5YUHI</td>\n",
       "      <td>spotify:track:29rrJBtcsOk3IjLfe5YUHI</td>\n",
       "      <td>https://api.spotify.com/v1/tracks/29rrJBtcsOk3...</td>\n",
       "      <td>https://api.spotify.com/v1/audio-analysis/29rr...</td>\n",
       "      <td>542933</td>\n",
       "      <td>4</td>\n",
       "    </tr>\n",
       "    <tr>\n",
       "      <th>1</th>\n",
       "      <td>1</td>\n",
       "      <td>0.795</td>\n",
       "      <td>0.592</td>\n",
       "      <td>10</td>\n",
       "      <td>-8.365</td>\n",
       "      <td>0</td>\n",
       "      <td>0.2550</td>\n",
       "      <td>0.002040</td>\n",
       "      <td>0.9460</td>\n",
       "      <td>0.0531</td>\n",
       "      <td>0.660</td>\n",
       "      <td>169.826</td>\n",
       "      <td>audio_features</td>\n",
       "      <td>5aHkhW2AgKCsvgYyqLxkrh</td>\n",
       "      <td>spotify:track:5aHkhW2AgKCsvgYyqLxkrh</td>\n",
       "      <td>https://api.spotify.com/v1/tracks/5aHkhW2AgKCs...</td>\n",
       "      <td>https://api.spotify.com/v1/audio-analysis/5aHk...</td>\n",
       "      <td>513280</td>\n",
       "      <td>4</td>\n",
       "    </tr>\n",
       "    <tr>\n",
       "      <th>2</th>\n",
       "      <td>2</td>\n",
       "      <td>0.651</td>\n",
       "      <td>0.932</td>\n",
       "      <td>8</td>\n",
       "      <td>-6.459</td>\n",
       "      <td>0</td>\n",
       "      <td>0.0686</td>\n",
       "      <td>0.012500</td>\n",
       "      <td>0.4260</td>\n",
       "      <td>0.2120</td>\n",
       "      <td>0.966</td>\n",
       "      <td>174.008</td>\n",
       "      <td>audio_features</td>\n",
       "      <td>2EiazSYyCSlBEKED2EvysD</td>\n",
       "      <td>spotify:track:2EiazSYyCSlBEKED2EvysD</td>\n",
       "      <td>https://api.spotify.com/v1/tracks/2EiazSYyCSlB...</td>\n",
       "      <td>https://api.spotify.com/v1/audio-analysis/2Eia...</td>\n",
       "      <td>329747</td>\n",
       "      <td>4</td>\n",
       "    </tr>\n",
       "    <tr>\n",
       "      <th>3</th>\n",
       "      <td>3</td>\n",
       "      <td>0.652</td>\n",
       "      <td>0.770</td>\n",
       "      <td>6</td>\n",
       "      <td>-10.258</td>\n",
       "      <td>1</td>\n",
       "      <td>0.0581</td>\n",
       "      <td>0.045400</td>\n",
       "      <td>0.8720</td>\n",
       "      <td>0.4390</td>\n",
       "      <td>0.518</td>\n",
       "      <td>159.823</td>\n",
       "      <td>audio_features</td>\n",
       "      <td>1ibPuHidlhfxG7O3AGSeGi</td>\n",
       "      <td>spotify:track:1ibPuHidlhfxG7O3AGSeGi</td>\n",
       "      <td>https://api.spotify.com/v1/tracks/1ibPuHidlhfx...</td>\n",
       "      <td>https://api.spotify.com/v1/audio-analysis/1ibP...</td>\n",
       "      <td>280973</td>\n",
       "      <td>4</td>\n",
       "    </tr>\n",
       "    <tr>\n",
       "      <th>4</th>\n",
       "      <td>4</td>\n",
       "      <td>0.669</td>\n",
       "      <td>0.753</td>\n",
       "      <td>2</td>\n",
       "      <td>-10.387</td>\n",
       "      <td>1</td>\n",
       "      <td>0.2240</td>\n",
       "      <td>0.018600</td>\n",
       "      <td>0.0425</td>\n",
       "      <td>0.4790</td>\n",
       "      <td>0.446</td>\n",
       "      <td>163.882</td>\n",
       "      <td>audio_features</td>\n",
       "      <td>4G2xz6VoK77bXvZePb9wAZ</td>\n",
       "      <td>spotify:track:4G2xz6VoK77bXvZePb9wAZ</td>\n",
       "      <td>https://api.spotify.com/v1/tracks/4G2xz6VoK77b...</td>\n",
       "      <td>https://api.spotify.com/v1/audio-analysis/4G2x...</td>\n",
       "      <td>387733</td>\n",
       "      <td>4</td>\n",
       "    </tr>\n",
       "    <tr>\n",
       "      <th>...</th>\n",
       "      <td>...</td>\n",
       "      <td>...</td>\n",
       "      <td>...</td>\n",
       "      <td>...</td>\n",
       "      <td>...</td>\n",
       "      <td>...</td>\n",
       "      <td>...</td>\n",
       "      <td>...</td>\n",
       "      <td>...</td>\n",
       "      <td>...</td>\n",
       "      <td>...</td>\n",
       "      <td>...</td>\n",
       "      <td>...</td>\n",
       "      <td>...</td>\n",
       "      <td>...</td>\n",
       "      <td>...</td>\n",
       "      <td>...</td>\n",
       "      <td>...</td>\n",
       "      <td>...</td>\n",
       "    </tr>\n",
       "    <tr>\n",
       "      <th>306</th>\n",
       "      <td>306</td>\n",
       "      <td>0.669</td>\n",
       "      <td>0.851</td>\n",
       "      <td>1</td>\n",
       "      <td>-5.075</td>\n",
       "      <td>1</td>\n",
       "      <td>0.0473</td>\n",
       "      <td>0.010600</td>\n",
       "      <td>0.8620</td>\n",
       "      <td>0.3080</td>\n",
       "      <td>0.945</td>\n",
       "      <td>163.389</td>\n",
       "      <td>audio_features</td>\n",
       "      <td>6tW3U7obAotfcyPruXdpM4</td>\n",
       "      <td>spotify:track:6tW3U7obAotfcyPruXdpM4</td>\n",
       "      <td>https://api.spotify.com/v1/tracks/6tW3U7obAotf...</td>\n",
       "      <td>https://api.spotify.com/v1/audio-analysis/6tW3...</td>\n",
       "      <td>230333</td>\n",
       "      <td>4</td>\n",
       "    </tr>\n",
       "    <tr>\n",
       "      <th>307</th>\n",
       "      <td>307</td>\n",
       "      <td>0.624</td>\n",
       "      <td>0.992</td>\n",
       "      <td>7</td>\n",
       "      <td>-5.796</td>\n",
       "      <td>0</td>\n",
       "      <td>0.1290</td>\n",
       "      <td>0.011200</td>\n",
       "      <td>0.8940</td>\n",
       "      <td>0.5430</td>\n",
       "      <td>0.882</td>\n",
       "      <td>169.877</td>\n",
       "      <td>audio_features</td>\n",
       "      <td>0iONLeOXEQkEIvJPgq7nRP</td>\n",
       "      <td>spotify:track:0iONLeOXEQkEIvJPgq7nRP</td>\n",
       "      <td>https://api.spotify.com/v1/tracks/0iONLeOXEQkE...</td>\n",
       "      <td>https://api.spotify.com/v1/audio-analysis/0iON...</td>\n",
       "      <td>386227</td>\n",
       "      <td>4</td>\n",
       "    </tr>\n",
       "    <tr>\n",
       "      <th>308</th>\n",
       "      <td>308</td>\n",
       "      <td>0.722</td>\n",
       "      <td>0.824</td>\n",
       "      <td>10</td>\n",
       "      <td>-5.990</td>\n",
       "      <td>0</td>\n",
       "      <td>0.1610</td>\n",
       "      <td>0.034800</td>\n",
       "      <td>0.3140</td>\n",
       "      <td>0.5620</td>\n",
       "      <td>0.239</td>\n",
       "      <td>164.982</td>\n",
       "      <td>audio_features</td>\n",
       "      <td>3MUmAutzgY4mZSBJJ1g57o</td>\n",
       "      <td>spotify:track:3MUmAutzgY4mZSBJJ1g57o</td>\n",
       "      <td>https://api.spotify.com/v1/tracks/3MUmAutzgY4m...</td>\n",
       "      <td>https://api.spotify.com/v1/audio-analysis/3MUm...</td>\n",
       "      <td>302907</td>\n",
       "      <td>4</td>\n",
       "    </tr>\n",
       "    <tr>\n",
       "      <th>309</th>\n",
       "      <td>309</td>\n",
       "      <td>0.686</td>\n",
       "      <td>0.695</td>\n",
       "      <td>4</td>\n",
       "      <td>-12.363</td>\n",
       "      <td>0</td>\n",
       "      <td>0.1490</td>\n",
       "      <td>0.001750</td>\n",
       "      <td>0.4450</td>\n",
       "      <td>0.0831</td>\n",
       "      <td>0.219</td>\n",
       "      <td>84.907</td>\n",
       "      <td>audio_features</td>\n",
       "      <td>1mG1BBKaxUrWtLDpZKyaCJ</td>\n",
       "      <td>spotify:track:1mG1BBKaxUrWtLDpZKyaCJ</td>\n",
       "      <td>https://api.spotify.com/v1/tracks/1mG1BBKaxUrW...</td>\n",
       "      <td>https://api.spotify.com/v1/audio-analysis/1mG1...</td>\n",
       "      <td>342007</td>\n",
       "      <td>4</td>\n",
       "    </tr>\n",
       "    <tr>\n",
       "      <th>310</th>\n",
       "      <td>310</td>\n",
       "      <td>0.706</td>\n",
       "      <td>0.831</td>\n",
       "      <td>1</td>\n",
       "      <td>-14.518</td>\n",
       "      <td>1</td>\n",
       "      <td>0.1400</td>\n",
       "      <td>0.000089</td>\n",
       "      <td>0.7740</td>\n",
       "      <td>0.2060</td>\n",
       "      <td>0.934</td>\n",
       "      <td>169.844</td>\n",
       "      <td>audio_features</td>\n",
       "      <td>2cEuvaM34xU3yYuxQD0e77</td>\n",
       "      <td>spotify:track:2cEuvaM34xU3yYuxQD0e77</td>\n",
       "      <td>https://api.spotify.com/v1/tracks/2cEuvaM34xU3...</td>\n",
       "      <td>https://api.spotify.com/v1/audio-analysis/2cEu...</td>\n",
       "      <td>342994</td>\n",
       "      <td>4</td>\n",
       "    </tr>\n",
       "  </tbody>\n",
       "</table>\n",
       "<p>311 rows × 19 columns</p>\n",
       "</div>"
      ],
      "text/plain": [
       "     Unnamed: 0  danceability  energy  key  loudness  mode  speechiness  \\\n",
       "0             0         0.530   0.944   11    -3.863     1       0.0844   \n",
       "1             1         0.795   0.592   10    -8.365     0       0.2550   \n",
       "2             2         0.651   0.932    8    -6.459     0       0.0686   \n",
       "3             3         0.652   0.770    6   -10.258     1       0.0581   \n",
       "4             4         0.669   0.753    2   -10.387     1       0.2240   \n",
       "..          ...           ...     ...  ...       ...   ...          ...   \n",
       "306         306         0.669   0.851    1    -5.075     1       0.0473   \n",
       "307         307         0.624   0.992    7    -5.796     0       0.1290   \n",
       "308         308         0.722   0.824   10    -5.990     0       0.1610   \n",
       "309         309         0.686   0.695    4   -12.363     0       0.1490   \n",
       "310         310         0.706   0.831    1   -14.518     1       0.1400   \n",
       "\n",
       "     acousticness  instrumentalness  liveness  valence    tempo  \\\n",
       "0        0.000057            0.8560    0.3940    0.487  169.778   \n",
       "1        0.002040            0.9460    0.0531    0.660  169.826   \n",
       "2        0.012500            0.4260    0.2120    0.966  174.008   \n",
       "3        0.045400            0.8720    0.4390    0.518  159.823   \n",
       "4        0.018600            0.0425    0.4790    0.446  163.882   \n",
       "..            ...               ...       ...      ...      ...   \n",
       "306      0.010600            0.8620    0.3080    0.945  163.389   \n",
       "307      0.011200            0.8940    0.5430    0.882  169.877   \n",
       "308      0.034800            0.3140    0.5620    0.239  164.982   \n",
       "309      0.001750            0.4450    0.0831    0.219   84.907   \n",
       "310      0.000089            0.7740    0.2060    0.934  169.844   \n",
       "\n",
       "               type                      id  \\\n",
       "0    audio_features  29rrJBtcsOk3IjLfe5YUHI   \n",
       "1    audio_features  5aHkhW2AgKCsvgYyqLxkrh   \n",
       "2    audio_features  2EiazSYyCSlBEKED2EvysD   \n",
       "3    audio_features  1ibPuHidlhfxG7O3AGSeGi   \n",
       "4    audio_features  4G2xz6VoK77bXvZePb9wAZ   \n",
       "..              ...                     ...   \n",
       "306  audio_features  6tW3U7obAotfcyPruXdpM4   \n",
       "307  audio_features  0iONLeOXEQkEIvJPgq7nRP   \n",
       "308  audio_features  3MUmAutzgY4mZSBJJ1g57o   \n",
       "309  audio_features  1mG1BBKaxUrWtLDpZKyaCJ   \n",
       "310  audio_features  2cEuvaM34xU3yYuxQD0e77   \n",
       "\n",
       "                                      uri  \\\n",
       "0    spotify:track:29rrJBtcsOk3IjLfe5YUHI   \n",
       "1    spotify:track:5aHkhW2AgKCsvgYyqLxkrh   \n",
       "2    spotify:track:2EiazSYyCSlBEKED2EvysD   \n",
       "3    spotify:track:1ibPuHidlhfxG7O3AGSeGi   \n",
       "4    spotify:track:4G2xz6VoK77bXvZePb9wAZ   \n",
       "..                                    ...   \n",
       "306  spotify:track:6tW3U7obAotfcyPruXdpM4   \n",
       "307  spotify:track:0iONLeOXEQkEIvJPgq7nRP   \n",
       "308  spotify:track:3MUmAutzgY4mZSBJJ1g57o   \n",
       "309  spotify:track:1mG1BBKaxUrWtLDpZKyaCJ   \n",
       "310  spotify:track:2cEuvaM34xU3yYuxQD0e77   \n",
       "\n",
       "                                            track_href  \\\n",
       "0    https://api.spotify.com/v1/tracks/29rrJBtcsOk3...   \n",
       "1    https://api.spotify.com/v1/tracks/5aHkhW2AgKCs...   \n",
       "2    https://api.spotify.com/v1/tracks/2EiazSYyCSlB...   \n",
       "3    https://api.spotify.com/v1/tracks/1ibPuHidlhfx...   \n",
       "4    https://api.spotify.com/v1/tracks/4G2xz6VoK77b...   \n",
       "..                                                 ...   \n",
       "306  https://api.spotify.com/v1/tracks/6tW3U7obAotf...   \n",
       "307  https://api.spotify.com/v1/tracks/0iONLeOXEQkE...   \n",
       "308  https://api.spotify.com/v1/tracks/3MUmAutzgY4m...   \n",
       "309  https://api.spotify.com/v1/tracks/1mG1BBKaxUrW...   \n",
       "310  https://api.spotify.com/v1/tracks/2cEuvaM34xU3...   \n",
       "\n",
       "                                          analysis_url  duration_ms  \\\n",
       "0    https://api.spotify.com/v1/audio-analysis/29rr...       542933   \n",
       "1    https://api.spotify.com/v1/audio-analysis/5aHk...       513280   \n",
       "2    https://api.spotify.com/v1/audio-analysis/2Eia...       329747   \n",
       "3    https://api.spotify.com/v1/audio-analysis/1ibP...       280973   \n",
       "4    https://api.spotify.com/v1/audio-analysis/4G2x...       387733   \n",
       "..                                                 ...          ...   \n",
       "306  https://api.spotify.com/v1/audio-analysis/6tW3...       230333   \n",
       "307  https://api.spotify.com/v1/audio-analysis/0iON...       386227   \n",
       "308  https://api.spotify.com/v1/audio-analysis/3MUm...       302907   \n",
       "309  https://api.spotify.com/v1/audio-analysis/1mG1...       342007   \n",
       "310  https://api.spotify.com/v1/audio-analysis/2cEu...       342994   \n",
       "\n",
       "     time_signature  \n",
       "0                 4  \n",
       "1                 4  \n",
       "2                 4  \n",
       "3                 4  \n",
       "4                 4  \n",
       "..              ...  \n",
       "306               4  \n",
       "307               4  \n",
       "308               4  \n",
       "309               4  \n",
       "310               4  \n",
       "\n",
       "[311 rows x 19 columns]"
      ]
     },
     "execution_count": 80,
     "metadata": {},
     "output_type": "execute_result"
    }
   ],
   "source": [
    "music"
   ]
  },
  {
   "cell_type": "code",
   "execution_count": null,
   "id": "0a77f233",
   "metadata": {},
   "outputs": [],
   "source": []
  },
  {
   "cell_type": "code",
   "execution_count": null,
   "id": "43925bd4",
   "metadata": {},
   "outputs": [],
   "source": []
  },
  {
   "cell_type": "markdown",
   "id": "ed4f3202",
   "metadata": {},
   "source": [
    "# pick the right number of clusters "
   ]
  },
  {
   "cell_type": "code",
   "execution_count": 81,
   "id": "9c077da2",
   "metadata": {},
   "outputs": [
    {
     "data": {
      "text/plain": [
       "2.609287188338271"
      ]
     },
     "execution_count": 81,
     "metadata": {},
     "output_type": "execute_result"
    }
   ],
   "source": [
    "cluster_scaled.inertia_"
   ]
  },
  {
   "cell_type": "code",
   "execution_count": 82,
   "id": "5684065f",
   "metadata": {},
   "outputs": [],
   "source": [
    "K=range(3,15) # whats the range of k that makes sense for your data ? \n",
    "inertia=[]\n",
    "for k in K:\n",
    "    kmeans=KMeans(n_clusters=k,random_state=5)\n",
    "    kmeans.fit(scaled_arrests_df)\n",
    "    inertia.append(kmeans.inertia_)"
   ]
  },
  {
   "cell_type": "code",
   "execution_count": 83,
   "id": "b6e7ee70",
   "metadata": {},
   "outputs": [],
   "source": [
    "import numpy as np "
   ]
  },
  {
   "cell_type": "code",
   "execution_count": 88,
   "id": "59e7c005",
   "metadata": {},
   "outputs": [
    {
     "data": {
      "image/png": "[encoded data removed]",
      "text/plain": [
       "<Figure size 1152x576 with 1 Axes>"
      ]
     },
     "metadata": {
      "needs_background": "light"
     },
     "output_type": "display_data"
    }
   ],
   "source": [
    "#plot the inertia: \n",
    "plt.figure(figsize=(16,8))\n",
    "plt.plot(K,inertia,'bx-')\n",
    "plt.xlabel('k')\n",
    "plt.ylabel('inertia')\n",
    "plt.xticks(np.arange(min(K),max(K)+1,1.0))\n",
    "plt.title('elbow method - finding the optimal k by inertia');"
   ]
  },
  {
   "cell_type": "code",
   "execution_count": 90,
   "id": "13242f92",
   "metadata": {},
   "outputs": [],
   "source": [
    "from sklearn.metrics import silhouette_score"
   ]
  },
  {
   "cell_type": "code",
   "execution_count": 92,
   "id": "b79fae25",
   "metadata": {},
   "outputs": [],
   "source": [
    "K=range(3,9) # whats the range of k that makes sense for your data ? \n",
    "silhouettes=[]\n",
    "for k in K:\n",
    "    kmeans=KMeans(n_clusters=k,random_state=5)\n",
    "    kmeans.fit(scaled_arrests_df)\n",
    "    silhouettes.append(silhouette_score(scaled_arrests_df,kmeans.predict(scaled_arrests_df)))"
   ]
  },
  {
   "cell_type": "code",
   "execution_count": 93,
   "id": "591f1df3",
   "metadata": {},
   "outputs": [
    {
     "data": {
      "image/png": "[encoded data removed]",
      "text/plain": [
       "<Figure size 1152x576 with 1 Axes>"
      ]
     },
     "metadata": {
      "needs_background": "light"
     },
     "output_type": "display_data"
    }
   ],
   "source": [
    "#plot the silhouette/distortion: \n",
    "plt.figure(figsize=(16,8))\n",
    "plt.plot(K,silhouettes,'bo-')\n",
    "plt.xlabel('k')\n",
    "plt.ylabel('inertia')\n",
    "plt.xticks(np.arange(min(K),max(K)+1,1.0))\n",
    "plt.title('finding the optimal k via silhouette');\n",
    "\n",
    "# definition \n",
    "# 1 - clusters are well apart from eachother / clearly distinguishable \n",
    "# 0 - clusters are indifferent , distance between them is not significant \n",
    "# -1 - clusters are assigned incorrectly - there is merging of clusters "
   ]
  },
  {
   "cell_type": "markdown",
   "id": "e22116f7",
   "metadata": {},
   "source": [
    "# use the results "
   ]
  },
  {
   "cell_type": "code",
   "execution_count": null,
   "id": "0f0c598b",
   "metadata": {},
   "outputs": [],
   "source": [
    "# re run k means with the right number of clusters \n",
    "# Add cluster label into your data frame \n",
    "# introduce new row (remember to use the same scaler! or go back to raw data )"
   ]
  },
  {
   "cell_type": "code",
   "execution_count": 97,
   "id": "e5a70456",
   "metadata": {},
   "outputs": [
    {
     "data": {
      "text/plain": [
       "Index(['Murder', 'Assault', 'UrbanPop', 'Rape'], dtype='object')"
      ]
     },
     "execution_count": 97,
     "metadata": {},
     "output_type": "execute_result"
    }
   ],
   "source": [
    "arrests.columns"
   ]
  },
  {
   "cell_type": "code",
   "execution_count": 99,
   "id": "1a0184ec",
   "metadata": {},
   "outputs": [],
   "source": [
    "sian_state = {'Murder':2, 'Assault':46, 'UrbanPop':20, 'Rape':10}"
   ]
  },
  {
   "cell_type": "code",
   "execution_count": 98,
   "id": "567e8f2f",
   "metadata": {},
   "outputs": [
    {
     "data": {
      "text/html": [
       "<div>\n",
       "<style scoped>\n",
       "    .dataframe tbody tr th:only-of-type {\n",
       "        vertical-align: middle;\n",
       "    }\n",
       "\n",
       "    .dataframe tbody tr th {\n",
       "        vertical-align: top;\n",
       "    }\n",
       "\n",
       "    .dataframe thead th {\n",
       "        text-align: right;\n",
       "    }\n",
       "</style>\n",
       "<table border=\"1\" class=\"dataframe\">\n",
       "  <thead>\n",
       "    <tr style=\"text-align: right;\">\n",
       "      <th></th>\n",
       "      <th>Murder</th>\n",
       "      <th>Assault</th>\n",
       "      <th>UrbanPop</th>\n",
       "      <th>Rape</th>\n",
       "    </tr>\n",
       "  </thead>\n",
       "  <tbody>\n",
       "    <tr>\n",
       "      <th>count</th>\n",
       "      <td>50.00000</td>\n",
       "      <td>50.000000</td>\n",
       "      <td>50.000000</td>\n",
       "      <td>50.000000</td>\n",
       "    </tr>\n",
       "    <tr>\n",
       "      <th>mean</th>\n",
       "      <td>7.78800</td>\n",
       "      <td>170.760000</td>\n",
       "      <td>65.540000</td>\n",
       "      <td>21.232000</td>\n",
       "    </tr>\n",
       "    <tr>\n",
       "      <th>std</th>\n",
       "      <td>4.35551</td>\n",
       "      <td>83.337661</td>\n",
       "      <td>14.474763</td>\n",
       "      <td>9.366385</td>\n",
       "    </tr>\n",
       "    <tr>\n",
       "      <th>min</th>\n",
       "      <td>0.80000</td>\n",
       "      <td>45.000000</td>\n",
       "      <td>32.000000</td>\n",
       "      <td>7.300000</td>\n",
       "    </tr>\n",
       "    <tr>\n",
       "      <th>25%</th>\n",
       "      <td>4.07500</td>\n",
       "      <td>109.000000</td>\n",
       "      <td>54.500000</td>\n",
       "      <td>15.075000</td>\n",
       "    </tr>\n",
       "    <tr>\n",
       "      <th>50%</th>\n",
       "      <td>7.25000</td>\n",
       "      <td>159.000000</td>\n",
       "      <td>66.000000</td>\n",
       "      <td>20.100000</td>\n",
       "    </tr>\n",
       "    <tr>\n",
       "      <th>75%</th>\n",
       "      <td>11.25000</td>\n",
       "      <td>249.000000</td>\n",
       "      <td>77.750000</td>\n",
       "      <td>26.175000</td>\n",
       "    </tr>\n",
       "    <tr>\n",
       "      <th>max</th>\n",
       "      <td>17.40000</td>\n",
       "      <td>337.000000</td>\n",
       "      <td>91.000000</td>\n",
       "      <td>46.000000</td>\n",
       "    </tr>\n",
       "  </tbody>\n",
       "</table>\n",
       "</div>"
      ],
      "text/plain": [
       "         Murder     Assault   UrbanPop       Rape\n",
       "count  50.00000   50.000000  50.000000  50.000000\n",
       "mean    7.78800  170.760000  65.540000  21.232000\n",
       "std     4.35551   83.337661  14.474763   9.366385\n",
       "min     0.80000   45.000000  32.000000   7.300000\n",
       "25%     4.07500  109.000000  54.500000  15.075000\n",
       "50%     7.25000  159.000000  66.000000  20.100000\n",
       "75%    11.25000  249.000000  77.750000  26.175000\n",
       "max    17.40000  337.000000  91.000000  46.000000"
      ]
     },
     "execution_count": 98,
     "metadata": {},
     "output_type": "execute_result"
    }
   ],
   "source": [
    "arrests.describe()"
   ]
  },
  {
   "cell_type": "code",
   "execution_count": 100,
   "id": "8f230b49",
   "metadata": {},
   "outputs": [],
   "source": [
    "# create a dataframe of our new row \n",
    "sian_state_df=pd.DataFrame.from_dict([sian_state])"
   ]
  },
  {
   "cell_type": "code",
   "execution_count": 101,
   "id": "725913ed",
   "metadata": {},
   "outputs": [
    {
     "data": {
      "text/html": [
       "<div>\n",
       "<style scoped>\n",
       "    .dataframe tbody tr th:only-of-type {\n",
       "        vertical-align: middle;\n",
       "    }\n",
       "\n",
       "    .dataframe tbody tr th {\n",
       "        vertical-align: top;\n",
       "    }\n",
       "\n",
       "    .dataframe thead th {\n",
       "        text-align: right;\n",
       "    }\n",
       "</style>\n",
       "<table border=\"1\" class=\"dataframe\">\n",
       "  <thead>\n",
       "    <tr style=\"text-align: right;\">\n",
       "      <th></th>\n",
       "      <th>Murder</th>\n",
       "      <th>Assault</th>\n",
       "      <th>UrbanPop</th>\n",
       "      <th>Rape</th>\n",
       "    </tr>\n",
       "  </thead>\n",
       "  <tbody>\n",
       "    <tr>\n",
       "      <th>0</th>\n",
       "      <td>2</td>\n",
       "      <td>46</td>\n",
       "      <td>20</td>\n",
       "      <td>10</td>\n",
       "    </tr>\n",
       "  </tbody>\n",
       "</table>\n",
       "</div>"
      ],
      "text/plain": [
       "   Murder  Assault  UrbanPop  Rape\n",
       "0       2       46        20    10"
      ]
     },
     "execution_count": 101,
     "metadata": {},
     "output_type": "execute_result"
    }
   ],
   "source": [
    "sian_state_df"
   ]
  },
  {
   "cell_type": "markdown",
   "id": "1834d727",
   "metadata": {},
   "source": [
    "conceptual notes \n",
    "- MinMaxScaler.fit(old_data_df)# learning about that data \n",
    "- MinMaxScaler.transform(new_data_df)\n",
    "- Kmeans.fit(old_data_df) # learnt \n",
    "- KMeans.predict(new_data_df)"
   ]
  },
  {
   "cell_type": "code",
   "execution_count": 108,
   "id": "f05966d7",
   "metadata": {},
   "outputs": [
    {
     "data": {
      "text/plain": [
       "KMeans(n_clusters=7, random_state=5)"
      ]
     },
     "execution_count": 108,
     "metadata": {},
     "output_type": "execute_result"
    }
   ],
   "source": [
    "#re run kmeans to fit to our old data frame (correct # of clusters )\n",
    "kmeans=KMeans(n_clusters=7, random_state=5)\n",
    "kmeans.fit(arrests)"
   ]
  },
  {
   "cell_type": "code",
   "execution_count": 109,
   "id": "80a97ebd",
   "metadata": {},
   "outputs": [
    {
     "data": {
      "text/plain": [
       "array([2], dtype=int32)"
      ]
     },
     "execution_count": 109,
     "metadata": {},
     "output_type": "execute_result"
    }
   ],
   "source": [
    "kmeans.predict(sian_state_df)"
   ]
  },
  {
   "cell_type": "code",
   "execution_count": 110,
   "id": "178a46cc",
   "metadata": {},
   "outputs": [],
   "source": [
    "c_new=2"
   ]
  },
  {
   "cell_type": "code",
   "execution_count": 111,
   "id": "eebb55ec",
   "metadata": {},
   "outputs": [],
   "source": [
    "arrests['cluster']=kmeans.labels_"
   ]
  },
  {
   "cell_type": "code",
   "execution_count": 113,
   "id": "d2b4397d",
   "metadata": {
    "collapsed": true
   },
   "outputs": [
    {
     "data": {
      "text/html": [
       "<div>\n",
       "<style scoped>\n",
       "    .dataframe tbody tr th:only-of-type {\n",
       "        vertical-align: middle;\n",
       "    }\n",
       "\n",
       "    .dataframe tbody tr th {\n",
       "        vertical-align: top;\n",
       "    }\n",
       "\n",
       "    .dataframe thead th {\n",
       "        text-align: right;\n",
       "    }\n",
       "</style>\n",
       "<table border=\"1\" class=\"dataframe\">\n",
       "  <thead>\n",
       "    <tr style=\"text-align: right;\">\n",
       "      <th></th>\n",
       "      <th>Murder</th>\n",
       "      <th>Assault</th>\n",
       "      <th>UrbanPop</th>\n",
       "      <th>Rape</th>\n",
       "      <th>cluster</th>\n",
       "    </tr>\n",
       "  </thead>\n",
       "  <tbody>\n",
       "    <tr>\n",
       "      <th>Alabama</th>\n",
       "      <td>13.2</td>\n",
       "      <td>236</td>\n",
       "      <td>58</td>\n",
       "      <td>21.2</td>\n",
       "      <td>4</td>\n",
       "    </tr>\n",
       "    <tr>\n",
       "      <th>Alaska</th>\n",
       "      <td>10.0</td>\n",
       "      <td>263</td>\n",
       "      <td>48</td>\n",
       "      <td>44.5</td>\n",
       "      <td>1</td>\n",
       "    </tr>\n",
       "    <tr>\n",
       "      <th>Arizona</th>\n",
       "      <td>8.1</td>\n",
       "      <td>294</td>\n",
       "      <td>80</td>\n",
       "      <td>31.0</td>\n",
       "      <td>5</td>\n",
       "    </tr>\n",
       "    <tr>\n",
       "      <th>Arkansas</th>\n",
       "      <td>8.8</td>\n",
       "      <td>190</td>\n",
       "      <td>50</td>\n",
       "      <td>19.5</td>\n",
       "      <td>6</td>\n",
       "    </tr>\n",
       "    <tr>\n",
       "      <th>California</th>\n",
       "      <td>9.0</td>\n",
       "      <td>276</td>\n",
       "      <td>91</td>\n",
       "      <td>40.6</td>\n",
       "      <td>4</td>\n",
       "    </tr>\n",
       "  </tbody>\n",
       "</table>\n",
       "</div>"
      ],
      "text/plain": [
       "            Murder  Assault  UrbanPop  Rape  cluster\n",
       "Alabama       13.2      236        58  21.2        4\n",
       "Alaska        10.0      263        48  44.5        1\n",
       "Arizona        8.1      294        80  31.0        5\n",
       "Arkansas       8.8      190        50  19.5        6\n",
       "California     9.0      276        91  40.6        4"
      ]
     },
     "execution_count": 113,
     "metadata": {},
     "output_type": "execute_result"
    }
   ],
   "source": [
    "arrests.head()"
   ]
  },
  {
   "cell_type": "markdown",
   "id": "991b9285",
   "metadata": {},
   "source": [
    "### what state is like sian state ? "
   ]
  },
  {
   "cell_type": "code",
   "execution_count": 117,
   "id": "071d8871",
   "metadata": {},
   "outputs": [
    {
     "data": {
      "text/html": [
       "<div>\n",
       "<style scoped>\n",
       "    .dataframe tbody tr th:only-of-type {\n",
       "        vertical-align: middle;\n",
       "    }\n",
       "\n",
       "    .dataframe tbody tr th {\n",
       "        vertical-align: top;\n",
       "    }\n",
       "\n",
       "    .dataframe thead th {\n",
       "        text-align: right;\n",
       "    }\n",
       "</style>\n",
       "<table border=\"1\" class=\"dataframe\">\n",
       "  <thead>\n",
       "    <tr style=\"text-align: right;\">\n",
       "      <th></th>\n",
       "      <th>Murder</th>\n",
       "      <th>Assault</th>\n",
       "      <th>UrbanPop</th>\n",
       "      <th>Rape</th>\n",
       "      <th>cluster</th>\n",
       "    </tr>\n",
       "  </thead>\n",
       "  <tbody>\n",
       "    <tr>\n",
       "      <th>West Virginia</th>\n",
       "      <td>5.7</td>\n",
       "      <td>81</td>\n",
       "      <td>39</td>\n",
       "      <td>9.3</td>\n",
       "      <td>2</td>\n",
       "    </tr>\n",
       "  </tbody>\n",
       "</table>\n",
       "</div>"
      ],
      "text/plain": [
       "               Murder  Assault  UrbanPop  Rape  cluster\n",
       "West Virginia     5.7       81        39   9.3        2"
      ]
     },
     "execution_count": 117,
     "metadata": {},
     "output_type": "execute_result"
    }
   ],
   "source": [
    "arrests[arrests.cluster==2].sample(1)"
   ]
  },
  {
   "cell_type": "code",
   "execution_count": 115,
   "id": "31071651",
   "metadata": {},
   "outputs": [
    {
     "data": {
      "text/html": [
       "<div>\n",
       "<style scoped>\n",
       "    .dataframe tbody tr th:only-of-type {\n",
       "        vertical-align: middle;\n",
       "    }\n",
       "\n",
       "    .dataframe tbody tr th {\n",
       "        vertical-align: top;\n",
       "    }\n",
       "\n",
       "    .dataframe thead th {\n",
       "        text-align: right;\n",
       "    }\n",
       "</style>\n",
       "<table border=\"1\" class=\"dataframe\">\n",
       "  <thead>\n",
       "    <tr style=\"text-align: right;\">\n",
       "      <th></th>\n",
       "      <th>Murder</th>\n",
       "      <th>Assault</th>\n",
       "      <th>UrbanPop</th>\n",
       "      <th>Rape</th>\n",
       "    </tr>\n",
       "  </thead>\n",
       "  <tbody>\n",
       "    <tr>\n",
       "      <th>0</th>\n",
       "      <td>2</td>\n",
       "      <td>46</td>\n",
       "      <td>20</td>\n",
       "      <td>10</td>\n",
       "    </tr>\n",
       "  </tbody>\n",
       "</table>\n",
       "</div>"
      ],
      "text/plain": [
       "   Murder  Assault  UrbanPop  Rape\n",
       "0       2       46        20    10"
      ]
     },
     "execution_count": 115,
     "metadata": {},
     "output_type": "execute_result"
    }
   ],
   "source": [
    "sian_state_df"
   ]
  },
  {
   "cell_type": "code",
   "execution_count": null,
   "id": "55366b92",
   "metadata": {},
   "outputs": [],
   "source": [
    "# sian state is like west virginia ? "
   ]
  }
 ],
 "metadata": {
  "kernelspec": {
   "display_name": "Python 3 (ipykernel)",
   "language": "python",
   "name": "python3"
  },
  "language_info": {
   "codemirror_mode": {
    "name": "ipython",
    "version": 3
   },
   "file_extension": ".py",
   "mimetype": "text/x-python",
   "name": "python",
   "nbconvert_exporter": "python",
   "pygments_lexer": "ipython3",
   "version": "3.9.7"
  },
  "toc": {
   "base_numbering": 1,
   "nav_menu": {},
   "number_sections": true,
   "sideBar": true,
   "skip_h1_title": false,
   "title_cell": "Table of Contents",
   "title_sidebar": "Contents",
   "toc_cell": false,
   "toc_position": {},
   "toc_section_display": true,
   "toc_window_display": false
  },
  "varInspector": {
   "cols": {
    "lenName": 16,
    "lenType": 16,
    "lenVar": 40
   },
   "kernels_config": {
    "python": {
     "delete_cmd_postfix": "",
     "delete_cmd_prefix": "del ",
     "library": "var_list.py",
     "varRefreshCmd": "print(var_dic_list())"
    },
    "r": {
     "delete_cmd_postfix": ") ",
     "delete_cmd_prefix": "rm(",
     "library": "var_list.r",
     "varRefreshCmd": "cat(var_dic_list()) "
    }
   },
   "types_to_exclude": [
    "module",
    "function",
    "builtin_function_or_method",
    "instance",
    "_Feature"
   ],
   "window_display": false
  }
 },
 "nbformat": 4,
 "nbformat_minor": 5
}
