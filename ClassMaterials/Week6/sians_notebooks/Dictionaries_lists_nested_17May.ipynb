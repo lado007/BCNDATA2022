{
 "cells": [
  {
   "cell_type": "markdown",
   "id": "d41bc8fc",
   "metadata": {},
   "source": [
    "# Lists "
   ]
  },
  {
   "cell_type": "code",
   "execution_count": 162,
   "id": "8752cf56",
   "metadata": {},
   "outputs": [],
   "source": [
    "classroom=['sian','john','roger','andy','cath','fede','lucas','miguel','pau']"
   ]
  },
  {
   "cell_type": "code",
   "execution_count": 163,
   "id": "1a2a9642",
   "metadata": {},
   "outputs": [
    {
     "data": {
      "text/plain": [
       "'cath'"
      ]
     },
     "execution_count": 163,
     "metadata": {},
     "output_type": "execute_result"
    }
   ],
   "source": [
    "#index to select members of the list\n",
    "classroom[4]"
   ]
  },
  {
   "cell_type": "markdown",
   "id": "16c85e15",
   "metadata": {},
   "source": [
    "## iterate through list and do something - eg make upper case "
   ]
  },
  {
   "cell_type": "code",
   "execution_count": 164,
   "id": "4b142f9a",
   "metadata": {},
   "outputs": [
    {
     "ename": "TypeError",
     "evalue": "list indices must be integers or slices, not str",
     "output_type": "error",
     "traceback": [
      "\u001b[0;31m---------------------------------------------------------------------------\u001b[0m",
      "\u001b[0;31mTypeError\u001b[0m                                 Traceback (most recent call last)",
      "\u001b[0;32m/var/folders/f1/r1pbqcl133ddm5hycygrjx0r0000gp/T/ipykernel_2941/853305736.py\u001b[0m in \u001b[0;36m<module>\u001b[0;34m\u001b[0m\n\u001b[1;32m      1\u001b[0m \u001b[0;32mfor\u001b[0m \u001b[0mi\u001b[0m \u001b[0;32min\u001b[0m \u001b[0mclassroom\u001b[0m\u001b[0;34m:\u001b[0m\u001b[0;34m\u001b[0m\u001b[0;34m\u001b[0m\u001b[0m\n\u001b[0;32m----> 2\u001b[0;31m     \u001b[0mclassroom\u001b[0m\u001b[0;34m[\u001b[0m\u001b[0mi\u001b[0m\u001b[0;34m]\u001b[0m\u001b[0;34m.\u001b[0m\u001b[0mupper\u001b[0m\u001b[0;34m(\u001b[0m\u001b[0;34m)\u001b[0m \u001b[0;31m# expected error\u001b[0m\u001b[0;34m\u001b[0m\u001b[0;34m\u001b[0m\u001b[0m\n\u001b[0m",
      "\u001b[0;31mTypeError\u001b[0m: list indices must be integers or slices, not str"
     ]
    }
   ],
   "source": [
    "for i in classroom:\n",
    "    classroom[i].upper() # expected error "
   ]
  },
  {
   "cell_type": "code",
   "execution_count": 165,
   "id": "14d76a2e",
   "metadata": {},
   "outputs": [
    {
     "ename": "TypeError",
     "evalue": "list indices must be integers or slices, not str",
     "output_type": "error",
     "traceback": [
      "\u001b[0;31m---------------------------------------------------------------------------\u001b[0m",
      "\u001b[0;31mTypeError\u001b[0m                                 Traceback (most recent call last)",
      "\u001b[0;32m/var/folders/f1/r1pbqcl133ddm5hycygrjx0r0000gp/T/ipykernel_2941/2727180850.py\u001b[0m in \u001b[0;36m<module>\u001b[0;34m\u001b[0m\n\u001b[0;32m----> 1\u001b[0;31m \u001b[0mclassroom\u001b[0m\u001b[0;34m[\u001b[0m\u001b[0;34m'cath'\u001b[0m\u001b[0;34m]\u001b[0m \u001b[0;31m# expected error\u001b[0m\u001b[0;34m\u001b[0m\u001b[0;34m\u001b[0m\u001b[0m\n\u001b[0m",
      "\u001b[0;31mTypeError\u001b[0m: list indices must be integers or slices, not str"
     ]
    }
   ],
   "source": [
    "classroom['cath'] # expected error "
   ]
  },
  {
   "cell_type": "code",
   "execution_count": 9,
   "id": "0bd0bb06",
   "metadata": {},
   "outputs": [
    {
     "name": "stdout",
     "output_type": "stream",
     "text": [
      "sian\n",
      "john\n",
      "roger\n",
      "andy\n",
      "cath\n",
      "fede\n",
      "lucas\n",
      "miguel\n",
      "pau\n"
     ]
    }
   ],
   "source": [
    "for i in classroom:\n",
    "    print(i)"
   ]
  },
  {
   "cell_type": "code",
   "execution_count": 168,
   "id": "c11da660",
   "metadata": {},
   "outputs": [
    {
     "name": "stdout",
     "output_type": "stream",
     "text": [
      "0\n",
      "1\n",
      "2\n",
      "3\n",
      "4\n",
      "5\n",
      "6\n",
      "7\n",
      "8\n"
     ]
    }
   ],
   "source": [
    "for i in range(len(classroom)): \n",
    "    print(i)"
   ]
  },
  {
   "cell_type": "code",
   "execution_count": 169,
   "id": "f8bc6bab",
   "metadata": {},
   "outputs": [],
   "source": [
    "# using range(len(list)) to make the iterator into 0,1,2,3...\n",
    "for i in range(len(classroom)):\n",
    "    classroom[i]=classroom[i].upper()"
   ]
  },
  {
   "cell_type": "code",
   "execution_count": 170,
   "id": "313ec4b5",
   "metadata": {},
   "outputs": [
    {
     "data": {
      "text/plain": [
       "['SIAN', 'JOHN', 'ROGER', 'ANDY', 'CATH', 'FEDE', 'LUCAS', 'MIGUEL', 'PAU']"
      ]
     },
     "execution_count": 170,
     "metadata": {},
     "output_type": "execute_result"
    }
   ],
   "source": [
    "classroom"
   ]
  },
  {
   "cell_type": "code",
   "execution_count": 171,
   "id": "b4b49b22",
   "metadata": {},
   "outputs": [],
   "source": [
    "#alternative method - create empty list \n",
    "cap_list=[]\n",
    "for i in classroom:\n",
    "    cap_list.append(i.upper())"
   ]
  },
  {
   "cell_type": "code",
   "execution_count": 172,
   "id": "0613d0ac",
   "metadata": {},
   "outputs": [
    {
     "data": {
      "text/plain": [
       "['SIAN', 'JOHN', 'ROGER', 'ANDY', 'CATH', 'FEDE', 'LUCAS', 'MIGUEL', 'PAU']"
      ]
     },
     "execution_count": 172,
     "metadata": {},
     "output_type": "execute_result"
    }
   ],
   "source": [
    "cap_list"
   ]
  },
  {
   "cell_type": "markdown",
   "id": "b60c5a85",
   "metadata": {},
   "source": [
    "## list comprehension for iteration "
   ]
  },
  {
   "cell_type": "code",
   "execution_count": 154,
   "id": "da9a8a72",
   "metadata": {},
   "outputs": [
    {
     "data": {
      "text/plain": [
       "['SIAN', 'JOHN', 'ROGER', 'ANDY', 'CATH', 'FEDE', 'LUCAS', 'MIGUEL', 'PAU']"
      ]
     },
     "execution_count": 154,
     "metadata": {},
     "output_type": "execute_result"
    }
   ],
   "source": [
    "# list comprehension - when iterable target is a list \n",
    "classroom"
   ]
  },
  {
   "cell_type": "code",
   "execution_count": 155,
   "id": "2b80fffc",
   "metadata": {},
   "outputs": [],
   "source": [
    "j_list=[i for i in classroom if i.startswith('J')]"
   ]
  },
  {
   "cell_type": "code",
   "execution_count": 158,
   "id": "92d719f5",
   "metadata": {},
   "outputs": [
    {
     "data": {
      "text/plain": [
       "['JOHN']"
      ]
     },
     "execution_count": 158,
     "metadata": {},
     "output_type": "execute_result"
    }
   ],
   "source": [
    "j_list"
   ]
  },
  {
   "cell_type": "code",
   "execution_count": 156,
   "id": "26eb99cb",
   "metadata": {},
   "outputs": [],
   "source": [
    "j_list_2=[i.startswith('J') for i in classroom]"
   ]
  },
  {
   "cell_type": "code",
   "execution_count": 157,
   "id": "4b8c7913",
   "metadata": {},
   "outputs": [
    {
     "data": {
      "text/plain": [
       "[False, True, False, False, False, False, False, False, False]"
      ]
     },
     "execution_count": 157,
     "metadata": {},
     "output_type": "execute_result"
    }
   ],
   "source": [
    "j_list_2"
   ]
  },
  {
   "cell_type": "code",
   "execution_count": 160,
   "id": "53d6b019",
   "metadata": {},
   "outputs": [],
   "source": [
    "lower_list=[i.lower() for i in classroom]"
   ]
  },
  {
   "cell_type": "code",
   "execution_count": 161,
   "id": "6939c468",
   "metadata": {},
   "outputs": [
    {
     "data": {
      "text/plain": [
       "['sian', 'john', 'roger', 'andy', 'cath', 'fede', 'lucas', 'miguel', 'pau']"
      ]
     },
     "execution_count": 161,
     "metadata": {},
     "output_type": "execute_result"
    }
   ],
   "source": [
    "lower_list"
   ]
  },
  {
   "cell_type": "code",
   "execution_count": null,
   "id": "8d0389c5",
   "metadata": {},
   "outputs": [],
   "source": [
    "# integer / index to select or iterate \n",
    "# list[int]\n",
    "\n",
    "# with these integers we can slice the list \n",
    "# list[4:8]"
   ]
  },
  {
   "cell_type": "markdown",
   "id": "d24587f4",
   "metadata": {},
   "source": [
    "## integers slice the list "
   ]
  },
  {
   "cell_type": "code",
   "execution_count": 42,
   "id": "180d9408",
   "metadata": {},
   "outputs": [
    {
     "data": {
      "text/plain": [
       "['CATH', 'FEDE', 'LUCAS', 'MIGUEL']"
      ]
     },
     "execution_count": 42,
     "metadata": {},
     "output_type": "execute_result"
    }
   ],
   "source": [
    "upper_list[4:8]"
   ]
  },
  {
   "cell_type": "code",
   "execution_count": 43,
   "id": "5a2807c0",
   "metadata": {},
   "outputs": [
    {
     "data": {
      "text/plain": [
       "['SIAN', 'JOHN', 'ROGER', 'ANDY', 'CATH', 'FEDE', 'LUCAS', 'MIGUEL', 'PAU']"
      ]
     },
     "execution_count": 43,
     "metadata": {},
     "output_type": "execute_result"
    }
   ],
   "source": [
    "upper_list"
   ]
  },
  {
   "cell_type": "markdown",
   "id": "30af1557",
   "metadata": {},
   "source": [
    "## Append list "
   ]
  },
  {
   "cell_type": "code",
   "execution_count": 44,
   "id": "f8df97c2",
   "metadata": {},
   "outputs": [],
   "source": [
    "# append a list \n",
    "# list.append('paupau')\n",
    "upper_list.append('PAUPAU')"
   ]
  },
  {
   "cell_type": "code",
   "execution_count": 45,
   "id": "3f57f30a",
   "metadata": {},
   "outputs": [
    {
     "data": {
      "text/plain": [
       "['SIAN',\n",
       " 'JOHN',\n",
       " 'ROGER',\n",
       " 'ANDY',\n",
       " 'CATH',\n",
       " 'FEDE',\n",
       " 'LUCAS',\n",
       " 'MIGUEL',\n",
       " 'PAU',\n",
       " 'PAUPAU']"
      ]
     },
     "execution_count": 45,
     "metadata": {},
     "output_type": "execute_result"
    }
   ],
   "source": [
    "upper_list"
   ]
  },
  {
   "cell_type": "code",
   "execution_count": 46,
   "id": "ea8adab7",
   "metadata": {},
   "outputs": [],
   "source": [
    "upper_list.remove('PAUPAU')"
   ]
  },
  {
   "cell_type": "code",
   "execution_count": 47,
   "id": "26256c90",
   "metadata": {},
   "outputs": [
    {
     "data": {
      "text/plain": [
       "['SIAN', 'JOHN', 'ROGER', 'ANDY', 'CATH', 'FEDE', 'LUCAS', 'MIGUEL', 'PAU']"
      ]
     },
     "execution_count": 47,
     "metadata": {},
     "output_type": "execute_result"
    }
   ],
   "source": [
    "upper_list"
   ]
  },
  {
   "cell_type": "markdown",
   "id": "500f73e7",
   "metadata": {},
   "source": [
    "# Dictionaries "
   ]
  },
  {
   "cell_type": "code",
   "execution_count": 48,
   "id": "b7b56659",
   "metadata": {},
   "outputs": [],
   "source": [
    "topics={1:'pandas',2:'sql',3:'tableau',4:'agile'}"
   ]
  },
  {
   "cell_type": "code",
   "execution_count": 52,
   "id": "e065e6d5",
   "metadata": {},
   "outputs": [
    {
     "data": {
      "text/plain": [
       "'pandas'"
      ]
     },
     "execution_count": 52,
     "metadata": {},
     "output_type": "execute_result"
    }
   ],
   "source": [
    "topics[1] # using the key to select"
   ]
  },
  {
   "cell_type": "code",
   "execution_count": 53,
   "id": "c0d04e0a",
   "metadata": {},
   "outputs": [
    {
     "data": {
      "text/plain": [
       "dict_keys([1, 2, 3, 4])"
      ]
     },
     "execution_count": 53,
     "metadata": {},
     "output_type": "execute_result"
    }
   ],
   "source": [
    "topics.keys() # review keys of the dictionary "
   ]
  },
  {
   "cell_type": "code",
   "execution_count": 54,
   "id": "f26625aa",
   "metadata": {},
   "outputs": [],
   "source": [
    "topics[5]='json' # add a new value key pair"
   ]
  },
  {
   "cell_type": "code",
   "execution_count": 55,
   "id": "88a7fbf3",
   "metadata": {},
   "outputs": [
    {
     "data": {
      "text/plain": [
       "{1: 'pandas', 2: 'sql', 3: 'tableau', 4: 'agile', 5: 'json'}"
      ]
     },
     "execution_count": 55,
     "metadata": {},
     "output_type": "execute_result"
    }
   ],
   "source": [
    "topics"
   ]
  },
  {
   "cell_type": "code",
   "execution_count": 56,
   "id": "ae8e8a97",
   "metadata": {},
   "outputs": [
    {
     "data": {
      "text/plain": [
       "dict_values(['pandas', 'sql', 'tableau', 'agile', 'json'])"
      ]
     },
     "execution_count": 56,
     "metadata": {},
     "output_type": "execute_result"
    }
   ],
   "source": [
    "topics.values()"
   ]
  },
  {
   "cell_type": "code",
   "execution_count": 59,
   "id": "bf03c2f4",
   "metadata": {},
   "outputs": [
    {
     "name": "stdout",
     "output_type": "stream",
     "text": [
      "PANDAS\n",
      "SQL\n",
      "TABLEAU\n",
      "AGILE\n",
      "JSON\n"
     ]
    }
   ],
   "source": [
    "for value in topics.values():\n",
    "    print(value.upper())"
   ]
  },
  {
   "cell_type": "code",
   "execution_count": 60,
   "id": "98d66d20",
   "metadata": {},
   "outputs": [
    {
     "name": "stdout",
     "output_type": "stream",
     "text": [
      "1\n",
      "2\n",
      "3\n",
      "4\n",
      "5\n"
     ]
    }
   ],
   "source": [
    "for key in topics.keys():\n",
    "    print(key)"
   ]
  },
  {
   "cell_type": "code",
   "execution_count": 61,
   "id": "7f39e2fa",
   "metadata": {},
   "outputs": [
    {
     "name": "stdout",
     "output_type": "stream",
     "text": [
      "1 .... pandas\n",
      "2 .... sql\n",
      "3 .... tableau\n",
      "4 .... agile\n",
      "5 .... json\n"
     ]
    }
   ],
   "source": [
    "for key,value in topics.items():\n",
    "    print(key,'....',value)"
   ]
  },
  {
   "cell_type": "markdown",
   "id": "020a8efa",
   "metadata": {},
   "source": [
    "# Nested Lists "
   ]
  },
  {
   "cell_type": "code",
   "execution_count": 62,
   "id": "0c56c8e5",
   "metadata": {},
   "outputs": [],
   "source": [
    "sians_class=[['sian','john'],\n",
    "             ['roger','cath','fede','lucas','miguel','andy'],\n",
    "             ['pau']]"
   ]
  },
  {
   "cell_type": "code",
   "execution_count": 63,
   "id": "1710c473",
   "metadata": {},
   "outputs": [
    {
     "data": {
      "text/plain": [
       "'s'"
      ]
     },
     "execution_count": 63,
     "metadata": {},
     "output_type": "execute_result"
    }
   ],
   "source": [
    "sians_class[0][0][0]"
   ]
  },
  {
   "cell_type": "code",
   "execution_count": 68,
   "id": "986df2f0",
   "metadata": {},
   "outputs": [
    {
     "data": {
      "text/plain": [
       "['sian', 'john']"
      ]
     },
     "execution_count": 68,
     "metadata": {},
     "output_type": "execute_result"
    }
   ],
   "source": [
    "sians_class[0]"
   ]
  },
  {
   "cell_type": "code",
   "execution_count": 84,
   "id": "47e4f1c0",
   "metadata": {},
   "outputs": [],
   "source": [
    "my_family=['leri','aled','david',\n",
    "          ['gilly',['jack'],'sian'],\n",
    "          'carole',['tracy',['joel','ellis']]]"
   ]
  },
  {
   "cell_type": "code",
   "execution_count": 85,
   "id": "f3e180a7",
   "metadata": {},
   "outputs": [
    {
     "name": "stdout",
     "output_type": "stream",
     "text": [
      "my nephew is jack\n"
     ]
    }
   ],
   "source": [
    "print('my nephew is '+ my_family[3][1][0])"
   ]
  },
  {
   "cell_type": "code",
   "execution_count": 86,
   "id": "2927c2f1",
   "metadata": {},
   "outputs": [
    {
     "data": {
      "text/plain": [
       "'jack'"
      ]
     },
     "execution_count": 86,
     "metadata": {},
     "output_type": "execute_result"
    }
   ],
   "source": [
    "my_family[3][1][0]"
   ]
  },
  {
   "cell_type": "markdown",
   "id": "84d93340",
   "metadata": {},
   "source": [
    "# Nested Dictionaries "
   ]
  },
  {
   "cell_type": "code",
   "execution_count": 89,
   "id": "5e2a6f69",
   "metadata": {},
   "outputs": [],
   "source": [
    "shapes={1:{'colour':'blue','shape':'circle','sides':'1'},\n",
    "       2:{'colour':'orange','shape':'triangle','sides':'3'},\n",
    "       3:{'colour':'green','shape':'square','sides':'4'}}"
   ]
  },
  {
   "cell_type": "code",
   "execution_count": null,
   "id": "e0d2b2bd",
   "metadata": {},
   "outputs": [],
   "source": [
    "- print the no of sides of the square \n",
    "- print the colour of the circle \n",
    "- print the shape of the second object "
   ]
  },
  {
   "cell_type": "code",
   "execution_count": 91,
   "id": "7794bd73",
   "metadata": {},
   "outputs": [
    {
     "data": {
      "text/plain": [
       "dict"
      ]
     },
     "execution_count": 91,
     "metadata": {},
     "output_type": "execute_result"
    }
   ],
   "source": [
    "type(shapes)"
   ]
  },
  {
   "cell_type": "code",
   "execution_count": 97,
   "id": "72c3103e",
   "metadata": {},
   "outputs": [
    {
     "name": "stdout",
     "output_type": "stream",
     "text": [
      "4\n"
     ]
    }
   ],
   "source": [
    "print(shapes[3]['sides'])"
   ]
  },
  {
   "cell_type": "code",
   "execution_count": 94,
   "id": "3cf775c1",
   "metadata": {},
   "outputs": [
    {
     "name": "stdout",
     "output_type": "stream",
     "text": [
      "blue\n"
     ]
    }
   ],
   "source": [
    "print(shapes[1]['colour'])"
   ]
  },
  {
   "cell_type": "code",
   "execution_count": 96,
   "id": "c02bda5b",
   "metadata": {},
   "outputs": [
    {
     "name": "stdout",
     "output_type": "stream",
     "text": [
      "triangle\n"
     ]
    }
   ],
   "source": [
    "print(shapes[2]['shape'])"
   ]
  },
  {
   "cell_type": "code",
   "execution_count": 98,
   "id": "981682d5",
   "metadata": {},
   "outputs": [
    {
     "data": {
      "text/plain": [
       "dict_keys(['colour', 'shape', 'sides'])"
      ]
     },
     "execution_count": 98,
     "metadata": {},
     "output_type": "execute_result"
    }
   ],
   "source": [
    "shapes[2].keys()"
   ]
  },
  {
   "cell_type": "markdown",
   "id": "2477d3fc",
   "metadata": {},
   "source": [
    "# json objects "
   ]
  },
  {
   "cell_type": "code",
   "execution_count": 99,
   "id": "9e668a09",
   "metadata": {},
   "outputs": [],
   "source": [
    "import json "
   ]
  },
  {
   "cell_type": "code",
   "execution_count": 100,
   "id": "1c3a2059",
   "metadata": {},
   "outputs": [],
   "source": [
    "json_1=json.load(open('example_1.json'))"
   ]
  },
  {
   "cell_type": "code",
   "execution_count": 101,
   "id": "a4a072d6",
   "metadata": {},
   "outputs": [
    {
     "data": {
      "text/plain": [
       "{'fruit': 'Apple', 'size': 'Large', 'color': 'Red'}"
      ]
     },
     "execution_count": 101,
     "metadata": {},
     "output_type": "execute_result"
    }
   ],
   "source": [
    "json_1"
   ]
  },
  {
   "cell_type": "code",
   "execution_count": 104,
   "id": "962d4547",
   "metadata": {},
   "outputs": [
    {
     "data": {
      "text/plain": [
       "'Large'"
      ]
     },
     "execution_count": 104,
     "metadata": {},
     "output_type": "execute_result"
    }
   ],
   "source": [
    "json_1['size']"
   ]
  },
  {
   "cell_type": "code",
   "execution_count": 105,
   "id": "4672071b",
   "metadata": {},
   "outputs": [],
   "source": [
    "json_2=json.load(open('example_2.json'))"
   ]
  },
  {
   "cell_type": "code",
   "execution_count": 114,
   "id": "506c78d4",
   "metadata": {
    "collapsed": true
   },
   "outputs": [
    {
     "data": {
      "text/plain": [
       "{'quiz': {'sport': {'q1': {'question': 'Which one is correct team name in NBA?',\n",
       "    'options': ['New York Bulls',\n",
       "     'Los Angeles Kings',\n",
       "     'Golden State Warriros',\n",
       "     'Huston Rocket'],\n",
       "    'answer': 'Huston Rocket'}},\n",
       "  'maths': {'q1': {'question': '5 + 7 = ?',\n",
       "    'options': ['10', '11', '12', '13'],\n",
       "    'answer': '12'},\n",
       "   'q2': {'question': '12 - 8 = ?',\n",
       "    'options': ['1', '2', '3', '4'],\n",
       "    'answer': '4'}}}}"
      ]
     },
     "execution_count": 114,
     "metadata": {},
     "output_type": "execute_result"
    }
   ],
   "source": [
    "json_2"
   ]
  },
  {
   "cell_type": "code",
   "execution_count": 110,
   "id": "92e0ad9e",
   "metadata": {},
   "outputs": [],
   "source": [
    "json_4=json.load(open('sample4.json'))"
   ]
  },
  {
   "cell_type": "code",
   "execution_count": 112,
   "id": "43e2fe69",
   "metadata": {
    "collapsed": true
   },
   "outputs": [
    {
     "data": {
      "text/plain": [
       "{'people': [{'firstName': 'Joe',\n",
       "   'lastName': 'Jackson',\n",
       "   'gender': 'male',\n",
       "   'age': 28,\n",
       "   'number': '7349282382'},\n",
       "  {'firstName': 'James',\n",
       "   'lastName': 'Smith',\n",
       "   'gender': 'male',\n",
       "   'age': 32,\n",
       "   'number': '5678568567'},\n",
       "  {'firstName': 'Emily',\n",
       "   'lastName': 'Jones',\n",
       "   'gender': 'female',\n",
       "   'age': 24,\n",
       "   'number': '456754675'}]}"
      ]
     },
     "execution_count": 112,
     "metadata": {},
     "output_type": "execute_result"
    }
   ],
   "source": [
    "json_4"
   ]
  },
  {
   "cell_type": "code",
   "execution_count": 137,
   "id": "7b73e2fe",
   "metadata": {},
   "outputs": [],
   "source": [
    "# prettify the json code - makes it more readable \n",
    "json_formatted=json.dumps(json_2,indent=3)"
   ]
  },
  {
   "cell_type": "code",
   "execution_count": 138,
   "id": "bef9d4ec",
   "metadata": {},
   "outputs": [
    {
     "name": "stdout",
     "output_type": "stream",
     "text": [
      "{\n",
      "   \"quiz\": {\n",
      "      \"sport\": {\n",
      "         \"q1\": {\n",
      "            \"question\": \"Which one is correct team name in NBA?\",\n",
      "            \"options\": [\n",
      "               \"New York Bulls\",\n",
      "               \"Los Angeles Kings\",\n",
      "               \"Golden State Warriros\",\n",
      "               \"Huston Rocket\"\n",
      "            ],\n",
      "            \"answer\": \"Huston Rocket\"\n",
      "         }\n",
      "      },\n",
      "      \"maths\": {\n",
      "         \"q1\": {\n",
      "            \"question\": \"5 + 7 = ?\",\n",
      "            \"options\": [\n",
      "               \"10\",\n",
      "               \"11\",\n",
      "               \"12\",\n",
      "               \"13\"\n",
      "            ],\n",
      "            \"answer\": \"12\"\n",
      "         },\n",
      "         \"q2\": {\n",
      "            \"question\": \"12 - 8 = ?\",\n",
      "            \"options\": [\n",
      "               \"1\",\n",
      "               \"2\",\n",
      "               \"3\",\n",
      "               \"4\"\n",
      "            ],\n",
      "            \"answer\": \"4\"\n",
      "         }\n",
      "      }\n",
      "   }\n",
      "}\n"
     ]
    }
   ],
   "source": [
    "print(json_formatted)"
   ]
  },
  {
   "cell_type": "code",
   "execution_count": null,
   "id": "958aba1d",
   "metadata": {},
   "outputs": [],
   "source": []
  }
 ],
 "metadata": {
  "kernelspec": {
   "display_name": "Python 3 (ipykernel)",
   "language": "python",
   "name": "python3"
  },
  "language_info": {
   "codemirror_mode": {
    "name": "ipython",
    "version": 3
   },
   "file_extension": ".py",
   "mimetype": "text/x-python",
   "name": "python",
   "nbconvert_exporter": "python",
   "pygments_lexer": "ipython3",
   "version": "3.9.7"
  },
  "toc": {
   "base_numbering": 1,
   "nav_menu": {},
   "number_sections": true,
   "sideBar": true,
   "skip_h1_title": false,
   "title_cell": "Table of Contents",
   "title_sidebar": "Contents",
   "toc_cell": false,
   "toc_position": {},
   "toc_section_display": true,
   "toc_window_display": false
  },
  "varInspector": {
   "cols": {
    "lenName": 16,
    "lenType": 16,
    "lenVar": 40
   },
   "kernels_config": {
    "python": {
     "delete_cmd_postfix": "",
     "delete_cmd_prefix": "del ",
     "library": "var_list.py",
     "varRefreshCmd": "print(var_dic_list())"
    },
    "r": {
     "delete_cmd_postfix": ") ",
     "delete_cmd_prefix": "rm(",
     "library": "var_list.r",
     "varRefreshCmd": "cat(var_dic_list()) "
    }
   },
   "types_to_exclude": [
    "module",
    "function",
    "builtin_function_or_method",
    "instance",
    "_Feature"
   ],
   "window_display": false
  }
 },
 "nbformat": 4,
 "nbformat_minor": 5
}
