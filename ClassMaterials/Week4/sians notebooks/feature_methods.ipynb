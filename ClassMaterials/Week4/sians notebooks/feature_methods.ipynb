{
 "cells": [
  {
   "cell_type": "markdown",
   "id": "af7589cc",
   "metadata": {},
   "source": [
    "# Get Unit 4 data in as 'data'"
   ]
  },
  {
   "cell_type": "code",
   "execution_count": 59,
   "id": "8be0e601",
   "metadata": {},
   "outputs": [
    {
     "name": "stdout",
     "output_type": "stream",
     "text": [
      "customer_churn.csv                statewithgift.csv\r\n",
      "googleplaystore.csv               strokes_data.csv\r\n",
      "googleplaystore_user_reviews.csv  unit4.csv\r\n",
      "lesson_4.05_data.csv\r\n"
     ]
    }
   ],
   "source": [
    "ls"
   ]
  },
  {
   "cell_type": "code",
   "execution_count": 60,
   "id": "28d5e4c8",
   "metadata": {},
   "outputs": [],
   "source": [
    "churn=pd.read_csv('customer_churn.csv')"
   ]
  },
  {
   "cell_type": "code",
   "execution_count": 61,
   "id": "346f115f",
   "metadata": {},
   "outputs": [
    {
     "name": "stdout",
     "output_type": "stream",
     "text": [
      "<class 'pandas.core.frame.DataFrame'>\n",
      "RangeIndex: 7043 entries, 0 to 7042\n",
      "Data columns (total 21 columns):\n",
      " #   Column            Non-Null Count  Dtype  \n",
      "---  ------            --------------  -----  \n",
      " 0   customerID        7043 non-null   object \n",
      " 1   gender            7043 non-null   object \n",
      " 2   SeniorCitizen     7043 non-null   int64  \n",
      " 3   Partner           7043 non-null   object \n",
      " 4   Dependents        7043 non-null   object \n",
      " 5   tenure            7043 non-null   int64  \n",
      " 6   PhoneService      7043 non-null   object \n",
      " 7   MultipleLines     7043 non-null   object \n",
      " 8   InternetService   7043 non-null   object \n",
      " 9   OnlineSecurity    7043 non-null   object \n",
      " 10  OnlineBackup      7043 non-null   object \n",
      " 11  DeviceProtection  7043 non-null   object \n",
      " 12  TechSupport       7043 non-null   object \n",
      " 13  StreamingTV       7043 non-null   object \n",
      " 14  StreamingMovies   7043 non-null   object \n",
      " 15  Contract          7043 non-null   object \n",
      " 16  PaperlessBilling  7043 non-null   object \n",
      " 17  PaymentMethod     7043 non-null   object \n",
      " 18  MonthlyCharges    7043 non-null   float64\n",
      " 19  TotalCharges      7043 non-null   object \n",
      " 20  Churn             7043 non-null   object \n",
      "dtypes: float64(1), int64(2), object(18)\n",
      "memory usage: 1.1+ MB\n"
     ]
    }
   ],
   "source": [
    "churn.info()"
   ]
  },
  {
   "cell_type": "code",
   "execution_count": 85,
   "id": "bc187c75",
   "metadata": {},
   "outputs": [
    {
     "data": {
      "text/plain": [
       "<AxesSubplot:>"
      ]
     },
     "execution_count": 85,
     "metadata": {},
     "output_type": "execute_result"
    },
    {
     "data": {
      "image/png": "[encoded data removed]",
      "text/plain": [
       "<Figure size 432x288 with 1 Axes>"
      ]
     },
     "metadata": {
      "needs_background": "light"
     },
     "output_type": "display_data"
    }
   ],
   "source": [
    "churn['MonthlyCharges'].hist(bins=50)"
   ]
  },
  {
   "cell_type": "code",
   "execution_count": 86,
   "id": "c176b2af",
   "metadata": {},
   "outputs": [
    {
     "data": {
      "text/plain": [
       "20.05     61\n",
       "19.85     45\n",
       "19.95     44\n",
       "19.90     44\n",
       "20.00     43\n",
       "          ..\n",
       "23.65      1\n",
       "114.70     1\n",
       "43.65      1\n",
       "87.80      1\n",
       "78.70      1\n",
       "Name: MonthlyCharges, Length: 1585, dtype: int64"
      ]
     },
     "execution_count": 86,
     "metadata": {},
     "output_type": "execute_result"
    }
   ],
   "source": [
    "churn['MonthlyCharges'].value_counts()"
   ]
  },
  {
   "cell_type": "code",
   "execution_count": 63,
   "id": "8b17ba28",
   "metadata": {},
   "outputs": [],
   "source": [
    "from sklearn.preprocessing import Normalizer"
   ]
  },
  {
   "cell_type": "code",
   "execution_count": 74,
   "id": "c4baf79c",
   "metadata": {},
   "outputs": [],
   "source": [
    "churn_n=churn[['tenure','MonthlyCharges']]"
   ]
  },
  {
   "cell_type": "code",
   "execution_count": 75,
   "id": "3ce271ea",
   "metadata": {},
   "outputs": [
    {
     "data": {
      "text/html": [
       "<div>\n",
       "<style scoped>\n",
       "    .dataframe tbody tr th:only-of-type {\n",
       "        vertical-align: middle;\n",
       "    }\n",
       "\n",
       "    .dataframe tbody tr th {\n",
       "        vertical-align: top;\n",
       "    }\n",
       "\n",
       "    .dataframe thead th {\n",
       "        text-align: right;\n",
       "    }\n",
       "</style>\n",
       "<table border=\"1\" class=\"dataframe\">\n",
       "  <thead>\n",
       "    <tr style=\"text-align: right;\">\n",
       "      <th></th>\n",
       "      <th>tenure</th>\n",
       "      <th>MonthlyCharges</th>\n",
       "    </tr>\n",
       "  </thead>\n",
       "  <tbody>\n",
       "    <tr>\n",
       "      <th>0</th>\n",
       "      <td>1</td>\n",
       "      <td>29.85</td>\n",
       "    </tr>\n",
       "    <tr>\n",
       "      <th>1</th>\n",
       "      <td>34</td>\n",
       "      <td>56.95</td>\n",
       "    </tr>\n",
       "    <tr>\n",
       "      <th>2</th>\n",
       "      <td>2</td>\n",
       "      <td>53.85</td>\n",
       "    </tr>\n",
       "    <tr>\n",
       "      <th>3</th>\n",
       "      <td>45</td>\n",
       "      <td>42.30</td>\n",
       "    </tr>\n",
       "    <tr>\n",
       "      <th>4</th>\n",
       "      <td>2</td>\n",
       "      <td>70.70</td>\n",
       "    </tr>\n",
       "    <tr>\n",
       "      <th>...</th>\n",
       "      <td>...</td>\n",
       "      <td>...</td>\n",
       "    </tr>\n",
       "    <tr>\n",
       "      <th>7038</th>\n",
       "      <td>24</td>\n",
       "      <td>84.80</td>\n",
       "    </tr>\n",
       "    <tr>\n",
       "      <th>7039</th>\n",
       "      <td>72</td>\n",
       "      <td>103.20</td>\n",
       "    </tr>\n",
       "    <tr>\n",
       "      <th>7040</th>\n",
       "      <td>11</td>\n",
       "      <td>29.60</td>\n",
       "    </tr>\n",
       "    <tr>\n",
       "      <th>7041</th>\n",
       "      <td>4</td>\n",
       "      <td>74.40</td>\n",
       "    </tr>\n",
       "    <tr>\n",
       "      <th>7042</th>\n",
       "      <td>66</td>\n",
       "      <td>105.65</td>\n",
       "    </tr>\n",
       "  </tbody>\n",
       "</table>\n",
       "<p>7043 rows × 2 columns</p>\n",
       "</div>"
      ],
      "text/plain": [
       "      tenure  MonthlyCharges\n",
       "0          1           29.85\n",
       "1         34           56.95\n",
       "2          2           53.85\n",
       "3         45           42.30\n",
       "4          2           70.70\n",
       "...      ...             ...\n",
       "7038      24           84.80\n",
       "7039      72          103.20\n",
       "7040      11           29.60\n",
       "7041       4           74.40\n",
       "7042      66          105.65\n",
       "\n",
       "[7043 rows x 2 columns]"
      ]
     },
     "execution_count": 75,
     "metadata": {},
     "output_type": "execute_result"
    }
   ],
   "source": [
    "churn_n"
   ]
  },
  {
   "cell_type": "code",
   "execution_count": 76,
   "id": "ca0e0665",
   "metadata": {},
   "outputs": [],
   "source": [
    "new_tenure=Normalizer().fit(churn_n)"
   ]
  },
  {
   "cell_type": "code",
   "execution_count": 79,
   "id": "22a978ee",
   "metadata": {},
   "outputs": [],
   "source": [
    "scaled=pd.DataFrame(new_tenure.transform(churn_n), columns=['tenure','MonthlyCharges'])"
   ]
  },
  {
   "cell_type": "code",
   "execution_count": 87,
   "id": "33083aa9",
   "metadata": {},
   "outputs": [
    {
     "data": {
      "text/plain": [
       "<AxesSubplot:>"
      ]
     },
     "execution_count": 87,
     "metadata": {},
     "output_type": "execute_result"
    },
    {
     "data": {
      "image/png": "[encoded data removed]",
      "text/plain": [
       "<Figure size 432x288 with 1 Axes>"
      ]
     },
     "metadata": {
      "needs_background": "light"
     },
     "output_type": "display_data"
    }
   ],
   "source": [
    "scaled['MonthlyCharges'].hist(bins=50)"
   ]
  },
  {
   "cell_type": "code",
   "execution_count": null,
   "id": "c175dfd3",
   "metadata": {},
   "outputs": [],
   "source": []
  },
  {
   "cell_type": "code",
   "execution_count": null,
   "id": "0e7ec9fa",
   "metadata": {},
   "outputs": [],
   "source": []
  },
  {
   "cell_type": "code",
   "execution_count": null,
   "id": "dc62134a",
   "metadata": {},
   "outputs": [],
   "source": []
  },
  {
   "cell_type": "code",
   "execution_count": 1,
   "id": "fda5a151",
   "metadata": {},
   "outputs": [],
   "source": [
    "import pandas as pd \n",
    "import numpy as np \n",
    "import seaborn as sns \n",
    "import matplotlib.pyplot as plt \n",
    "import datetime as dt"
   ]
  },
  {
   "cell_type": "code",
   "execution_count": 2,
   "id": "955f33fe",
   "metadata": {},
   "outputs": [
    {
     "name": "stdout",
     "output_type": "stream",
     "text": [
      "/Users/siandavies/Documents/GitHub/BCNDATA2022/ClassMaterials/Week4\n"
     ]
    }
   ],
   "source": [
    "cd .."
   ]
  },
  {
   "cell_type": "code",
   "execution_count": 3,
   "id": "fe99fe5a",
   "metadata": {},
   "outputs": [
    {
     "name": "stdout",
     "output_type": "stream",
     "text": [
      "/Users/siandavies/Documents/GitHub/BCNDATA2022/ClassMaterials/Week4/CaseStudies/other_data\n"
     ]
    }
   ],
   "source": [
    "cd CaseStudies/other_data/"
   ]
  },
  {
   "cell_type": "code",
   "execution_count": 4,
   "id": "e26313fc",
   "metadata": {},
   "outputs": [
    {
     "name": "stdout",
     "output_type": "stream",
     "text": [
      "customer_churn.csv                statewithgift.csv\r\n",
      "googleplaystore.csv               strokes_data.csv\r\n",
      "googleplaystore_user_reviews.csv  unit4.csv\r\n",
      "lesson_4.05_data.csv\r\n"
     ]
    }
   ],
   "source": [
    "ls"
   ]
  },
  {
   "cell_type": "code",
   "execution_count": 7,
   "id": "398a5fa6",
   "metadata": {},
   "outputs": [],
   "source": [
    "data=pd.read_csv('unit4.csv')"
   ]
  },
  {
   "cell_type": "code",
   "execution_count": 8,
   "id": "6e401f3c",
   "metadata": {},
   "outputs": [
    {
     "data": {
      "text/plain": [
       "Index(['STATE', 'PVASTATE', 'DOB', 'MDMAUD', 'RECP3', 'GENDER', 'DOMAIN',\n",
       "       'INCOME', 'HOMEOWNR', 'HV1', 'HV2', 'HV3', 'HV4', 'IC1', 'IC2', 'IC3',\n",
       "       'IC4', 'IC5', 'VETERANS', 'NUMPROM', 'CARDPROM', 'CARDPM12', 'NUMPRM12',\n",
       "       'MAXADATE', 'RFA_2', 'NGIFTALL', 'TIMELAG', 'AVGGIFT'],\n",
       "      dtype='object')"
      ]
     },
     "execution_count": 8,
     "metadata": {},
     "output_type": "execute_result"
    }
   ],
   "source": [
    "data.columns"
   ]
  },
  {
   "cell_type": "code",
   "execution_count": null,
   "id": "a2fc7205",
   "metadata": {},
   "outputs": [],
   "source": [
    "data.info()"
   ]
  },
  {
   "cell_type": "markdown",
   "id": "0dd2efd4",
   "metadata": {},
   "source": [
    "## split the data into numericals and categoricals for EDA "
   ]
  },
  {
   "cell_type": "code",
   "execution_count": 9,
   "id": "4a5ef743",
   "metadata": {},
   "outputs": [],
   "source": [
    "d_num=data.select_dtypes(np.number)\n",
    "d_cat=data.select_dtypes(object)"
   ]
  },
  {
   "cell_type": "markdown",
   "id": "a534b4b9",
   "metadata": {},
   "source": [
    "### data quality check "
   ]
  },
  {
   "cell_type": "code",
   "execution_count": null,
   "id": "132ec7cc",
   "metadata": {},
   "outputs": [],
   "source": [
    "data.info()"
   ]
  },
  {
   "cell_type": "code",
   "execution_count": null,
   "id": "4f2f056a",
   "metadata": {},
   "outputs": [],
   "source": [
    "# count duplicates \n",
    "data.duplicated().sum()"
   ]
  },
  {
   "cell_type": "code",
   "execution_count": null,
   "id": "f111c239",
   "metadata": {},
   "outputs": [],
   "source": [
    "# see duplicates \n",
    "data[data.duplicated(keep=False)]"
   ]
  },
  {
   "cell_type": "code",
   "execution_count": 10,
   "id": "b0d05a18",
   "metadata": {},
   "outputs": [],
   "source": [
    "# drop duplicate row \n",
    "data=data.drop_duplicates()"
   ]
  },
  {
   "cell_type": "code",
   "execution_count": null,
   "id": "0fc9d9e7",
   "metadata": {},
   "outputs": [],
   "source": [
    "# drop nulls and any obvious columns to drop ? "
   ]
  },
  {
   "cell_type": "code",
   "execution_count": null,
   "id": "4ada6056",
   "metadata": {},
   "outputs": [],
   "source": []
  },
  {
   "cell_type": "markdown",
   "id": "3ee344a5",
   "metadata": {},
   "source": [
    "### after removing rows - reset index "
   ]
  },
  {
   "cell_type": "code",
   "execution_count": 11,
   "id": "002a5fe6",
   "metadata": {},
   "outputs": [],
   "source": [
    "data.reset_index(drop=True,inplace=True)"
   ]
  },
  {
   "cell_type": "markdown",
   "id": "1628bba9",
   "metadata": {},
   "source": [
    "### see all columns, EDA on numericals and categoricals "
   ]
  },
  {
   "cell_type": "code",
   "execution_count": 12,
   "id": "5c68fc76",
   "metadata": {},
   "outputs": [],
   "source": [
    "pd.set_option('display.max_columns',None)"
   ]
  },
  {
   "cell_type": "code",
   "execution_count": 13,
   "id": "bd916524",
   "metadata": {},
   "outputs": [
    {
     "data": {
      "text/html": [
       "<div>\n",
       "<style scoped>\n",
       "    .dataframe tbody tr th:only-of-type {\n",
       "        vertical-align: middle;\n",
       "    }\n",
       "\n",
       "    .dataframe tbody tr th {\n",
       "        vertical-align: top;\n",
       "    }\n",
       "\n",
       "    .dataframe thead th {\n",
       "        text-align: right;\n",
       "    }\n",
       "</style>\n",
       "<table border=\"1\" class=\"dataframe\">\n",
       "  <thead>\n",
       "    <tr style=\"text-align: right;\">\n",
       "      <th></th>\n",
       "      <th>STATE</th>\n",
       "      <th>PVASTATE</th>\n",
       "      <th>DOB</th>\n",
       "      <th>MDMAUD</th>\n",
       "      <th>RECP3</th>\n",
       "      <th>GENDER</th>\n",
       "      <th>DOMAIN</th>\n",
       "      <th>INCOME</th>\n",
       "      <th>HOMEOWNR</th>\n",
       "      <th>HV1</th>\n",
       "      <th>HV2</th>\n",
       "      <th>HV3</th>\n",
       "      <th>HV4</th>\n",
       "      <th>IC1</th>\n",
       "      <th>IC2</th>\n",
       "      <th>IC3</th>\n",
       "      <th>IC4</th>\n",
       "      <th>IC5</th>\n",
       "      <th>VETERANS</th>\n",
       "      <th>NUMPROM</th>\n",
       "      <th>CARDPROM</th>\n",
       "      <th>CARDPM12</th>\n",
       "      <th>NUMPRM12</th>\n",
       "      <th>MAXADATE</th>\n",
       "      <th>RFA_2</th>\n",
       "      <th>NGIFTALL</th>\n",
       "      <th>TIMELAG</th>\n",
       "      <th>AVGGIFT</th>\n",
       "    </tr>\n",
       "  </thead>\n",
       "  <tbody>\n",
       "    <tr>\n",
       "      <th>0</th>\n",
       "      <td>IL</td>\n",
       "      <td></td>\n",
       "      <td>3712</td>\n",
       "      <td>XXXX</td>\n",
       "      <td></td>\n",
       "      <td>F</td>\n",
       "      <td>T2</td>\n",
       "      <td>NaN</td>\n",
       "      <td></td>\n",
       "      <td>479</td>\n",
       "      <td>635</td>\n",
       "      <td>3</td>\n",
       "      <td>2</td>\n",
       "      <td>307</td>\n",
       "      <td>318</td>\n",
       "      <td>349</td>\n",
       "      <td>378</td>\n",
       "      <td>12883</td>\n",
       "      <td></td>\n",
       "      <td>74</td>\n",
       "      <td>27</td>\n",
       "      <td>6</td>\n",
       "      <td>14</td>\n",
       "      <td>9702</td>\n",
       "      <td>L4E</td>\n",
       "      <td>31</td>\n",
       "      <td>4.0</td>\n",
       "      <td>7.741935</td>\n",
       "    </tr>\n",
       "    <tr>\n",
       "      <th>1</th>\n",
       "      <td>CA</td>\n",
       "      <td></td>\n",
       "      <td>5202</td>\n",
       "      <td>XXXX</td>\n",
       "      <td></td>\n",
       "      <td>M</td>\n",
       "      <td>S1</td>\n",
       "      <td>6.0</td>\n",
       "      <td>H</td>\n",
       "      <td>5468</td>\n",
       "      <td>5218</td>\n",
       "      <td>12</td>\n",
       "      <td>10</td>\n",
       "      <td>1088</td>\n",
       "      <td>1096</td>\n",
       "      <td>1026</td>\n",
       "      <td>1037</td>\n",
       "      <td>36175</td>\n",
       "      <td></td>\n",
       "      <td>32</td>\n",
       "      <td>12</td>\n",
       "      <td>6</td>\n",
       "      <td>13</td>\n",
       "      <td>9702</td>\n",
       "      <td>L2G</td>\n",
       "      <td>3</td>\n",
       "      <td>18.0</td>\n",
       "      <td>15.666667</td>\n",
       "    </tr>\n",
       "    <tr>\n",
       "      <th>2</th>\n",
       "      <td>NC</td>\n",
       "      <td></td>\n",
       "      <td>0</td>\n",
       "      <td>XXXX</td>\n",
       "      <td></td>\n",
       "      <td>M</td>\n",
       "      <td>R2</td>\n",
       "      <td>3.0</td>\n",
       "      <td>U</td>\n",
       "      <td>497</td>\n",
       "      <td>546</td>\n",
       "      <td>2</td>\n",
       "      <td>1</td>\n",
       "      <td>251</td>\n",
       "      <td>292</td>\n",
       "      <td>292</td>\n",
       "      <td>340</td>\n",
       "      <td>11576</td>\n",
       "      <td></td>\n",
       "      <td>63</td>\n",
       "      <td>26</td>\n",
       "      <td>6</td>\n",
       "      <td>14</td>\n",
       "      <td>9702</td>\n",
       "      <td>L4E</td>\n",
       "      <td>27</td>\n",
       "      <td>12.0</td>\n",
       "      <td>7.481481</td>\n",
       "    </tr>\n",
       "    <tr>\n",
       "      <th>3</th>\n",
       "      <td>CA</td>\n",
       "      <td></td>\n",
       "      <td>2801</td>\n",
       "      <td>XXXX</td>\n",
       "      <td></td>\n",
       "      <td>F</td>\n",
       "      <td>R2</td>\n",
       "      <td>1.0</td>\n",
       "      <td>U</td>\n",
       "      <td>1000</td>\n",
       "      <td>1263</td>\n",
       "      <td>2</td>\n",
       "      <td>1</td>\n",
       "      <td>386</td>\n",
       "      <td>388</td>\n",
       "      <td>396</td>\n",
       "      <td>423</td>\n",
       "      <td>15130</td>\n",
       "      <td></td>\n",
       "      <td>66</td>\n",
       "      <td>27</td>\n",
       "      <td>6</td>\n",
       "      <td>14</td>\n",
       "      <td>9702</td>\n",
       "      <td>L4E</td>\n",
       "      <td>16</td>\n",
       "      <td>9.0</td>\n",
       "      <td>6.812500</td>\n",
       "    </tr>\n",
       "    <tr>\n",
       "      <th>4</th>\n",
       "      <td>FL</td>\n",
       "      <td></td>\n",
       "      <td>2001</td>\n",
       "      <td>XXXX</td>\n",
       "      <td>X</td>\n",
       "      <td>F</td>\n",
       "      <td>S2</td>\n",
       "      <td>3.0</td>\n",
       "      <td>H</td>\n",
       "      <td>576</td>\n",
       "      <td>594</td>\n",
       "      <td>4</td>\n",
       "      <td>3</td>\n",
       "      <td>240</td>\n",
       "      <td>250</td>\n",
       "      <td>293</td>\n",
       "      <td>321</td>\n",
       "      <td>9836</td>\n",
       "      <td></td>\n",
       "      <td>113</td>\n",
       "      <td>43</td>\n",
       "      <td>10</td>\n",
       "      <td>25</td>\n",
       "      <td>9702</td>\n",
       "      <td>L2F</td>\n",
       "      <td>37</td>\n",
       "      <td>14.0</td>\n",
       "      <td>6.864865</td>\n",
       "    </tr>\n",
       "  </tbody>\n",
       "</table>\n",
       "</div>"
      ],
      "text/plain": [
       "  STATE PVASTATE   DOB MDMAUD RECP3 GENDER DOMAIN  INCOME HOMEOWNR   HV1  \\\n",
       "0    IL           3712   XXXX            F     T2     NaN            479   \n",
       "1    CA           5202   XXXX            M     S1     6.0        H  5468   \n",
       "2    NC              0   XXXX            M     R2     3.0        U   497   \n",
       "3    CA           2801   XXXX            F     R2     1.0        U  1000   \n",
       "4    FL           2001   XXXX     X      F     S2     3.0        H   576   \n",
       "\n",
       "    HV2  HV3  HV4   IC1   IC2   IC3   IC4    IC5 VETERANS  NUMPROM  CARDPROM  \\\n",
       "0   635    3    2   307   318   349   378  12883                74        27   \n",
       "1  5218   12   10  1088  1096  1026  1037  36175                32        12   \n",
       "2   546    2    1   251   292   292   340  11576                63        26   \n",
       "3  1263    2    1   386   388   396   423  15130                66        27   \n",
       "4   594    4    3   240   250   293   321   9836               113        43   \n",
       "\n",
       "   CARDPM12  NUMPRM12  MAXADATE RFA_2  NGIFTALL  TIMELAG    AVGGIFT  \n",
       "0         6        14      9702   L4E        31      4.0   7.741935  \n",
       "1         6        13      9702   L2G         3     18.0  15.666667  \n",
       "2         6        14      9702   L4E        27     12.0   7.481481  \n",
       "3         6        14      9702   L4E        16      9.0   6.812500  \n",
       "4        10        25      9702   L2F        37     14.0   6.864865  "
      ]
     },
     "execution_count": 13,
     "metadata": {},
     "output_type": "execute_result"
    }
   ],
   "source": [
    "data.head()"
   ]
  },
  {
   "cell_type": "code",
   "execution_count": 41,
   "id": "7c8f35c4",
   "metadata": {},
   "outputs": [],
   "source": [
    "d_num=data.select_dtypes(np.number)\n",
    "d_cat=data.select_dtypes(object)"
   ]
  },
  {
   "cell_type": "markdown",
   "id": "1618ed4d",
   "metadata": {},
   "source": [
    "# Numeric columns handling "
   ]
  },
  {
   "cell_type": "code",
   "execution_count": null,
   "id": "6a8ade78",
   "metadata": {},
   "outputs": [],
   "source": [
    "d_num.info()"
   ]
  },
  {
   "cell_type": "markdown",
   "id": "ae10be53",
   "metadata": {},
   "source": [
    "## create a nulls df which summarises % of nulls per column "
   ]
  },
  {
   "cell_type": "code",
   "execution_count": 34,
   "id": "a9707bb2",
   "metadata": {},
   "outputs": [],
   "source": [
    "nulls=pd.DataFrame(d_num.isna().sum()/len(d_num)) # work on the numericals first \n",
    "# eg 3 rows nulls / 4 rows data "
   ]
  },
  {
   "cell_type": "code",
   "execution_count": 35,
   "id": "0461ae2e",
   "metadata": {},
   "outputs": [],
   "source": [
    "nulls.reset_index(inplace=True)"
   ]
  },
  {
   "cell_type": "code",
   "execution_count": 36,
   "id": "ce7b2109",
   "metadata": {},
   "outputs": [
    {
     "data": {
      "text/html": [
       "<div>\n",
       "<style scoped>\n",
       "    .dataframe tbody tr th:only-of-type {\n",
       "        vertical-align: middle;\n",
       "    }\n",
       "\n",
       "    .dataframe tbody tr th {\n",
       "        vertical-align: top;\n",
       "    }\n",
       "\n",
       "    .dataframe thead th {\n",
       "        text-align: right;\n",
       "    }\n",
       "</style>\n",
       "<table border=\"1\" class=\"dataframe\">\n",
       "  <thead>\n",
       "    <tr style=\"text-align: right;\">\n",
       "      <th></th>\n",
       "      <th>column_name</th>\n",
       "      <th>percentage_nulls</th>\n",
       "    </tr>\n",
       "  </thead>\n",
       "  <tbody>\n",
       "    <tr>\n",
       "      <th>1</th>\n",
       "      <td>INCOME</td>\n",
       "      <td>0.222838</td>\n",
       "    </tr>\n",
       "    <tr>\n",
       "      <th>17</th>\n",
       "      <td>TIMELAG</td>\n",
       "      <td>0.106572</td>\n",
       "    </tr>\n",
       "    <tr>\n",
       "      <th>0</th>\n",
       "      <td>DOB</td>\n",
       "      <td>0.000000</td>\n",
       "    </tr>\n",
       "    <tr>\n",
       "      <th>10</th>\n",
       "      <td>IC5</td>\n",
       "      <td>0.000000</td>\n",
       "    </tr>\n",
       "    <tr>\n",
       "      <th>16</th>\n",
       "      <td>NGIFTALL</td>\n",
       "      <td>0.000000</td>\n",
       "    </tr>\n",
       "    <tr>\n",
       "      <th>15</th>\n",
       "      <td>MAXADATE</td>\n",
       "      <td>0.000000</td>\n",
       "    </tr>\n",
       "    <tr>\n",
       "      <th>14</th>\n",
       "      <td>NUMPRM12</td>\n",
       "      <td>0.000000</td>\n",
       "    </tr>\n",
       "    <tr>\n",
       "      <th>13</th>\n",
       "      <td>CARDPM12</td>\n",
       "      <td>0.000000</td>\n",
       "    </tr>\n",
       "    <tr>\n",
       "      <th>12</th>\n",
       "      <td>CARDPROM</td>\n",
       "      <td>0.000000</td>\n",
       "    </tr>\n",
       "    <tr>\n",
       "      <th>11</th>\n",
       "      <td>NUMPROM</td>\n",
       "      <td>0.000000</td>\n",
       "    </tr>\n",
       "    <tr>\n",
       "      <th>9</th>\n",
       "      <td>IC4</td>\n",
       "      <td>0.000000</td>\n",
       "    </tr>\n",
       "    <tr>\n",
       "      <th>8</th>\n",
       "      <td>IC3</td>\n",
       "      <td>0.000000</td>\n",
       "    </tr>\n",
       "    <tr>\n",
       "      <th>7</th>\n",
       "      <td>IC2</td>\n",
       "      <td>0.000000</td>\n",
       "    </tr>\n",
       "    <tr>\n",
       "      <th>6</th>\n",
       "      <td>IC1</td>\n",
       "      <td>0.000000</td>\n",
       "    </tr>\n",
       "    <tr>\n",
       "      <th>5</th>\n",
       "      <td>HV4</td>\n",
       "      <td>0.000000</td>\n",
       "    </tr>\n",
       "    <tr>\n",
       "      <th>4</th>\n",
       "      <td>HV3</td>\n",
       "      <td>0.000000</td>\n",
       "    </tr>\n",
       "    <tr>\n",
       "      <th>3</th>\n",
       "      <td>HV2</td>\n",
       "      <td>0.000000</td>\n",
       "    </tr>\n",
       "    <tr>\n",
       "      <th>2</th>\n",
       "      <td>HV1</td>\n",
       "      <td>0.000000</td>\n",
       "    </tr>\n",
       "    <tr>\n",
       "      <th>18</th>\n",
       "      <td>AVGGIFT</td>\n",
       "      <td>0.000000</td>\n",
       "    </tr>\n",
       "  </tbody>\n",
       "</table>\n",
       "</div>"
      ],
      "text/plain": [
       "   column_name  percentage_nulls\n",
       "1       INCOME          0.222838\n",
       "17     TIMELAG          0.106572\n",
       "0          DOB          0.000000\n",
       "10         IC5          0.000000\n",
       "16    NGIFTALL          0.000000\n",
       "15    MAXADATE          0.000000\n",
       "14    NUMPRM12          0.000000\n",
       "13    CARDPM12          0.000000\n",
       "12    CARDPROM          0.000000\n",
       "11     NUMPROM          0.000000\n",
       "9          IC4          0.000000\n",
       "8          IC3          0.000000\n",
       "7          IC2          0.000000\n",
       "6          IC1          0.000000\n",
       "5          HV4          0.000000\n",
       "4          HV3          0.000000\n",
       "3          HV2          0.000000\n",
       "2          HV1          0.000000\n",
       "18     AVGGIFT          0.000000"
      ]
     },
     "execution_count": 36,
     "metadata": {},
     "output_type": "execute_result"
    }
   ],
   "source": [
    "nulls.columns=['column_name','percentage_nulls']\n",
    "nulls.sort_values(by='percentage_nulls',ascending=False)\n",
    "# this is your data quality snapshot "
   ]
  },
  {
   "cell_type": "markdown",
   "id": "d412113b",
   "metadata": {},
   "source": [
    "## fill in nulls \n",
    "- with a fixed value \n",
    "- with interpolation "
   ]
  },
  {
   "cell_type": "code",
   "execution_count": null,
   "id": "0cc4aa44",
   "metadata": {},
   "outputs": [],
   "source": [
    "d_num.describe()"
   ]
  },
  {
   "cell_type": "code",
   "execution_count": null,
   "id": "3b2d3222",
   "metadata": {},
   "outputs": [],
   "source": [
    "d_num['INCOME'].unique()"
   ]
  },
  {
   "cell_type": "code",
   "execution_count": null,
   "id": "2b0592d5",
   "metadata": {},
   "outputs": [],
   "source": [
    "d_num['INCOME'].value_counts()"
   ]
  },
  {
   "cell_type": "code",
   "execution_count": null,
   "id": "cd96e296",
   "metadata": {},
   "outputs": [],
   "source": [
    "d_num['INCOME'].median()"
   ]
  },
  {
   "cell_type": "code",
   "execution_count": null,
   "id": "d90c52ba",
   "metadata": {},
   "outputs": [],
   "source": [
    "d_num['INCOME'].mean()"
   ]
  },
  {
   "cell_type": "code",
   "execution_count": null,
   "id": "ecd61342",
   "metadata": {},
   "outputs": [],
   "source": [
    "d_num['INCOME'].hist()"
   ]
  },
  {
   "cell_type": "code",
   "execution_count": null,
   "id": "2265456f",
   "metadata": {},
   "outputs": [],
   "source": [
    "d_num.head(10)"
   ]
  },
  {
   "cell_type": "code",
   "execution_count": null,
   "id": "9872da9d",
   "metadata": {},
   "outputs": [],
   "source": [
    "zeros_d=d_num['INCOME'].fillna(0)"
   ]
  },
  {
   "cell_type": "code",
   "execution_count": null,
   "id": "18296b2d",
   "metadata": {},
   "outputs": [],
   "source": [
    "zeros_d.head(10)"
   ]
  },
  {
   "cell_type": "code",
   "execution_count": null,
   "id": "d2dc4628",
   "metadata": {},
   "outputs": [],
   "source": [
    "zeros_d.hist()"
   ]
  },
  {
   "cell_type": "markdown",
   "id": "8bdfef54",
   "metadata": {},
   "source": [
    "### after picking your method - apply to your dataframe "
   ]
  },
  {
   "cell_type": "code",
   "execution_count": 19,
   "id": "774d7564",
   "metadata": {},
   "outputs": [],
   "source": [
    "import warnings\n",
    "warnings.filterwarnings('ignore')"
   ]
  },
  {
   "cell_type": "code",
   "execution_count": 20,
   "id": "99fef37f",
   "metadata": {},
   "outputs": [],
   "source": [
    "d_num['INCOME']=d_num['INCOME'].fillna(0)"
   ]
  },
  {
   "cell_type": "code",
   "execution_count": null,
   "id": "297518ad",
   "metadata": {},
   "outputs": [],
   "source": [
    "d_num['TIMELAG'].hist()"
   ]
  },
  {
   "cell_type": "code",
   "execution_count": null,
   "id": "3c3f022e",
   "metadata": {},
   "outputs": [],
   "source": [
    "d_num['TIMELAG'].unique()"
   ]
  },
  {
   "cell_type": "code",
   "execution_count": null,
   "id": "8ebf8f73",
   "metadata": {},
   "outputs": [],
   "source": [
    "d_num.describe()"
   ]
  },
  {
   "cell_type": "code",
   "execution_count": null,
   "id": "86230384",
   "metadata": {},
   "outputs": [],
   "source": [
    "d_num['TIMELAG'].describe()"
   ]
  },
  {
   "cell_type": "code",
   "execution_count": null,
   "id": "c2cd6660",
   "metadata": {},
   "outputs": [],
   "source": [
    "timelag=d_num['TIMELAG']"
   ]
  },
  {
   "cell_type": "code",
   "execution_count": null,
   "id": "7de3efe3",
   "metadata": {},
   "outputs": [],
   "source": [
    "timelag=timelag[timelag<60]"
   ]
  },
  {
   "cell_type": "code",
   "execution_count": null,
   "id": "72b2717f",
   "metadata": {},
   "outputs": [],
   "source": [
    "timelag.hist(bins=5)"
   ]
  },
  {
   "cell_type": "code",
   "execution_count": null,
   "id": "bd284393",
   "metadata": {},
   "outputs": [],
   "source": [
    "d_num.columns"
   ]
  },
  {
   "cell_type": "code",
   "execution_count": null,
   "id": "37ccfb2d",
   "metadata": {},
   "outputs": [],
   "source": [
    "sns.scatterplot(data=d_num, x=\"TIMELAG\", y=\"AVGGIFT\");"
   ]
  },
  {
   "cell_type": "code",
   "execution_count": 37,
   "id": "c00c18c1",
   "metadata": {},
   "outputs": [
    {
     "data": {
      "image/png": "[encoded data removed]",
      "text/plain": [
       "<Figure size 432x288 with 1 Axes>"
      ]
     },
     "metadata": {
      "needs_background": "light"
     },
     "output_type": "display_data"
    }
   ],
   "source": [
    "sns.boxplot(d_num['TIMELAG']);"
   ]
  },
  {
   "cell_type": "code",
   "execution_count": null,
   "id": "4fbb3d76",
   "metadata": {},
   "outputs": [],
   "source": [
    "# removing outliers then scatter plot again \n",
    "- IQR \n",
    "-upper_limit \n",
    "- exclude anything over upper limit \n",
    "OR FILTER BY A FIXED LIMIT "
   ]
  },
  {
   "cell_type": "code",
   "execution_count": 27,
   "id": "311009c2",
   "metadata": {},
   "outputs": [
    {
     "data": {
      "text/html": [
       "<div>\n",
       "<style scoped>\n",
       "    .dataframe tbody tr th:only-of-type {\n",
       "        vertical-align: middle;\n",
       "    }\n",
       "\n",
       "    .dataframe tbody tr th {\n",
       "        vertical-align: top;\n",
       "    }\n",
       "\n",
       "    .dataframe thead th {\n",
       "        text-align: right;\n",
       "    }\n",
       "</style>\n",
       "<table border=\"1\" class=\"dataframe\">\n",
       "  <thead>\n",
       "    <tr style=\"text-align: right;\">\n",
       "      <th></th>\n",
       "      <th>DOB</th>\n",
       "      <th>INCOME</th>\n",
       "      <th>HV1</th>\n",
       "      <th>HV2</th>\n",
       "      <th>HV3</th>\n",
       "      <th>HV4</th>\n",
       "      <th>IC1</th>\n",
       "      <th>IC2</th>\n",
       "      <th>IC3</th>\n",
       "      <th>IC4</th>\n",
       "      <th>IC5</th>\n",
       "      <th>NUMPROM</th>\n",
       "      <th>CARDPROM</th>\n",
       "      <th>CARDPM12</th>\n",
       "      <th>NUMPRM12</th>\n",
       "      <th>MAXADATE</th>\n",
       "      <th>NGIFTALL</th>\n",
       "      <th>TIMELAG</th>\n",
       "      <th>AVGGIFT</th>\n",
       "    </tr>\n",
       "  </thead>\n",
       "  <tbody>\n",
       "    <tr>\n",
       "      <th>0</th>\n",
       "      <td>3712</td>\n",
       "      <td>0.0</td>\n",
       "      <td>479</td>\n",
       "      <td>635</td>\n",
       "      <td>3</td>\n",
       "      <td>2</td>\n",
       "      <td>307</td>\n",
       "      <td>318</td>\n",
       "      <td>349</td>\n",
       "      <td>378</td>\n",
       "      <td>12883</td>\n",
       "      <td>74</td>\n",
       "      <td>27</td>\n",
       "      <td>6</td>\n",
       "      <td>14</td>\n",
       "      <td>9702</td>\n",
       "      <td>31</td>\n",
       "      <td>4.0</td>\n",
       "      <td>7.741935</td>\n",
       "    </tr>\n",
       "    <tr>\n",
       "      <th>1</th>\n",
       "      <td>5202</td>\n",
       "      <td>6.0</td>\n",
       "      <td>5468</td>\n",
       "      <td>5218</td>\n",
       "      <td>12</td>\n",
       "      <td>10</td>\n",
       "      <td>1088</td>\n",
       "      <td>1096</td>\n",
       "      <td>1026</td>\n",
       "      <td>1037</td>\n",
       "      <td>36175</td>\n",
       "      <td>32</td>\n",
       "      <td>12</td>\n",
       "      <td>6</td>\n",
       "      <td>13</td>\n",
       "      <td>9702</td>\n",
       "      <td>3</td>\n",
       "      <td>18.0</td>\n",
       "      <td>15.666667</td>\n",
       "    </tr>\n",
       "    <tr>\n",
       "      <th>2</th>\n",
       "      <td>0</td>\n",
       "      <td>3.0</td>\n",
       "      <td>497</td>\n",
       "      <td>546</td>\n",
       "      <td>2</td>\n",
       "      <td>1</td>\n",
       "      <td>251</td>\n",
       "      <td>292</td>\n",
       "      <td>292</td>\n",
       "      <td>340</td>\n",
       "      <td>11576</td>\n",
       "      <td>63</td>\n",
       "      <td>26</td>\n",
       "      <td>6</td>\n",
       "      <td>14</td>\n",
       "      <td>9702</td>\n",
       "      <td>27</td>\n",
       "      <td>12.0</td>\n",
       "      <td>7.481481</td>\n",
       "    </tr>\n",
       "    <tr>\n",
       "      <th>3</th>\n",
       "      <td>2801</td>\n",
       "      <td>1.0</td>\n",
       "      <td>1000</td>\n",
       "      <td>1263</td>\n",
       "      <td>2</td>\n",
       "      <td>1</td>\n",
       "      <td>386</td>\n",
       "      <td>388</td>\n",
       "      <td>396</td>\n",
       "      <td>423</td>\n",
       "      <td>15130</td>\n",
       "      <td>66</td>\n",
       "      <td>27</td>\n",
       "      <td>6</td>\n",
       "      <td>14</td>\n",
       "      <td>9702</td>\n",
       "      <td>16</td>\n",
       "      <td>9.0</td>\n",
       "      <td>6.812500</td>\n",
       "    </tr>\n",
       "    <tr>\n",
       "      <th>4</th>\n",
       "      <td>2001</td>\n",
       "      <td>3.0</td>\n",
       "      <td>576</td>\n",
       "      <td>594</td>\n",
       "      <td>4</td>\n",
       "      <td>3</td>\n",
       "      <td>240</td>\n",
       "      <td>250</td>\n",
       "      <td>293</td>\n",
       "      <td>321</td>\n",
       "      <td>9836</td>\n",
       "      <td>113</td>\n",
       "      <td>43</td>\n",
       "      <td>10</td>\n",
       "      <td>25</td>\n",
       "      <td>9702</td>\n",
       "      <td>37</td>\n",
       "      <td>14.0</td>\n",
       "      <td>6.864865</td>\n",
       "    </tr>\n",
       "    <tr>\n",
       "      <th>...</th>\n",
       "      <td>...</td>\n",
       "      <td>...</td>\n",
       "      <td>...</td>\n",
       "      <td>...</td>\n",
       "      <td>...</td>\n",
       "      <td>...</td>\n",
       "      <td>...</td>\n",
       "      <td>...</td>\n",
       "      <td>...</td>\n",
       "      <td>...</td>\n",
       "      <td>...</td>\n",
       "      <td>...</td>\n",
       "      <td>...</td>\n",
       "      <td>...</td>\n",
       "      <td>...</td>\n",
       "      <td>...</td>\n",
       "      <td>...</td>\n",
       "      <td>...</td>\n",
       "      <td>...</td>\n",
       "    </tr>\n",
       "    <tr>\n",
       "      <th>90563</th>\n",
       "      <td>4803</td>\n",
       "      <td>6.0</td>\n",
       "      <td>733</td>\n",
       "      <td>875</td>\n",
       "      <td>4</td>\n",
       "      <td>3</td>\n",
       "      <td>285</td>\n",
       "      <td>288</td>\n",
       "      <td>333</td>\n",
       "      <td>334</td>\n",
       "      <td>11390</td>\n",
       "      <td>59</td>\n",
       "      <td>23</td>\n",
       "      <td>5</td>\n",
       "      <td>12</td>\n",
       "      <td>9702</td>\n",
       "      <td>24</td>\n",
       "      <td>3.0</td>\n",
       "      <td>3.375000</td>\n",
       "    </tr>\n",
       "    <tr>\n",
       "      <th>90564</th>\n",
       "      <td>0</td>\n",
       "      <td>0.0</td>\n",
       "      <td>988</td>\n",
       "      <td>1025</td>\n",
       "      <td>6</td>\n",
       "      <td>6</td>\n",
       "      <td>433</td>\n",
       "      <td>481</td>\n",
       "      <td>499</td>\n",
       "      <td>535</td>\n",
       "      <td>18807</td>\n",
       "      <td>14</td>\n",
       "      <td>6</td>\n",
       "      <td>5</td>\n",
       "      <td>12</td>\n",
       "      <td>9702</td>\n",
       "      <td>1</td>\n",
       "      <td>NaN</td>\n",
       "      <td>25.000000</td>\n",
       "    </tr>\n",
       "    <tr>\n",
       "      <th>90565</th>\n",
       "      <td>5001</td>\n",
       "      <td>7.0</td>\n",
       "      <td>1679</td>\n",
       "      <td>1723</td>\n",
       "      <td>3</td>\n",
       "      <td>3</td>\n",
       "      <td>806</td>\n",
       "      <td>836</td>\n",
       "      <td>802</td>\n",
       "      <td>849</td>\n",
       "      <td>26538</td>\n",
       "      <td>10</td>\n",
       "      <td>4</td>\n",
       "      <td>3</td>\n",
       "      <td>8</td>\n",
       "      <td>9702</td>\n",
       "      <td>1</td>\n",
       "      <td>NaN</td>\n",
       "      <td>20.000000</td>\n",
       "    </tr>\n",
       "    <tr>\n",
       "      <th>90566</th>\n",
       "      <td>3801</td>\n",
       "      <td>0.0</td>\n",
       "      <td>376</td>\n",
       "      <td>377</td>\n",
       "      <td>4</td>\n",
       "      <td>3</td>\n",
       "      <td>263</td>\n",
       "      <td>264</td>\n",
       "      <td>319</td>\n",
       "      <td>345</td>\n",
       "      <td>12178</td>\n",
       "      <td>33</td>\n",
       "      <td>14</td>\n",
       "      <td>7</td>\n",
       "      <td>17</td>\n",
       "      <td>9702</td>\n",
       "      <td>7</td>\n",
       "      <td>3.0</td>\n",
       "      <td>8.285714</td>\n",
       "    </tr>\n",
       "    <tr>\n",
       "      <th>90567</th>\n",
       "      <td>1801</td>\n",
       "      <td>5.0</td>\n",
       "      <td>938</td>\n",
       "      <td>1049</td>\n",
       "      <td>5</td>\n",
       "      <td>5</td>\n",
       "      <td>451</td>\n",
       "      <td>474</td>\n",
       "      <td>499</td>\n",
       "      <td>519</td>\n",
       "      <td>16699</td>\n",
       "      <td>139</td>\n",
       "      <td>32</td>\n",
       "      <td>6</td>\n",
       "      <td>35</td>\n",
       "      <td>9702</td>\n",
       "      <td>39</td>\n",
       "      <td>6.0</td>\n",
       "      <td>96.794872</td>\n",
       "    </tr>\n",
       "  </tbody>\n",
       "</table>\n",
       "<p>90568 rows × 19 columns</p>\n",
       "</div>"
      ],
      "text/plain": [
       "        DOB  INCOME   HV1   HV2  HV3  HV4   IC1   IC2   IC3   IC4    IC5  \\\n",
       "0      3712     0.0   479   635    3    2   307   318   349   378  12883   \n",
       "1      5202     6.0  5468  5218   12   10  1088  1096  1026  1037  36175   \n",
       "2         0     3.0   497   546    2    1   251   292   292   340  11576   \n",
       "3      2801     1.0  1000  1263    2    1   386   388   396   423  15130   \n",
       "4      2001     3.0   576   594    4    3   240   250   293   321   9836   \n",
       "...     ...     ...   ...   ...  ...  ...   ...   ...   ...   ...    ...   \n",
       "90563  4803     6.0   733   875    4    3   285   288   333   334  11390   \n",
       "90564     0     0.0   988  1025    6    6   433   481   499   535  18807   \n",
       "90565  5001     7.0  1679  1723    3    3   806   836   802   849  26538   \n",
       "90566  3801     0.0   376   377    4    3   263   264   319   345  12178   \n",
       "90567  1801     5.0   938  1049    5    5   451   474   499   519  16699   \n",
       "\n",
       "       NUMPROM  CARDPROM  CARDPM12  NUMPRM12  MAXADATE  NGIFTALL  TIMELAG  \\\n",
       "0           74        27         6        14      9702        31      4.0   \n",
       "1           32        12         6        13      9702         3     18.0   \n",
       "2           63        26         6        14      9702        27     12.0   \n",
       "3           66        27         6        14      9702        16      9.0   \n",
       "4          113        43        10        25      9702        37     14.0   \n",
       "...        ...       ...       ...       ...       ...       ...      ...   \n",
       "90563       59        23         5        12      9702        24      3.0   \n",
       "90564       14         6         5        12      9702         1      NaN   \n",
       "90565       10         4         3         8      9702         1      NaN   \n",
       "90566       33        14         7        17      9702         7      3.0   \n",
       "90567      139        32         6        35      9702        39      6.0   \n",
       "\n",
       "         AVGGIFT  \n",
       "0       7.741935  \n",
       "1      15.666667  \n",
       "2       7.481481  \n",
       "3       6.812500  \n",
       "4       6.864865  \n",
       "...          ...  \n",
       "90563   3.375000  \n",
       "90564  25.000000  \n",
       "90565  20.000000  \n",
       "90566   8.285714  \n",
       "90567  96.794872  \n",
       "\n",
       "[90568 rows x 19 columns]"
      ]
     },
     "execution_count": 27,
     "metadata": {},
     "output_type": "execute_result"
    }
   ],
   "source": [
    "d_num"
   ]
  },
  {
   "cell_type": "code",
   "execution_count": 42,
   "id": "77241501",
   "metadata": {},
   "outputs": [],
   "source": [
    "d_num['TIMELAG']=d_num['TIMELAG'].fillna(0)"
   ]
  },
  {
   "cell_type": "code",
   "execution_count": 44,
   "id": "7f409218",
   "metadata": {},
   "outputs": [],
   "source": [
    "iqr= np.percentile(d_num['TIMELAG'],75) - np.percentile(d_num['TIMELAG'],25)\n",
    "upper=np.percentile(d_num['TIMELAG'],75) + iqr \n",
    "new_data=data[data['TIMELAG']<upper]"
   ]
  },
  {
   "cell_type": "code",
   "execution_count": 46,
   "id": "5e856e47",
   "metadata": {},
   "outputs": [
    {
     "data": {
      "text/plain": [
       "(74023, 28)"
      ]
     },
     "execution_count": 46,
     "metadata": {},
     "output_type": "execute_result"
    }
   ],
   "source": [
    "new_data.shape # extreme "
   ]
  },
  {
   "cell_type": "code",
   "execution_count": 45,
   "id": "e6677097",
   "metadata": {},
   "outputs": [
    {
     "data": {
      "text/plain": [
       "<AxesSubplot:>"
      ]
     },
     "execution_count": 45,
     "metadata": {},
     "output_type": "execute_result"
    },
    {
     "data": {
      "image/png": "[encoded data removed]",
      "text/plain": [
       "<Figure size 432x288 with 1 Axes>"
      ]
     },
     "metadata": {
      "needs_background": "light"
     },
     "output_type": "display_data"
    }
   ],
   "source": [
    "new_data['TIMELAG'].hist()"
   ]
  },
  {
   "cell_type": "code",
   "execution_count": 47,
   "id": "12930724",
   "metadata": {},
   "outputs": [],
   "source": [
    "# pd.cut or pd.qcut \n",
    "# OR create function to bucket values \n",
    "def timelag_group(x):\n",
    "    if x == 0:\n",
    "        return 'unknown'\n",
    "    elif x < 4:\n",
    "        return 'less than 4 months'\n",
    "    elif x < 8: \n",
    "        return '4-7 months'\n",
    "    elif x <= 12:\n",
    "        return 'up to 1 year'\n",
    "    elif x  <= 24:\n",
    "        return 'up to 2 years'\n",
    "    else:\n",
    "        return 'long lapse'"
   ]
  },
  {
   "cell_type": "code",
   "execution_count": 50,
   "id": "d9af6b98",
   "metadata": {},
   "outputs": [],
   "source": [
    "d_num['TIMEGROUP']=list(map(timelag_group,d_num['TIMELAG']))"
   ]
  },
  {
   "cell_type": "code",
   "execution_count": 51,
   "id": "499ffde2",
   "metadata": {},
   "outputs": [
    {
     "data": {
      "text/html": [
       "<div>\n",
       "<style scoped>\n",
       "    .dataframe tbody tr th:only-of-type {\n",
       "        vertical-align: middle;\n",
       "    }\n",
       "\n",
       "    .dataframe tbody tr th {\n",
       "        vertical-align: top;\n",
       "    }\n",
       "\n",
       "    .dataframe thead th {\n",
       "        text-align: right;\n",
       "    }\n",
       "</style>\n",
       "<table border=\"1\" class=\"dataframe\">\n",
       "  <thead>\n",
       "    <tr style=\"text-align: right;\">\n",
       "      <th></th>\n",
       "      <th>DOB</th>\n",
       "      <th>INCOME</th>\n",
       "      <th>HV1</th>\n",
       "      <th>HV2</th>\n",
       "      <th>HV3</th>\n",
       "      <th>HV4</th>\n",
       "      <th>IC1</th>\n",
       "      <th>IC2</th>\n",
       "      <th>IC3</th>\n",
       "      <th>IC4</th>\n",
       "      <th>IC5</th>\n",
       "      <th>NUMPROM</th>\n",
       "      <th>CARDPROM</th>\n",
       "      <th>CARDPM12</th>\n",
       "      <th>NUMPRM12</th>\n",
       "      <th>MAXADATE</th>\n",
       "      <th>NGIFTALL</th>\n",
       "      <th>TIMELAG</th>\n",
       "      <th>AVGGIFT</th>\n",
       "      <th>TIMEGROUP</th>\n",
       "    </tr>\n",
       "  </thead>\n",
       "  <tbody>\n",
       "    <tr>\n",
       "      <th>0</th>\n",
       "      <td>3712</td>\n",
       "      <td>NaN</td>\n",
       "      <td>479</td>\n",
       "      <td>635</td>\n",
       "      <td>3</td>\n",
       "      <td>2</td>\n",
       "      <td>307</td>\n",
       "      <td>318</td>\n",
       "      <td>349</td>\n",
       "      <td>378</td>\n",
       "      <td>12883</td>\n",
       "      <td>74</td>\n",
       "      <td>27</td>\n",
       "      <td>6</td>\n",
       "      <td>14</td>\n",
       "      <td>9702</td>\n",
       "      <td>31</td>\n",
       "      <td>4.0</td>\n",
       "      <td>7.741935</td>\n",
       "      <td>4-7 months</td>\n",
       "    </tr>\n",
       "    <tr>\n",
       "      <th>1</th>\n",
       "      <td>5202</td>\n",
       "      <td>6.0</td>\n",
       "      <td>5468</td>\n",
       "      <td>5218</td>\n",
       "      <td>12</td>\n",
       "      <td>10</td>\n",
       "      <td>1088</td>\n",
       "      <td>1096</td>\n",
       "      <td>1026</td>\n",
       "      <td>1037</td>\n",
       "      <td>36175</td>\n",
       "      <td>32</td>\n",
       "      <td>12</td>\n",
       "      <td>6</td>\n",
       "      <td>13</td>\n",
       "      <td>9702</td>\n",
       "      <td>3</td>\n",
       "      <td>18.0</td>\n",
       "      <td>15.666667</td>\n",
       "      <td>up to 2 years</td>\n",
       "    </tr>\n",
       "    <tr>\n",
       "      <th>2</th>\n",
       "      <td>0</td>\n",
       "      <td>3.0</td>\n",
       "      <td>497</td>\n",
       "      <td>546</td>\n",
       "      <td>2</td>\n",
       "      <td>1</td>\n",
       "      <td>251</td>\n",
       "      <td>292</td>\n",
       "      <td>292</td>\n",
       "      <td>340</td>\n",
       "      <td>11576</td>\n",
       "      <td>63</td>\n",
       "      <td>26</td>\n",
       "      <td>6</td>\n",
       "      <td>14</td>\n",
       "      <td>9702</td>\n",
       "      <td>27</td>\n",
       "      <td>12.0</td>\n",
       "      <td>7.481481</td>\n",
       "      <td>up to 1 year</td>\n",
       "    </tr>\n",
       "    <tr>\n",
       "      <th>3</th>\n",
       "      <td>2801</td>\n",
       "      <td>1.0</td>\n",
       "      <td>1000</td>\n",
       "      <td>1263</td>\n",
       "      <td>2</td>\n",
       "      <td>1</td>\n",
       "      <td>386</td>\n",
       "      <td>388</td>\n",
       "      <td>396</td>\n",
       "      <td>423</td>\n",
       "      <td>15130</td>\n",
       "      <td>66</td>\n",
       "      <td>27</td>\n",
       "      <td>6</td>\n",
       "      <td>14</td>\n",
       "      <td>9702</td>\n",
       "      <td>16</td>\n",
       "      <td>9.0</td>\n",
       "      <td>6.812500</td>\n",
       "      <td>up to 1 year</td>\n",
       "    </tr>\n",
       "    <tr>\n",
       "      <th>4</th>\n",
       "      <td>2001</td>\n",
       "      <td>3.0</td>\n",
       "      <td>576</td>\n",
       "      <td>594</td>\n",
       "      <td>4</td>\n",
       "      <td>3</td>\n",
       "      <td>240</td>\n",
       "      <td>250</td>\n",
       "      <td>293</td>\n",
       "      <td>321</td>\n",
       "      <td>9836</td>\n",
       "      <td>113</td>\n",
       "      <td>43</td>\n",
       "      <td>10</td>\n",
       "      <td>25</td>\n",
       "      <td>9702</td>\n",
       "      <td>37</td>\n",
       "      <td>14.0</td>\n",
       "      <td>6.864865</td>\n",
       "      <td>up to 2 years</td>\n",
       "    </tr>\n",
       "    <tr>\n",
       "      <th>...</th>\n",
       "      <td>...</td>\n",
       "      <td>...</td>\n",
       "      <td>...</td>\n",
       "      <td>...</td>\n",
       "      <td>...</td>\n",
       "      <td>...</td>\n",
       "      <td>...</td>\n",
       "      <td>...</td>\n",
       "      <td>...</td>\n",
       "      <td>...</td>\n",
       "      <td>...</td>\n",
       "      <td>...</td>\n",
       "      <td>...</td>\n",
       "      <td>...</td>\n",
       "      <td>...</td>\n",
       "      <td>...</td>\n",
       "      <td>...</td>\n",
       "      <td>...</td>\n",
       "      <td>...</td>\n",
       "      <td>...</td>\n",
       "    </tr>\n",
       "    <tr>\n",
       "      <th>90563</th>\n",
       "      <td>4803</td>\n",
       "      <td>6.0</td>\n",
       "      <td>733</td>\n",
       "      <td>875</td>\n",
       "      <td>4</td>\n",
       "      <td>3</td>\n",
       "      <td>285</td>\n",
       "      <td>288</td>\n",
       "      <td>333</td>\n",
       "      <td>334</td>\n",
       "      <td>11390</td>\n",
       "      <td>59</td>\n",
       "      <td>23</td>\n",
       "      <td>5</td>\n",
       "      <td>12</td>\n",
       "      <td>9702</td>\n",
       "      <td>24</td>\n",
       "      <td>3.0</td>\n",
       "      <td>3.375000</td>\n",
       "      <td>less than 4 months</td>\n",
       "    </tr>\n",
       "    <tr>\n",
       "      <th>90564</th>\n",
       "      <td>0</td>\n",
       "      <td>NaN</td>\n",
       "      <td>988</td>\n",
       "      <td>1025</td>\n",
       "      <td>6</td>\n",
       "      <td>6</td>\n",
       "      <td>433</td>\n",
       "      <td>481</td>\n",
       "      <td>499</td>\n",
       "      <td>535</td>\n",
       "      <td>18807</td>\n",
       "      <td>14</td>\n",
       "      <td>6</td>\n",
       "      <td>5</td>\n",
       "      <td>12</td>\n",
       "      <td>9702</td>\n",
       "      <td>1</td>\n",
       "      <td>0.0</td>\n",
       "      <td>25.000000</td>\n",
       "      <td>unknown</td>\n",
       "    </tr>\n",
       "    <tr>\n",
       "      <th>90565</th>\n",
       "      <td>5001</td>\n",
       "      <td>7.0</td>\n",
       "      <td>1679</td>\n",
       "      <td>1723</td>\n",
       "      <td>3</td>\n",
       "      <td>3</td>\n",
       "      <td>806</td>\n",
       "      <td>836</td>\n",
       "      <td>802</td>\n",
       "      <td>849</td>\n",
       "      <td>26538</td>\n",
       "      <td>10</td>\n",
       "      <td>4</td>\n",
       "      <td>3</td>\n",
       "      <td>8</td>\n",
       "      <td>9702</td>\n",
       "      <td>1</td>\n",
       "      <td>0.0</td>\n",
       "      <td>20.000000</td>\n",
       "      <td>unknown</td>\n",
       "    </tr>\n",
       "    <tr>\n",
       "      <th>90566</th>\n",
       "      <td>3801</td>\n",
       "      <td>NaN</td>\n",
       "      <td>376</td>\n",
       "      <td>377</td>\n",
       "      <td>4</td>\n",
       "      <td>3</td>\n",
       "      <td>263</td>\n",
       "      <td>264</td>\n",
       "      <td>319</td>\n",
       "      <td>345</td>\n",
       "      <td>12178</td>\n",
       "      <td>33</td>\n",
       "      <td>14</td>\n",
       "      <td>7</td>\n",
       "      <td>17</td>\n",
       "      <td>9702</td>\n",
       "      <td>7</td>\n",
       "      <td>3.0</td>\n",
       "      <td>8.285714</td>\n",
       "      <td>less than 4 months</td>\n",
       "    </tr>\n",
       "    <tr>\n",
       "      <th>90567</th>\n",
       "      <td>1801</td>\n",
       "      <td>5.0</td>\n",
       "      <td>938</td>\n",
       "      <td>1049</td>\n",
       "      <td>5</td>\n",
       "      <td>5</td>\n",
       "      <td>451</td>\n",
       "      <td>474</td>\n",
       "      <td>499</td>\n",
       "      <td>519</td>\n",
       "      <td>16699</td>\n",
       "      <td>139</td>\n",
       "      <td>32</td>\n",
       "      <td>6</td>\n",
       "      <td>35</td>\n",
       "      <td>9702</td>\n",
       "      <td>39</td>\n",
       "      <td>6.0</td>\n",
       "      <td>96.794872</td>\n",
       "      <td>4-7 months</td>\n",
       "    </tr>\n",
       "  </tbody>\n",
       "</table>\n",
       "<p>90568 rows × 20 columns</p>\n",
       "</div>"
      ],
      "text/plain": [
       "        DOB  INCOME   HV1   HV2  HV3  HV4   IC1   IC2   IC3   IC4    IC5  \\\n",
       "0      3712     NaN   479   635    3    2   307   318   349   378  12883   \n",
       "1      5202     6.0  5468  5218   12   10  1088  1096  1026  1037  36175   \n",
       "2         0     3.0   497   546    2    1   251   292   292   340  11576   \n",
       "3      2801     1.0  1000  1263    2    1   386   388   396   423  15130   \n",
       "4      2001     3.0   576   594    4    3   240   250   293   321   9836   \n",
       "...     ...     ...   ...   ...  ...  ...   ...   ...   ...   ...    ...   \n",
       "90563  4803     6.0   733   875    4    3   285   288   333   334  11390   \n",
       "90564     0     NaN   988  1025    6    6   433   481   499   535  18807   \n",
       "90565  5001     7.0  1679  1723    3    3   806   836   802   849  26538   \n",
       "90566  3801     NaN   376   377    4    3   263   264   319   345  12178   \n",
       "90567  1801     5.0   938  1049    5    5   451   474   499   519  16699   \n",
       "\n",
       "       NUMPROM  CARDPROM  CARDPM12  NUMPRM12  MAXADATE  NGIFTALL  TIMELAG  \\\n",
       "0           74        27         6        14      9702        31      4.0   \n",
       "1           32        12         6        13      9702         3     18.0   \n",
       "2           63        26         6        14      9702        27     12.0   \n",
       "3           66        27         6        14      9702        16      9.0   \n",
       "4          113        43        10        25      9702        37     14.0   \n",
       "...        ...       ...       ...       ...       ...       ...      ...   \n",
       "90563       59        23         5        12      9702        24      3.0   \n",
       "90564       14         6         5        12      9702         1      0.0   \n",
       "90565       10         4         3         8      9702         1      0.0   \n",
       "90566       33        14         7        17      9702         7      3.0   \n",
       "90567      139        32         6        35      9702        39      6.0   \n",
       "\n",
       "         AVGGIFT           TIMEGROUP  \n",
       "0       7.741935          4-7 months  \n",
       "1      15.666667       up to 2 years  \n",
       "2       7.481481        up to 1 year  \n",
       "3       6.812500        up to 1 year  \n",
       "4       6.864865       up to 2 years  \n",
       "...          ...                 ...  \n",
       "90563   3.375000  less than 4 months  \n",
       "90564  25.000000             unknown  \n",
       "90565  20.000000             unknown  \n",
       "90566   8.285714  less than 4 months  \n",
       "90567  96.794872          4-7 months  \n",
       "\n",
       "[90568 rows x 20 columns]"
      ]
     },
     "execution_count": 51,
     "metadata": {},
     "output_type": "execute_result"
    }
   ],
   "source": [
    "d_num"
   ]
  },
  {
   "cell_type": "code",
   "execution_count": null,
   "id": "9171e1a3",
   "metadata": {},
   "outputs": [],
   "source": []
  },
  {
   "cell_type": "markdown",
   "id": "e4288324",
   "metadata": {},
   "source": [
    "## correlation "
   ]
  },
  {
   "cell_type": "code",
   "execution_count": null,
   "id": "a1477265",
   "metadata": {},
   "outputs": [],
   "source": [
    "- correlation matrix (with or without mask, consider colours )\n",
    "- joint plot \n",
    "- pair plot \n",
    "- scatter plot \n",
    "- box plot "
   ]
  },
  {
   "cell_type": "code",
   "execution_count": 54,
   "id": "4c82f95e",
   "metadata": {},
   "outputs": [
    {
     "data": {
      "text/plain": [
       "<AxesSubplot:>"
      ]
     },
     "execution_count": 54,
     "metadata": {},
     "output_type": "execute_result"
    },
    {
     "data": {
      "image/png": "[encoded data removed]",
      "text/plain": [
       "<Figure size 792x648 with 2 Axes>"
      ]
     },
     "metadata": {
      "needs_background": "light"
     },
     "output_type": "display_data"
    }
   ],
   "source": [
    "corr=d_num.corr(method='pearson')\n",
    "\n",
    "mask = np.triu(np.ones_like(corr, dtype=bool))\n",
    "\n",
    "# Set up the matplotlib figure\n",
    "f, ax = plt.subplots(figsize=(11, 9))\n",
    "\n",
    "# Generate a custom diverging colormap\n",
    "cmap = sns.diverging_palette(230, 20, as_cmap=True)\n",
    "\n",
    "# Draw the heatmap with the mask and correct aspect ratio\n",
    "sns.heatmap(corr, mask=mask, cmap=cmap, vmax=.3, center=0,\n",
    "            square=True, linewidths=.5, cbar_kws={\"shrink\": .5})"
   ]
  },
  {
   "cell_type": "code",
   "execution_count": 58,
   "id": "45463cb9",
   "metadata": {},
   "outputs": [
    {
     "data": {
      "text/plain": [
       "<seaborn.axisgrid.JointGrid at 0x7fabb8f36d00>"
      ]
     },
     "execution_count": 58,
     "metadata": {},
     "output_type": "execute_result"
    },
    {
     "data": {
      "image/png": "[encoded data removed]",
      "text/plain": [
       "<Figure size 432x432 with 3 Axes>"
      ]
     },
     "metadata": {
      "needs_background": "light"
     },
     "output_type": "display_data"
    }
   ],
   "source": [
    "sns.jointplot(x=\"HV1\", y=\"HV2\", data=d_num, kind='reg',joint_kws={'line_kws':{'color':'black'}});"
   ]
  },
  {
   "cell_type": "markdown",
   "id": "cdb9fe37",
   "metadata": {},
   "source": [
    "### VIF "
   ]
  },
  {
   "cell_type": "code",
   "execution_count": null,
   "id": "ccfa34f2",
   "metadata": {},
   "outputs": [],
   "source": []
  },
  {
   "cell_type": "code",
   "execution_count": null,
   "id": "81094133",
   "metadata": {},
   "outputs": [],
   "source": []
  },
  {
   "cell_type": "code",
   "execution_count": null,
   "id": "acada360",
   "metadata": {},
   "outputs": [],
   "source": []
  },
  {
   "cell_type": "code",
   "execution_count": null,
   "id": "4f6bc531",
   "metadata": {},
   "outputs": [],
   "source": []
  },
  {
   "cell_type": "code",
   "execution_count": null,
   "id": "0559e2d4",
   "metadata": {},
   "outputs": [],
   "source": []
  },
  {
   "cell_type": "code",
   "execution_count": null,
   "id": "ae4aa855",
   "metadata": {},
   "outputs": [],
   "source": []
  },
  {
   "cell_type": "markdown",
   "id": "070add9e",
   "metadata": {},
   "source": [
    "# Categorical columns "
   ]
  },
  {
   "cell_type": "code",
   "execution_count": null,
   "id": "45341865",
   "metadata": {},
   "outputs": [],
   "source": [
    "d_cat.columns"
   ]
  },
  {
   "cell_type": "code",
   "execution_count": null,
   "id": "8a5ebaf4",
   "metadata": {},
   "outputs": [],
   "source": [
    "d_cat.info()"
   ]
  },
  {
   "cell_type": "markdown",
   "id": "46ccfdf7",
   "metadata": {},
   "source": [
    "### common things to check \n",
    "- blanks and nulls and any other weird values \n",
    "- relevance - from the cat to the target \n",
    "    - chi squared test \n",
    "- cardinality (how many diff values are in that column, are there some small ones which can be grouped)"
   ]
  },
  {
   "cell_type": "code",
   "execution_count": null,
   "id": "37f58023",
   "metadata": {},
   "outputs": [],
   "source": [
    "d_cat['MDMAUD'].unique()"
   ]
  },
  {
   "cell_type": "code",
   "execution_count": null,
   "id": "fd6fc5b0",
   "metadata": {},
   "outputs": [],
   "source": [
    "d_cat['MDMAUD'].value_counts()"
   ]
  },
  {
   "cell_type": "code",
   "execution_count": null,
   "id": "724acd2b",
   "metadata": {},
   "outputs": [],
   "source": [
    "major=data[(data.MDMAUD != 'XXXX')] # looking at major donors only "
   ]
  },
  {
   "cell_type": "code",
   "execution_count": null,
   "id": "e39e9a82",
   "metadata": {},
   "outputs": [],
   "source": [
    "major.describe()"
   ]
  },
  {
   "cell_type": "code",
   "execution_count": null,
   "id": "26c44eb1",
   "metadata": {},
   "outputs": [],
   "source": [
    "d_num['AVGGIFT'].mean()"
   ]
  },
  {
   "cell_type": "code",
   "execution_count": null,
   "id": "10ab6699",
   "metadata": {},
   "outputs": [],
   "source": [
    "# conclusion - replace value MDMAUD with major_donor, not_major_donor\n",
    "def grp_mdmaud(x): \n",
    "    if x == 'XXXX':\n",
    "        return 'not_major_donor'\n",
    "    else:\n",
    "        return 'major_donor'\n",
    "d_cat['MDMAUD']=list(map(grp_mdmaud,d_cat['MDMAUD']))"
   ]
  },
  {
   "cell_type": "code",
   "execution_count": null,
   "id": "d642066c",
   "metadata": {},
   "outputs": [],
   "source": [
    "grp_mdmaud('XXXX')"
   ]
  },
  {
   "cell_type": "code",
   "execution_count": null,
   "id": "d3d4af1f",
   "metadata": {},
   "outputs": [],
   "source": [
    "d_cat['STATE'].value_counts()"
   ]
  },
  {
   "cell_type": "markdown",
   "id": "e6b0ac1e",
   "metadata": {},
   "source": [
    "how to establish relevance \n",
    "- box plot , cat plot with jitter , map (in tableau or in python eg folium )\n",
    "- groupby state with mean, median,"
   ]
  },
  {
   "cell_type": "code",
   "execution_count": null,
   "id": "49544845",
   "metadata": {},
   "outputs": [],
   "source": [
    "geo=data[['STATE','AVGGIFT']]"
   ]
  },
  {
   "cell_type": "code",
   "execution_count": null,
   "id": "461ef221",
   "metadata": {},
   "outputs": [],
   "source": [
    "geo.to_csv('statewithgift.csv')"
   ]
  },
  {
   "cell_type": "code",
   "execution_count": null,
   "id": "420d4528",
   "metadata": {},
   "outputs": [],
   "source": [
    "grouping=data.groupby(\"STATE\").agg({\"AVGGIFT\": [np.mean, np.median, 'count']})"
   ]
  },
  {
   "cell_type": "code",
   "execution_count": null,
   "id": "f10521eb",
   "metadata": {},
   "outputs": [],
   "source": [
    "grouping.columns=['mean','median','count']"
   ]
  },
  {
   "cell_type": "code",
   "execution_count": null,
   "id": "04da04e8",
   "metadata": {},
   "outputs": [],
   "source": [
    "grouping.sort_values(by='mean', ascending=False)"
   ]
  },
  {
   "cell_type": "code",
   "execution_count": null,
   "id": "2f92db67",
   "metadata": {},
   "outputs": [],
   "source": [
    "ax=sns.catplot(data=data,x='STATE',y='AVGGIFT').set(title='state by state v avg gift amount')\n",
    "ax.fig.set_figwidth(20)"
   ]
  },
  {
   "cell_type": "markdown",
   "id": "e083f8e8",
   "metadata": {},
   "source": [
    "## chi squared test "
   ]
  },
  {
   "cell_type": "markdown",
   "id": "a24bc9e3",
   "metadata": {},
   "source": [
    "- looking for correlation between categories\n",
    "- create a crosstab between the columns \n",
    "- run the test \n",
    "- evaluate the results "
   ]
  },
  {
   "cell_type": "code",
   "execution_count": null,
   "id": "abf65788",
   "metadata": {},
   "outputs": [],
   "source": [
    "from scipy.stats import chi2_contingency\n",
    "# just an example conceptually "
   ]
  },
  {
   "cell_type": "code",
   "execution_count": null,
   "id": "353e9e4e",
   "metadata": {},
   "outputs": [],
   "source": [
    "d_cat.columns"
   ]
  },
  {
   "cell_type": "code",
   "execution_count": null,
   "id": "3fd926c1",
   "metadata": {},
   "outputs": [],
   "source": [
    "data_crosstab=pd.crosstab(d_cat['HOMEOWNR'], d_cat['RFA_2'], margins = False)"
   ]
  },
  {
   "cell_type": "code",
   "execution_count": null,
   "id": "45ba187e",
   "metadata": {},
   "outputs": [],
   "source": [
    "data_crosstab"
   ]
  },
  {
   "cell_type": "code",
   "execution_count": null,
   "id": "1eaa9cbb",
   "metadata": {},
   "outputs": [],
   "source": [
    "chi2_contingency(data_crosstab, correction=False)"
   ]
  },
  {
   "cell_type": "code",
   "execution_count": null,
   "id": "ad7e9078",
   "metadata": {},
   "outputs": [],
   "source": [
    "#this returns 4 results in this order:\n",
    "#(chi-square statistic,\n",
    "# p value, \n",
    "# degrees of freedom, \n",
    "# expected frequencies matrix)"
   ]
  }
 ],
 "metadata": {
  "kernelspec": {
   "display_name": "Python 3 (ipykernel)",
   "language": "python",
   "name": "python3"
  },
  "language_info": {
   "codemirror_mode": {
    "name": "ipython",
    "version": 3
   },
   "file_extension": ".py",
   "mimetype": "text/x-python",
   "name": "python",
   "nbconvert_exporter": "python",
   "pygments_lexer": "ipython3",
   "version": "3.9.7"
  },
  "toc": {
   "base_numbering": 1,
   "nav_menu": {},
   "number_sections": true,
   "sideBar": true,
   "skip_h1_title": false,
   "title_cell": "Table of Contents",
   "title_sidebar": "Contents",
   "toc_cell": false,
   "toc_position": {
    "height": "calc(100% - 180px)",
    "left": "10px",
    "top": "150px",
    "width": "165px"
   },
   "toc_section_display": true,
   "toc_window_display": false
  },
  "varInspector": {
   "cols": {
    "lenName": 16,
    "lenType": 16,
    "lenVar": 40
   },
   "kernels_config": {
    "python": {
     "delete_cmd_postfix": "",
     "delete_cmd_prefix": "del ",
     "library": "var_list.py",
     "varRefreshCmd": "print(var_dic_list())"
    },
    "r": {
     "delete_cmd_postfix": ") ",
     "delete_cmd_prefix": "rm(",
     "library": "var_list.r",
     "varRefreshCmd": "cat(var_dic_list()) "
    }
   },
   "types_to_exclude": [
    "module",
    "function",
    "builtin_function_or_method",
    "instance",
    "_Feature"
   ],
   "window_display": false
  }
 },
 "nbformat": 4,
 "nbformat_minor": 5
}
